{
 "cells": [
  {
   "cell_type": "markdown",
   "id": "c20543d9-68e9-4989-bfe4-3a4a8f363ede",
   "metadata": {},
   "source": [
    "# 10.4 Deep Field Simulations of the WFI\n",
    "\n",
    "In the next step of the tutorial we will simulate and analyse deep field observations with the Athena WFI. We\n",
    "separate this into the generation of the simulation input (Sect. 10.4.1), which is fully independent of the chosen\n",
    "instrument, followed by an observation with all four chips of the WFI (Sect. 10.4.2). Of course, this second step\n",
    "can also be done with any other satellite and detector by simply replacing the chosen XML files."
   ]
  },
  {
   "cell_type": "code",
   "execution_count": null,
   "id": "7db06b4e-1ca0-46a7-b170-a677d2fa9fe9",
   "metadata": {},
   "outputs": [],
   "source": [
    "import copy\n",
    "import glob\n",
    "import matplotlib.colors as colors\n",
    "import matplotlib.image as mpimg\n",
    "import matplotlib.pyplot as plt\n",
    "import matplotlib.patches as patches\n",
    "from matplotlib import rc\n",
    "import numpy as np\n",
    "import os\n",
    "import pandas\n",
    "import time\n",
    "import tempfile\n",
    "import shutil, shlex\n",
    "from math import radians\n",
    "\n",
    "\n",
    "from astropy.io import fits\n",
    "from astropy.visualization import astropy_mpl_style\n",
    "from datetime import datetime\n",
    "from funcs import *\n",
    "from subprocess import check_call, STDOUT\n",
    "from xspec import Xset, Plot, AllData, ModelManager, Spectrum, Model, AllModels, Fit\n",
    "\n",
    "plt.style.use(astropy_mpl_style)\n",
    "\n"
   ]
  },
  {
   "cell_type": "code",
   "execution_count": null,
   "id": "29811f55-2279-4b91-a849-dc930ab10b86",
   "metadata": {},
   "outputs": [],
   "source": [
    "tmpDir = tempfile.mkdtemp()\n",
    "os.environ[\"PFILES\"] = tmpDir + \":\" + os.environ[\"PFILES\"]\n",
    "os.environ[\"HEADASNOQUERY\"] = \"\"\n",
    "os.environ[\"HEADASPROMPT\"] = \"/dev/null/\"\n",
    "SIXTE = os.environ[\"SIXTE\"]\n",
    "xmldir = f\"{SIXTE}/share/sixte/instruments/athena-wfi/wfi_wo_filter_B4C\"\n",
    "\n",
    "xml0=f\"{xmldir}/ld_wfi_ff_chip0.xml\"\n",
    "xml1=f\"{xmldir}/ld_wfi_ff_chip1.xml\"\n",
    "xml2=f\"{xmldir}/ld_wfi_ff_chip2.xml\"\n",
    "xml3=f\"{xmldir}/ld_wfi_ff_chip3.xml\"\n"
   ]
  },
  {
   "cell_type": "markdown",
   "id": "3386e264-eb4d-49d3-9e5e-f3d58618ac5b",
   "metadata": {},
   "source": [
    "## 10.4.1 SIMPUT for a Large Field"
   ]
  },
  {
   "cell_type": "markdown",
   "id": "4819da9b-24dd-4c9f-b077-0440b164e557",
   "metadata": {
    "tags": []
   },
   "source": [
    "### Creating a SIMPUT for several sources with simputfile\n",
    "\n",
    "(We'll use the spectral file *mcrab.xcm* that we created in previous tutorials)"
   ]
  },
  {
   "cell_type": "code",
   "execution_count": null,
   "id": "2f083255-5c1b-4cdd-82e3-8bfde1fce6db",
   "metadata": {
    "tags": []
   },
   "outputs": [],
   "source": [
    "simpar=\"XSPECFile=mcrab.xcm Emin=0.5 Emax=10.0 clobber=yes\"\n",
    "ra = [40.21, 40.31, 40.12, 40.27, 40.29, 40.33]\n",
    "dec = [12.82, 12.83, 12.73, 12.81, 12.73, 12.81]\n",
    "src_flux = [8.3e-12, 2.3e-11, 6.3e-12, 4.1e-12, 3.2e-11, 1.3e-11]\n",
    "l = 0\n",
    "for i, j, k in zip(ra, dec, src_flux):\n",
    "    sim_file = f\"src_0{l}.fits\"\n",
    "    comm = (f\"simputfile RA={i} Dec={j} srcFlux={k} Simput={sim_file} {simpar}\")\n",
    "    #print(comm)\n",
    "    run_comm(comm, \"Creating simput file for several sources\")\n",
    "    l = l + 1\n"
   ]
  },
  {
   "cell_type": "code",
   "execution_count": null,
   "id": "1f83af63-1252-4bda-b78d-0d72ebb38c88",
   "metadata": {},
   "outputs": [],
   "source": [
    "# Merge the simput files\n",
    "\n",
    "opt=\"clobber=yes FetchExtensions=yes\"\n",
    "\n",
    "infile1 = \"src_00.fits\"\n",
    "infile2 = \"src_01.fits\"\n",
    "nfiles = len(ra) # from 00 to 05\n",
    "for i in range(nfiles-1):\n",
    "    if i == nfiles-2:\n",
    "        outfile = \"merged_simput.fits\"\n",
    "    else:\n",
    "        outfile = f\"m_src_0{i+1}.fits\"\n",
    "    comm = (f\"simputmerge {opt} Infile1={infile1} Infile2={infile2} Outfile={outfile}\")\n",
    "    #print(comm)\n",
    "    run_comm(comm,f'Merginig {infile1} and {infile2} into {outfile}')\n",
    "    infile2 = outfile\n",
    "    infile1 = f\"src_0{i+2}.fits\"\n"
   ]
  },
  {
   "cell_type": "markdown",
   "id": "521ec8e7-dfff-46ae-9ced-cd37290252e7",
   "metadata": {},
   "source": [
    "## 10.4.2 Simple Wide Field Simulations"
   ]
  },
  {
   "cell_type": "markdown",
   "id": "bdedc6d3-d06d-4686-b355-c94c3316ba5f",
   "metadata": {},
   "source": [
    "### Viewing the chip geometry with `xml2svg`"
   ]
  },
  {
   "cell_type": "code",
   "execution_count": null,
   "id": "6204e853-8eb5-44c8-8668-0567bdf07384",
   "metadata": {},
   "outputs": [],
   "source": [
    "svg_file = \"athenawfi_fullframe.svg\"\n",
    "pdf_file = \"athenawfi_fullframe.pdf\"\n",
    "\n",
    "comm = (f\"xml2svg XMLFiles='{xml0};{xml1};{xml2};{xml3}' SVGWidth=3000 Border=10 SVGName={svg_file}\")\n",
    "#print(comm)\n",
    "run_comm(comm, 'Getting chip geometry')\n",
    "\n",
    "# conver svg file to pdf\n",
    "run_comm(f\"convert {svg_file} {pdf_file}\", 'Converting svg to pdf')\n",
    "run_comm(f\"xdg-open {pdf_file}\", 'Open the pdf image in the default app')"
   ]
  },
  {
   "cell_type": "markdown",
   "id": "ae46040a-4568-429f-b0e3-cf74fc436746",
   "metadata": {},
   "source": [
    "### Simulating the four WFI chips with `athenwfisim`"
   ]
  },
  {
   "cell_type": "code",
   "execution_count": null,
   "id": "7e6028eb-7ea4-4807-9e88-4cecc73ef0d4",
   "metadata": {},
   "outputs": [],
   "source": [
    "# Running simulation chip by chip with athenafism tool \n",
    "RApoint = 40.21\n",
    "DECpoint = 12.77\n",
    "comm = (f\"athenawfisim XMLFile0={xml0} XMLFile1={xml1} XMLFile2={xml2} XMLFile3={xml3} RA={RApoint} Dec={DECpoint} Prefix='sim_' \" +\n",
    "        f\"Simput=merged_simput.fits EvtFile=evt.fits Exposure=1000 clobber=yes \")\n",
    "#print(comm)\n",
    "run_comm(comm, 'Simulating 4 chips')"
   ]
  },
  {
   "cell_type": "code",
   "execution_count": null,
   "id": "cdf26e27-bc38-4bc7-8b02-a8a09560a8a0",
   "metadata": {},
   "outputs": [],
   "source": [
    "#  merging the 4 chips\n",
    "combined_file = 'sim_combined_evt.fits'\n",
    "comm = (f'ftmerge sim_chip0_evt.fits,sim_chip1_evt.fits,sim_chip2_evt.fits,sim_chip3_evt.fits {combined_file} clobber=yes')\n",
    "run_comm(comm, 'Merging 4 chips')\n",
    "\n",
    "# To inspect the final evt file (same effect as fv/fstrct/fdump command)\n",
    "f = fits.open(combined_file)\n",
    "f.info()\n",
    "print(f[1].columns.names)"
   ]
  },
  {
   "cell_type": "markdown",
   "id": "59d79a9b-50c8-4c9b-a18d-9a628af44441",
   "metadata": {},
   "source": [
    "### Creating an image with `imgev`"
   ]
  },
  {
   "cell_type": "code",
   "execution_count": null,
   "id": "e25adb4b-6a05-4218-9fc7-8e54a5cab405",
   "metadata": {},
   "outputs": [],
   "source": [
    "# Creating image of the full WFI detector with imgev\n",
    "img_file = 'sim_combined_img.fits'\n",
    "comm = (f\"imgev EvtFile={combined_file} Image={img_file} CoordinateSystem=0 Projection='TAN' NAXIS1=1063 NAXIS2=1063 \" +\n",
    "        f\"CUNIT1='deg' CUNIT2='deg' CRVAL1={RApoint} CRVAL2={DECpoint} CRPIX1=532 CRPIX2=532 \" + \n",
    "        f\"CDELT1=-6.207043e-4 CDELT2=6.207043e-4 history=true clobber=yes\")\n",
    "#print(comm)\n",
    "run_comm(comm, \"Creating image of the WFIdetector\")"
   ]
  },
  {
   "cell_type": "code",
   "execution_count": null,
   "id": "660115a7-3bf4-4644-a5cf-61d8906ceccf",
   "metadata": {},
   "outputs": [],
   "source": [
    "image_data = fits.getdata(img_file, ext=0)\n",
    "fig, _axs = plt.subplots(nrows=1, ncols=2, figsize=(16*2,6*2))\n",
    "fig.suptitle(\"Figure 17 (left): image of 4 WFI chip\")\n",
    "axs = _axs.flatten()\n",
    "cmap = plt.cm.winter\n",
    "\n",
    "cdelt = 6.207043e-4\n",
    "crpix = 532\n",
    "\n",
    "# Add secondary axes with coordinates (optional)\n",
    "ra1 = RApoint + crpix*cdelt/np.cos(radians(DECpoint))\n",
    "ra2 = RApoint - crpix*cdelt/np.cos(radians(DECpoint))\n",
    "dec1 = DECpoint - crpix*cdelt\n",
    "dec2 = DECpoint + crpix*cdelt\n",
    "sq_downleft=np.array((ra1, dec1))\n",
    "sq_upright=np.array((ra2, dec2))\n",
    "\n",
    "draw_second_axis(fig, axs, sq_downleft=sq_downleft, sq_upright=sq_upright, ln=1063, mov_ra=20, mov_dec=5, \n",
    "                 lon_lines=17, num_lines=10, mov_x_text=[0, 67], mov_y_text=[17, 20], \n",
    "                 xlabel=r'$\\alpha$/deg', ylabel=r'$\\delta$/deg', num_axis=0, dist_txt=23, \n",
    "                 zero_between=False, display_format='.2f')\n",
    "im = axs[0].imshow(image_data, cmap=cmap, norm=colors.LogNorm(vmin=1e-5, vmax=np.max(image_data), clip=True), origin=\"lower\")\n",
    "axs[0].set_ylim(0, len(image_data))\n",
    "axs[0].set_xlim(0, len(image_data))\n",
    "fig.colorbar(im,ax=axs[0], pad=0.1)\n",
    "\n",
    "# zoomed image\n",
    "x1 = crpix - 250; x2 = crpix+250; y1 = x1; y2 = x2\n",
    "sq11 = RApoint + (crpix-x1)*cdelt/np.cos(radians(DECpoint))\n",
    "sq12 = RApoint - (x2-crpix)*cdelt/np.cos(radians(DECpoint))\n",
    "sq21 = DECpoint - (crpix-y1)*cdelt\n",
    "sq22 = DECpoint + (y2-crpix)*cdelt\n",
    "sq1 = np.array([sq11, sq21])\n",
    "sq2 = np.array([sq12, sq22])\n",
    "\n",
    "rect = patches.Rectangle(xy=(x1, y1), width=(x2-x1), height=(y2-y1), \n",
    "                         edgecolor='C0', facecolor='none', linewidth=2)\n",
    "axs[0].add_patch(rect)\n",
    "\n",
    "img2 = image_data[x1:x2, y1:y2]\n",
    "axs[1].set_ylim(0, len(img2))\n",
    "axs[1].set_xlim(0, len(img2))\n",
    "im = axs[1].imshow(img2, cmap=cmap, norm=colors.LogNorm(vmin=1e-5, vmax=np.max(image_data), clip=True), origin=\"lower\")\n",
    "axs[1].set_yticklabels([])\n",
    "axs[1].set_xticklabels([])\n",
    "draw_second_axis(fig, axs, sq_downleft=sq1, sq_upright=sq2, ln=500, mov_ra=5, mov_dec=1, \n",
    "                 lon_lines=6, num_lines=10, mov_x_text=[0, 30], mov_y_text=[15, 13], \n",
    "                 xlabel=r'$\\alpha$/deg', ylabel=r'$\\delta$/deg', num_axis=1, dist_txt=10, \n",
    "                 zero_between=False, display_format='.3f')\n",
    "fig.colorbar(im,ax=axs[1], pad=0.1)\n"
   ]
  },
  {
   "cell_type": "markdown",
   "id": "88a491a0-d695-42fd-9fe8-cbaa7c846e46",
   "metadata": {},
   "source": [
    "### Creating a spectrum with `makespec`"
   ]
  },
  {
   "cell_type": "code",
   "execution_count": null,
   "id": "172d3c83-3ce3-4fa5-9f85-386769eda028",
   "metadata": {},
   "outputs": [],
   "source": [
    "# Create spectrum for lower source at right side\n",
    "combined_file = 'sim_combined_evt.fits'\n",
    "spec_file = 'sim_combined_spec.pha'\n",
    "comm = (f\"makespec EvtFile={combined_file} Spectrum={spec_file} clobber=yes RSPPath={xmldir} EventFilter='(RA>40.10 && RA<40.14) && Dec>12.71 && Dec<12.75'\")\n",
    "#print(comm)\n",
    "run_comm(comm, 'Generating spectrum')"
   ]
  },
  {
   "cell_type": "code",
   "execution_count": null,
   "id": "25c99817-b8f2-41ba-aaec-f869ecba0293",
   "metadata": {},
   "outputs": [],
   "source": [
    "# shorten ARF and RMF paths\n",
    "f = fits.open(spec_file)\n",
    "rmf = f[1].header['RESPFILE']\n",
    "arf = f[1].header['ANCRFILE']\n",
    "f.close()\n",
    "\n",
    "## create symlinks if not already done (uncomment)\n",
    "#run_comm('ln -s {}'.format(rmf), 'Linking to working directory')\n",
    "#run_comm('ln -s {}'.format(arf), 'Linking to working directory')\n",
    "\n",
    "# strip path in keywords to avoid very long values and update header\n",
    "rmf = os.path.basename(rmf)\n",
    "arf = os.path.basename(arf)\n",
    "f = fits.open(spec_file, 'update')\n",
    "f[1].header['RESPFILE'] = rmf\n",
    "f[1].header['ANCRFILE'] = arf\n",
    "f.close()"
   ]
  },
  {
   "cell_type": "code",
   "execution_count": null,
   "id": "c902c85c-8045-49f4-a0af-e4991cbeee18",
   "metadata": {},
   "outputs": [],
   "source": [
    "# rebin spectral data\n",
    "binspec = \"sim_combined_spec_rebin.pha\"\n",
    "comm = (f\"grppha infile={spec_file} outfile={binspec} clobber=yes comm='group min 20 & exit'\")\n",
    "run_comm(comm, \"Rebinning spectrum\")"
   ]
  },
  {
   "cell_type": "code",
   "execution_count": null,
   "id": "ef3176d0-b9cd-45fd-86ee-325cd2403c88",
   "metadata": {},
   "outputs": [],
   "source": [
    "# Rebin and Plot the spectrum\n",
    "Plot.device = '/null'\n",
    "AllData.clear()\n",
    "AllModels.clear()\n",
    "Plot.device = \"/xs\"\n",
    "Plot.xAxis=\"keV\"\n",
    "s1 = Spectrum(binspec)\n",
    "AllData.ignore(\"bad\")\n",
    "Plot(\"ldata\")"
   ]
  },
  {
   "cell_type": "markdown",
   "id": "158cde9b-f15b-44a6-81a4-c321082361cc",
   "metadata": {},
   "source": [
    "## 10.4.3 Simulating the Chandra Deep Field South\n",
    "\n",
    "Download Files: http://www.sternwarte.uni-erlangen.de/research/sixte/downloads/sixte/simput/CDFS_combined_simput.tgz\n"
   ]
  },
  {
   "cell_type": "code",
   "execution_count": null,
   "id": "28ee356e-a8bf-4ff9-aece-c50443cb168f",
   "metadata": {},
   "outputs": [],
   "source": [
    "# Running simulation chip by chip with athenafism tool \n",
    "RApoint = 53.13\n",
    "DECpoint = -27.8\n",
    "prefix = \"cdfs_\"\n",
    "comm = (f\"athenawfisim XMLFile0={xml0} XMLFile1={xml1} XMLFile2={xml2} XMLFile3={xml3} RA={RApoint} Dec={DECpoint} \" +\n",
    "        f\"Prefix={prefix} Simput=CDFS_cat_lehmer.fits Simput2=CDFS_cat_galaxies.fits EvtFile=evt.fits Exposure=5000 clobber=yes\")\n",
    "#print(comm)\n",
    "run_comm(comm, 'Simulating 4 chips')  "
   ]
  },
  {
   "cell_type": "code",
   "execution_count": null,
   "id": "64052853-b57f-4897-ac81-aec913a9367e",
   "metadata": {},
   "outputs": [],
   "source": [
    "# merging the event files\n",
    "combined_file = f'{prefix}combined_evt.fits'\n",
    "comm = (f\"ftmerge {prefix}chip0_evt.fits,{prefix}chip1_evt.fits,{prefix}chip2_evt.fits,{prefix}chip3_evt.fits \" +\n",
    "        f\"{combined_file} clobber=yes\")\n",
    "run_comm(comm,'Merging 4 chips')\n",
    "# To inspect the final evt file (similar to fstruct/fv/fdump commands)\n",
    "f = fits.open(combined_file)\n",
    "f.info()\n",
    "print(f[1].columns.names)"
   ]
  },
  {
   "cell_type": "code",
   "execution_count": null,
   "id": "5d9395b6-d3e1-4062-95d6-db487feb44c5",
   "metadata": {},
   "outputs": [],
   "source": [
    "# Creating image of the detector with imgev\n",
    "img_file = '{}combined_img.fits'.format(prefix)\n",
    "comm = (f\"imgev EvtFile={combined_file} Image={img_file} CoordinateSystem=0 Projection='TAN' NAXIS1=1063 NAXIS2=1063 \" +\n",
    "        f\"CUNIT1='deg' CUNIT2='deg' CRVAL1={RApoint} CRVAL2={DECpoint} CRPIX1=532 CRPIX2=532 \" + \n",
    "        f\"CDELT1=-6.207043e-4 CDELT2=6.207043e-4\")\n",
    "#print(comm)\n",
    "run_comm(comm, \"Creating Deep Field Image\")"
   ]
  },
  {
   "cell_type": "code",
   "execution_count": null,
   "id": "38726523-fcbd-4ccc-96e6-46a03a14649f",
   "metadata": {
    "tags": []
   },
   "outputs": [],
   "source": [
    "# Plotting image\n",
    "axs = []\n",
    "image_data = fits.getdata(img_file, ext=0)\n",
    "fig, _axs = plt.subplots(nrows=1, ncols=1, figsize=(16,10))\n",
    "fig.suptitle(\"SImulation of the CDFS (5 ks)\")\n",
    "axs.append(_axs)\n",
    "\n",
    "cdelt = 6.207043e-4\n",
    "crpix = 532\n",
    "\n",
    "# Add secondary axes with coordinates (optional)\n",
    "ra1 = RApoint + crpix*cdelt/np.cos(radians(DECpoint))\n",
    "ra2 = RApoint - crpix*cdelt/np.cos(radians(DECpoint))\n",
    "dec1 = DECpoint - crpix*cdelt\n",
    "dec2 = DECpoint + crpix*cdelt\n",
    "\n",
    "sq_downleft = np.array((ra1, dec1))\n",
    "sq_upright = np.array((ra2, dec2))\n",
    "draw_second_axis(fig, axs, sq_downleft=sq_downleft, sq_upright=sq_upright, ln=1063, mov_ra=20, mov_dec=5, \n",
    "                 lon_lines=17, num_lines=10, mov_x_text=[0, 67], mov_y_text=[17, 20], \n",
    "                 xlabel=r'$\\alpha$/deg', ylabel=r'$\\delta$/deg', num_axis=0, dist_txt=8, \n",
    "                 zero_between=False, display_format='.2f')\n",
    "\n",
    "\n",
    "plt.ylim(0, len(image_data))\n",
    "#cmap = plt.cm.winter\n",
    "cmap = plt.cm.Blues_r\n",
    "im = axs[0].imshow(image_data, cmap=cmap, norm=colors.LogNorm(vmin=0.1, vmax=np.max(image_data), clip=True))\n",
    "fig.colorbar(im,ax=_axs)"
   ]
  },
  {
   "cell_type": "markdown",
   "id": "ebe3244b-4a2b-4206-bc11-a99d88a38729",
   "metadata": {},
   "source": [
    "## 10.4.4 Dithering and Exposure Map"
   ]
  },
  {
   "cell_type": "code",
   "execution_count": null,
   "id": "3f8a349d-1750-4d6d-a94f-bb26291322b2",
   "metadata": {},
   "outputs": [],
   "source": [
    "# Generate an Attitude file suited for CDFS\n",
    "att_file = \"attitude_lissajous.fits\"\n",
    "comm = (f\"attgen_dither Attitude={att_file} Amplitude=0.035 SrcRA={RApoint} SrcDec={DECpoint} Exposure=5000\")\n",
    "#print(comm)\n",
    "run_comm(comm, \"Generating Attitude File for CDFS\")"
   ]
  },
  {
   "cell_type": "code",
   "execution_count": null,
   "id": "9edb79cc-9659-4650-9a46-106104e34b59",
   "metadata": {},
   "outputs": [],
   "source": [
    "# Obtaining exposure map:  5 ks snapshot of the attitude at a lower time resolution\n",
    "expo_map = 'expo_map.fits'\n",
    "vig_file = f\"{xmldir}/athena_vig_15row_20171016.fits\"\n",
    "comm = (f'exposure_map Vignetting={vig_file} Attitude={att_file} Exposuremap={expo_map} XMLFile=\"{xml0};{xml1};{xml2};{xml3}\" ' +\n",
    "        f'fov_diameter=70 CoordinateSystem=0 projection_type=TAN NAXIS1=1063 NAXIS2=1063 CUNIT1=deg CUNIT2=deg ' +\n",
    "        f'CRVAL1={RApoint} CRVAL2={DECpoint} CRPIX1=532 CRPIX2=532 CDELT1=-6.207043e-04 CDELT2=6.207043e-04 ' + \n",
    "        f'TSTART=0 timespan=5000.000000 dt=100. chatter=3 clobber=true')\n",
    "#print(comm)\n",
    "run_comm(comm, 'Calculating exposure map')"
   ]
  },
  {
   "cell_type": "code",
   "execution_count": null,
   "id": "c928f5e3-a152-4837-9250-4e0ab5cbd6a2",
   "metadata": {},
   "outputs": [],
   "source": [
    "# plot attitude file and plot exposure map\n",
    "# read coords of attitude file\n",
    "f = fits.open(att_file)\n",
    "ra = f[1].data['RA']\n",
    "dec = f[1].data['Dec']\n",
    "f.close()\n",
    "fig, _axs = plt.subplots(nrows=1, ncols=2, figsize=(16*2,6*2))\n",
    "axs = _axs.flatten()\n",
    "axs[0].plot(ra, dec, 'r-')\n",
    "axs[0].set_xlabel('RA [deg]')\n",
    "axs[0].set_ylabel('Dec [deg]')\n",
    "axs[0].title.set_text('Fig19 Left: Satellite pointing')\n",
    "\n",
    "\n",
    "f = fits.open(expo_map)\n",
    "data = f[0].data\n",
    "f.close()\n",
    "cmap = plt.cm.YlOrBr_r\n",
    "im = axs[1].imshow(data, cmap=cmap)\n",
    "fig.colorbar(im,ax=axs)\n",
    "\n",
    "draw_second_axis(fig, axs, sq_downleft=sq_downleft, sq_upright=sq_upright, ln=1063, mov_ra=20, mov_dec=5, \n",
    "                 lon_lines=17, num_lines=10, mov_x_text=[0, 67], mov_y_text=[17, 20], \n",
    "                 xlabel=r'$\\alpha$/deg', ylabel=r'$\\delta$/deg', num_axis=1, dist_txt=23, \n",
    "                 zero_between=False, display_format='.2f')\n",
    "axs[1].set_ylim(0, len(image_data))\n",
    "axs[1].set_xlim(0, len(image_data))\n",
    "axs[1].set_xticklabels([])\n",
    "axs[1].set_yticklabels([])\n",
    "axs[1].title.set_text('Fig19 right: Exposure map')"
   ]
  },
  {
   "cell_type": "code",
   "execution_count": null,
   "id": "7ca314f5-448b-413e-abe0-6d7d95b4d500",
   "metadata": {},
   "outputs": [],
   "source": [
    "# Run new simulation to remove the detector gaps\n",
    "comm = (f'athenawfisim Attitude={att_file} Prefix=c_att_ XMLFile0={xml0} XMLFile1={xml1} XMLFile2={xml2} XMLFile3={xml3} ' + \n",
    "        f'Simput=CDFS_cat_lehmer.fits Simput2=CDFS_cat_galaxies.fits Exposure=5000 clobber=yes')\n",
    "#print(comm)\n",
    "run_comm(comm, 'Simulating 4 chips')"
   ]
  },
  {
   "cell_type": "code",
   "execution_count": null,
   "id": "fcfd3f3f-d299-4640-a8ab-951803b2cfa3",
   "metadata": {},
   "outputs": [],
   "source": [
    "# merge chips\n",
    "merged_combined_nogap = 'c_att_combined_evt.fits'\n",
    "comm = (f'ftmerge c_att_chip0_evt.fits,c_att_chip1_evt.fits,c_att_chip2_evt.fits,c_att_chip3_evt.fits {merged_combined_nogap} clobber=yes')\n",
    "run_comm(comm, 'Merging 4 event files - no gaps')"
   ]
  },
  {
   "cell_type": "code",
   "execution_count": null,
   "id": "b2fb5e2d-d17a-4838-9c9e-c4f8556c00a7",
   "metadata": {},
   "outputs": [],
   "source": [
    "# Create image\n",
    "img_file = 'c_att_combined_img.fits'\n",
    "comm = (f'imgev EvtFile={merged_combined_nogap} Image={img_file} CoordinateSystem=0 Projection=TAN NAXIS1=1063 ' +\n",
    "        f'NAXIS2=1063 CUNIT1=deg CUNIT2=deg CRVAL1={RApoint} CRVAL2={DECpoint} CRPIX1=532 CRPIX2=532 ' + \n",
    "        f'CDELT1=-6.207043e-04 CDELT2=6.207043e-04 history=true clobber=yes')\n",
    "#print(comm)\n",
    "run_comm(comm, 'Creating no gaps image')"
   ]
  },
  {
   "cell_type": "code",
   "execution_count": null,
   "id": "a86b0ab7-e436-45ec-bc44-26e65d0a28c1",
   "metadata": {},
   "outputs": [],
   "source": [
    "# Plotting Image no gaps\n",
    "axs = []\n",
    "image_data = fits.getdata(img_file, ext=0)\n",
    "fig, _axs = plt.subplots(nrows=1, ncols=1, figsize=(16,10))\n",
    "axs.append(_axs)\n",
    "draw_second_axis(fig, axs, sq_downleft=sq_downleft, sq_upright=sq_upright, ln=1063, \n",
    "                 mov_ra=20, mov_dec=5, lon_lines=17, num_lines=10, mov_x_text=[0, 67], \n",
    "                 mov_y_text=[17, 20], xlabel=r'$\\alpha$/deg', ylabel=r'$\\delta$/deg', \n",
    "                 num_axis=0, dist_txt=23, zero_between=False, display_format='.2f')\n",
    "\n",
    "plt.xlim(0, len(image_data))\n",
    "plt.ylim(0, len(image_data))\n",
    "cmap = plt.cm.winter\n",
    "cmap = plt.cm.Blues_r\n",
    "im = axs[0].imshow(image_data, cmap=cmap, norm=colors.LogNorm(vmin=np.min(image_data)+0.1, vmax=np.max(image_data), clip=True))\n",
    "fig.colorbar(im,ax=_axs)"
   ]
  },
  {
   "cell_type": "code",
   "execution_count": null,
   "id": "d868617b-ec8f-4abd-a82a-ae7b1a4901cf",
   "metadata": {},
   "outputs": [],
   "source": []
  }
 ],
 "metadata": {
  "kernelspec": {
   "display_name": "Python 3",
   "language": "python",
   "name": "python3"
  },
  "language_info": {
   "codemirror_mode": {
    "name": "ipython",
    "version": 3
   },
   "file_extension": ".py",
   "mimetype": "text/x-python",
   "name": "python",
   "nbconvert_exporter": "python",
   "pygments_lexer": "ipython3",
   "version": "3.10.0"
  }
 },
 "nbformat": 4,
 "nbformat_minor": 5
}
