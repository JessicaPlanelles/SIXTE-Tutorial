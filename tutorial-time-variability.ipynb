{
 "cells": [
  {
   "cell_type": "code",
   "execution_count": null,
   "id": "996f426a-0bb9-4d7b-92f6-8bbbb5031d9b",
   "metadata": {},
   "outputs": [],
   "source": [
    "import copy\n",
    "import glob\n",
    "import matplotlib.colors as colors\n",
    "import matplotlib.image as mpimg\n",
    "import matplotlib.pyplot as plt\n",
    "import numpy as np\n",
    "import os\n",
    "import pandas\n",
    "import time\n",
    "import tempfile\n",
    "import shutil, shlex\n",
    "\n",
    "\n",
    "from astropy.io import fits\n",
    "from astropy.visualization import astropy_mpl_style\n",
    "from datetime import datetime\n",
    "from funcs import *\n",
    "from simulation_imports import *\n",
    "from subprocess import check_call, STDOUT\n",
    "from xspec import Xset, Plot, AllData, ModelManager, Spectrum, Model, AllModels, Fit\n",
    "\n",
    "plt.style.use(astropy_mpl_style)\n"
   ]
  },
  {
   "cell_type": "code",
   "execution_count": null,
   "id": "b5847c03-391b-480d-90ef-f9a71120ce2e",
   "metadata": {},
   "outputs": [],
   "source": [
    "tmpDir = tempfile.mkdtemp()\n",
    "os.environ[\"PFILES\"] = tmpDir + \":\" + os.environ[\"PFILES\"]\n",
    "os.environ[\"HEADASNOQUERY\"] = \"\"\n",
    "os.environ[\"HEADASPROMPT\"] = \"/dev/null/\"\n",
    "SIXTE = os.environ[\"SIXTE\"]\n",
    "xmldir = \"{}/share/sixte/instruments/athena-wfi/wfi_wo_filter_15row\".format(SIXTE)\n",
    "\n",
    "#xmldir=\"./xmldir\""
   ]
  },
  {
   "cell_type": "markdown",
   "id": "d8804bfc-eff4-4a53-9a62-1abf4d41af1b",
   "metadata": {},
   "source": [
    "## Ligth curve"
   ]
  },
  {
   "cell_type": "markdown",
   "id": "d79b1697-899d-42e2-9a47-0168f0ff3a95",
   "metadata": {},
   "source": [
    "### Simputfile call with the spectrum mcrab.xcm (same as the one created in \"tutorial-general-intro.ipynb\") with ligth curve"
   ]
  },
  {
   "cell_type": "code",
   "execution_count": null,
   "id": "cb88eadc-e66a-4442-9a04-27c2cde6e6ed",
   "metadata": {},
   "outputs": [],
   "source": [
    "base = \"mcrab\"\n",
    "xcm = \"{}.xcm\".format(base)\n",
    "\n",
    "mcmod = Model(\"phabs*pegpwrlw\")\n",
    "mcmod.phabs.nH = 0.2\n",
    "mcmod.pegpwrlw.PhoIndex = 2.05\n",
    "mcmod.pegpwrlw.eMin = 2.\n",
    "mcmod.pegpwrlw.eMax = 10.\n",
    "mcmod.pegpwrlw.norm = 21.6\n",
    "mcmod.show()\n",
    "\n",
    "rewrite = True\n",
    "if rewrite:\n",
    "    if os.path.exists(xcm):\n",
    "            os.remove(xcm)\n",
    "    Xset.save(xcm)\n",
    "else:\n",
    "    print(\"Xspec file ({}) already exists: it will no be overwritten\".format(xcm)) "
   ]
  },
  {
   "cell_type": "code",
   "execution_count": null,
   "id": "df8aaa99-e968-46df-9689-37e166280077",
   "metadata": {},
   "outputs": [],
   "source": [
    "simput_lightcurve = '{}_lightcurve.fits'.format(base)\n",
    "rewrite = True\n",
    "if rewrite:\n",
    "    if os.path.exists(simput_lightcurve):\n",
    "        os.remove(simput_lightcurve)\n",
    "    # Simputfile with the lightcurve\n",
    "    comm = (\"simputfile Simput=mcrab_lightcurve.fits Src_Name=first RA=0.0  Dec=0.0 srcFlux=2.137e-11 Elow=0.1 Eup=15 NBins=1000 logEgrid=yes Emin=2 Emax=10 MJDREF=55000 \" +\n",
    "        \"LCFile=example_lightcurve.dat XSPECFile=mcrab.xcm clobber=True\")\n",
    "    run_comm(comm, \"Creating simputfile\")\n",
    "    \n",
    "else:\n",
    "       \n",
    "    print(\"SIMPUT file ({}) already exists: it will not be overwritten\".format(simput_lightcurve)) \n",
    "            \n"
   ]
  },
  {
   "cell_type": "markdown",
   "id": "d753c6dc-1a1c-4cbf-a3c8-4997b1030a55",
   "metadata": {},
   "source": [
    "### Example with lightcurve with the flux increasing linearly to 1000\n"
   ]
  },
  {
   "cell_type": "code",
   "execution_count": null,
   "id": "064adbca-7d27-4a5a-9c16-d9e55ab41528",
   "metadata": {},
   "outputs": [],
   "source": [
    "lcurve = \"mcrab_lc_tozero.txt\"\n",
    "t = np.linspace(0, 1000, 1000)\n",
    "flx = np.linspace(1, 0, 1000)\n",
    "a = np.array([t, flx])\n",
    "np.savetxt(lcurve, a.T)\n",
    "\n",
    "#create simputfile\n",
    "rewrite = True\n",
    "simputfile = \"mcrab_lightcurve_tozero.fits\"\n",
    "if rewrite:\n",
    "    if os.path.exists(simputfile):\n",
    "        os.remove(simputfile)\n",
    "    comm = (\"simputfile Simput={} Src_Name=first RA=0. Dec=0. srcFlux=2.16E-11 Elow=0.01 Eup=20. \".format(simputfile) +\n",
    "            \"NBins=1000 logEgrid=yes Emin=2. Emax=10. XSPECFile=mcrab.xcm clobber=yes MJDREF=55000 LCFile={}\".format(lcurve))\n",
    "    run_comm(comm, 'Creating simput file')\n",
    "else:\n",
    "    print(\"SIMPUT file {} exists and will not be overwritten\".format(simputfile))"
   ]
  },
  {
   "cell_type": "code",
   "execution_count": null,
   "id": "0d766c01-210f-49dd-a0fd-2c815fcb09e8",
   "metadata": {},
   "outputs": [],
   "source": [
    "# run simulation with simputfile from lightcurve\n",
    "evtfile = \"mcrab_lightcurve_tozero_evt.fits\"\n",
    "xml = \"{}/ld_wfi_ff_large.xml\".format(xmldir)\n",
    "\n",
    "rewrite = True\n",
    "if rewrite:\n",
    "    if os.path.exists(evtfile):\n",
    "        os.remove(evtfile)\n",
    "    comm = (\"runsixt XMLFile={} RA=0. Dec=0. Prefix='' Simput={} EvtFile={} Exposure=1000 clobber=yes\".format(xml, simputfile, evtfile))\n",
    "    run_comm(comm, \"Running simulation of lightcurve data\")\n",
    "else:\n",
    "    print(\"Simulations file ({}) already exists: it will not be overwritten\".format(evtfile))"
   ]
  },
  {
   "cell_type": "code",
   "execution_count": null,
   "id": "71351a3c-4612-458d-b055-fc3e49a57d12",
   "metadata": {},
   "outputs": [],
   "source": [
    "# create light curve & verify that it decreases to zero\n",
    "lcurve = \"mcrab_tozero_lc.lc\"\n",
    "rewrite = True\n",
    "if rewrite:\n",
    "    if os.path.exists(lcurve):\n",
    "        os.remove(lcurve)\n",
    "    comm = (\"makelc EvtFile={} Lightcurve={} length=1000.0 dt=1.0\".format(evtfile, lcurve))\n",
    "    run_comm(comm, \"Creating lightcurve\")\n",
    "else:\n",
    "    print(\"Light curve ({}) already exists: it will not be overwritten\".format(lcurve))\n",
    "    \n",
    "# convert light curve to TIME COUNTS to plot\n",
    "comm = (\"fdump infile='{}[COUNTS][col TIME=#row*TIMEDEL, COUNTS]' clobber=yes outfile=check_lc.txt col='-' row='-' \".format(lcurve) +\n",
    "        \"prhead=no showrow=no showunit=no\")\n",
    "run_comm(comm, \"Converting lc to TIME, COUNTS\")\n",
    "datalc = pandas.read_table(\"check_lc.txt\", skiprows=0, sep=\"\\s+\")\n",
    "fig, ax = plt.subplots(nrows=1, ncols=1, figsize=(8,3))\n",
    "ax.plot(datalc.TIME, datalc.COUNTS,'o', alpha=0.5)\n",
    "ax.set_xlabel(\"Time/s\")\n",
    "ax.set_ylabel(\"Counts\")\n"
   ]
  },
  {
   "cell_type": "code",
   "execution_count": null,
   "id": "897b77f1-0292-43fb-a764-3a25109f30a6",
   "metadata": {},
   "outputs": [],
   "source": [
    "# extract lc again but now with a bin size of 2s . Plot counts/binsize\n",
    "lcurve = \"sim_mcrab_tozero_bs2.lc\"\n",
    "rewrite = True\n",
    "if rewrite:\n",
    "    if os.path.exists(lcurve):\n",
    "        os.remove(lcurve)\n",
    "    # Only changes dt ---> dt=2.0\n",
    "    comm = (\"makelc EvtFile={} Lightcurve={} length=1000.0 dt=2.0\".format(evtfile, lcurve))\n",
    "    run_comm(comm, \"Creating lightcurve\")\n",
    "else:\n",
    "    print(\"Light curve ({}) already exists: it will not be overwritten\".format(lcurve))\n",
    "      \n",
    "# convert light curve to TIME COUNTS to plot\n",
    "comm = (\"fdump infile='{}[COUNTS][col TIME=#row*TIMEDEL, RATE=COUNTS/TIMEDEL]' clobber=yes \".format(lcurve) +\n",
    "        \"outfile=check_lc_bs2.txt col='-' row='-' prhead=no showrow=no showunit=no\")\n",
    "run_comm(comm, \"Converting lc to TIME, RATE\")\n",
    "datalc = pandas.read_table(\"check_lc_bs2.txt\", skiprows=0, sep=\"\\s+\")\n",
    "fig, ax = plt.subplots(nrows=1, ncols=1, figsize=(8,3))\n",
    "ax.plot(datalc.TIME, datalc.RATE,'o', alpha=0.5)\n",
    "ax.set_xlabel(\"Time/s\")\n",
    "ax.set_ylabel(\"Counts\")\n",
    "print(datalc.TIME)"
   ]
  },
  {
   "cell_type": "markdown",
   "id": "e69fcdaf-2131-4e89-af0e-90c833deb566",
   "metadata": {},
   "source": [
    "## Periodic variability"
   ]
  },
  {
   "cell_type": "markdown",
   "id": "8c3450e3-6151-40f2-b826-4f798a173073",
   "metadata": {},
   "source": [
    "### $\\textbf{Exercise}$: Download the above SIMPUT of the Crab and compare it with the time variable SIMPUT you created in Sect. 10.3.1. Note that the light curve extension in the above file you just downloaded has a different name (which?). Can you spot all differences in the light curve extension between these two SIMPUT files?\n"
   ]
  },
  {
   "cell_type": "code",
   "execution_count": null,
   "id": "0f1f7ae0-0a72-43a2-9f87-dd1fd6f19639",
   "metadata": {},
   "outputs": [],
   "source": [
    "f_lc = fits.open(\"mcrab_lightcurve_tozero.fits\")\n",
    "f_pv = fits.open('crab.simput')\n",
    "print('Light curve: ')\n",
    "f_lc.info()\n",
    "print('Periodic source variability: ')\n",
    "f_pv.info()\n",
    "\n",
    "print('Differences between ligth curve and periodic source variability \"TIMING\" extension')\n",
    "print(f_lc[3].columns.names)\n",
    "print(f_pv[3].columns.names)"
   ]
  },
  {
   "cell_type": "markdown",
   "id": "cfcf91eb-4e71-4a9e-be55-2b6a368fd197",
   "metadata": {},
   "source": [
    "### Add a QPO with a high Q-factor at a frequency of 0.01 Hz to the script that generated mcrab.fits. Then rerun the simulation and extract a light curve again."
   ]
  },
  {
   "cell_type": "code",
   "execution_count": null,
   "id": "1f79e6e9-9c4c-4778-85d7-61de3a7d2bc4",
   "metadata": {},
   "outputs": [],
   "source": [
    "simput_lightcurve_pwr = '{}_lightcurve_pwr.fits'.format(base)\n",
    "rewrite = True\n",
    "if rewrite:\n",
    "    \n",
    "    if os.path.exists(simput_lightcurve_pwr):\n",
    "        os.remove(simput_lightcurve_pwr)\n",
    "    # QPO added with Q1f, Q1Q, Q1rms\n",
    "    comm = (\"simputfile Simput={} Src_Name=first RA=0.0  Dec=0.0 srcFlux=2.137e-11 Elow=0.1 Eup=15 NBins=1000 logEgrid=yes Emin=2 Emax=10 MJDREF=55000 \".format(simput_lightcurve_pwr) +\n",
    "        \" XSPECFile=mcrab.xcm Q1f=0.01 Q1Q=4 Q1rms=0.01 clobber=True \")\n",
    "    run_comm(comm, \"Creating simputfile\")\n",
    "    \n",
    "else:\n",
    "    print(\"SIMPUT file ({}) already exists: it will not be overwritten\".format(simput_lightcurve_pwr)) \n",
    "\n",
    "#run simulation with simputfile from lightcurve\n",
    "evtfile = \"evt_mcrab_lightcurve_pwr.fits\"\n",
    "xmldir = \"{}/share/sixte/instruments/athena-wfi/wfi_wo_filter_15row\".format(SIXTE)\n",
    "xml = \"{}/ld_wfi_ff_large.xml\".format(xmldir)\n",
    "\n",
    "rewrite = True\n",
    "if rewrite:\n",
    "    if os.path.exists(evtfile):\n",
    "        os.remove(evtfile)\n",
    "    comm = (\"runsixt XMLFile={} RA=0. Dec=0. Prefix='' Simput={} EvtFile={} Exposure=1000 clobber=yes\".format(xml, simput_lightcurve_pwr, evtfile))\n",
    "    run_comm(comm, \"Running simulation of lightcurve data\")\n",
    "else:\n",
    "    print(\"Simulations file ({}) already exists: it will not be overwritten\".format(evtfile))"
   ]
  },
  {
   "cell_type": "code",
   "execution_count": null,
   "id": "68054dbf-b318-41c1-85fc-f7d9a452113b",
   "metadata": {},
   "outputs": [],
   "source": [
    "# Create lightcurve\n",
    "lcurve = \"sim_{}_pwr.lc\".format(base)\n",
    "rewrite = True\n",
    "if rewrite:\n",
    "    if os.path.exists(lcurve):\n",
    "        os.remove(lcurve)\n",
    "    comm = (\"makelc EvtFile={} Lightcurve={} length=1000.0 dt=1.0\".format(evtfile, lcurve))\n",
    "    run_comm(comm, \"Creating lightcurve\")\n",
    "else:\n",
    "    print(\"Light curve ({}) already exists: it will not be overwritten\".format(lcurve))\n",
    "    \n",
    "# convert light curve to TIME COUNTS to plot\n",
    "comm = (\"fdump infile='{}[COUNTS][col TIME=#row*TIMEDEL, COUNTS]' clobber=yes outfile=check_lc.txt col='-' row='-' \".format(lcurve) +\n",
    "        \"prhead=no showrow=no showunit=no\")\n",
    "\n",
    "run_comm(comm, \"Converting lc to TIME, COUNTS\")\n",
    "datalc = pandas.read_table(\"check_lc.txt\", skiprows=0, sep=\"\\s+\")\n",
    "fig, ax = plt.subplots(nrows=1, ncols=1, figsize=(24,9))\n",
    "ax.plot(datalc.TIME, datalc.COUNTS,'.-', alpha=0.5)\n",
    "ax.set_xlabel(\"Time/s\")\n",
    "ax.set_ylabel(\"Counts\")\n",
    "#os.remove(\"check_lc.txt\")\n"
   ]
  },
  {
   "cell_type": "markdown",
   "id": "8a0471bb-cd21-41a7-922a-a79dd366f2d9",
   "metadata": {},
   "source": [
    "### $\\textbf{Exercise}$: Use the FITS row filter options (fhelp rowfilter) to select only events that belong to our source and that are in the energy range between 0.5 keV and 1.0 keV."
   ]
  },
  {
   "cell_type": "code",
   "execution_count": null,
   "id": "7ec7651c-9a99-459f-8107-63b6f9f56d94",
   "metadata": {},
   "outputs": [],
   "source": [
    "evtfile = \"evt_{}_lightcurve_pwr.fits\".format(base)\n",
    "lcurve_filt = \"sim_{}_pwr_filt.lc\".format(base)\n",
    "rewrite = True\n",
    "if rewrite:\n",
    "    if os.path.exists(lcurve):\n",
    "        os.remove(lcurve)\n",
    "    comm = (\"makelc EvtFile={}[EVENTS][(SIGNAL>=0.5)&&(SIGNAL<=1)&&(SRC_ID[1]==1)] Lightcurve={} length=1000.0 dt=1.0\".format(evtfile, lcurve_filt))\n",
    "    run_comm(comm, \"Creating lightcurve\")\n",
    "else:\n",
    "    print(\"Light curve ({}) already exists: it will not be overwritten\".format(lcurve))\n",
    "    \n",
    "# convert light curve to TIME COUNTS to plot\n",
    "comm = (\"fdump infile='{}[COUNTS][col TIME=#row*TIMEDEL, COUNTS]' clobber=yes outfile=check_lc.txt col='-' row='-' \".format(lcurve_filt) +\n",
    "        \"prhead=no showrow=no showunit=no\")\n",
    "\n",
    "run_comm(comm, \"Converting lc to TIME, COUNTS\")\n",
    "datalc = pandas.read_table(\"check_lc.txt\", skiprows=0, sep=\"\\s+\")\n",
    "fig, ax = plt.subplots(nrows=1, ncols=1, figsize=(24,9))\n",
    "ax.plot(datalc.TIME, datalc.COUNTS,'.-', alpha=0.5)\n",
    "ax.set_xlabel(\"Time/s\")\n",
    "ax.set_ylabel(\"Counts\")\n"
   ]
  }
 ],
 "metadata": {
  "kernelspec": {
   "display_name": "Python 3",
   "language": "python",
   "name": "python3"
  },
  "language_info": {
   "codemirror_mode": {
    "name": "ipython",
    "version": 3
   },
   "file_extension": ".py",
   "mimetype": "text/x-python",
   "name": "python",
   "nbconvert_exporter": "python",
   "pygments_lexer": "ipython3",
   "version": "3.6.10"
  }
 },
 "nbformat": 4,
 "nbformat_minor": 5
}
