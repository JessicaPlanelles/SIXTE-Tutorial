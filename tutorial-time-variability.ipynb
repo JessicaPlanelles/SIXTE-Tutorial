{
 "cells": [
  {
   "cell_type": "markdown",
   "id": "22bc9724-5fb7-4542-a30f-a59bdba20484",
   "metadata": {},
   "source": [
    "# 10.3 Time Variability\n",
    "\n",
    "Many X-ray astronomical sources are time variable. The SIMPUT format allows to characterize the source\n",
    "variability in several ways:\n",
    "   * As a (energy dependent) light curve, specified through an ASCII file (parameter LCFile, which expects a file in which each row contains two numbers, the time and the flux at that time). Make sure to end the ASCII file with a new line.  \n",
    "   * As a stochastic process defined through its power spectrum, an ASCII file where each row contains a frequency and the power at that frequency,  \n",
    "   * As parameters of the power spectrum, which is defined by the sum of several Lorentzians and a zero-centered low frequency QPO. \n",
    "   \n",
    "In addition the SIMPUT format also allows the specification of source variability through energy dependent pulse profiles.  \n",
    "The Time Variability extension can be used to describe the time dependence of the source flux but it can also be used to create a dynamic spectrum with the source i.e. spectral model of the source that varies with time. The TIMING extension for SIMPUT files can be used to define a spectrum at a given time or phase in a periodic source with the relative flux of the source for the respective spectrum. If this is done the SRC_CAT should not contain a ’NULL’ in the Spectrum column. Note that the timing extension can have any arbitrary name as long at is correctly referenced in the SIMPUT source catalogue. For simplicity, we will call it TIMING in the\n",
    "following, which is the default.\n"
   ]
  },
  {
   "cell_type": "code",
   "execution_count": null,
   "id": "996f426a-0bb9-4d7b-92f6-8bbbb5031d9b",
   "metadata": {},
   "outputs": [],
   "source": [
    "import matplotlib.colors as colors\n",
    "import matplotlib.image as mpimg\n",
    "import matplotlib.pyplot as plt\n",
    "import numpy as np\n",
    "import os\n",
    "import pandas\n",
    "import time\n",
    "import tempfile\n",
    "from funcs import run_comm\n",
    "\n",
    "from astropy.io import fits\n",
    "from astropy.visualization import astropy_mpl_style\n",
    "from datetime import datetime\n",
    "from subprocess import check_call, STDOUT\n",
    "from xspec import Xset, Plot, AllData, ModelManager, Spectrum, Model, AllModels, Fit\n",
    "\n",
    "plt.style.use(astropy_mpl_style)\n"
   ]
  },
  {
   "cell_type": "code",
   "execution_count": null,
   "id": "b5847c03-391b-480d-90ef-f9a71120ce2e",
   "metadata": {},
   "outputs": [],
   "source": [
    "tmpDir = tempfile.mkdtemp()\n",
    "os.environ[\"PFILES\"] = tmpDir + \":\" + os.environ[\"PFILES\"]\n",
    "os.environ[\"HEADASNOQUERY\"] = \"\"\n",
    "os.environ[\"HEADASPROMPT\"] = \"/dev/null/\"\n",
    "SIXTE = os.environ[\"SIXTE\"]\n",
    "xmldir = f\"{SIXTE}/share/sixte/instruments/athena-wfi/wfi_wo_filter_B4C\""
   ]
  },
  {
   "cell_type": "markdown",
   "id": "d8804bfc-eff4-4a53-9a62-1abf4d41af1b",
   "metadata": {},
   "source": [
    "## 10.3.1 Ligth curve"
   ]
  },
  {
   "cell_type": "markdown",
   "id": "d79b1697-899d-42e2-9a47-0168f0ff3a95",
   "metadata": {},
   "source": [
    "### `simputfile` call with the spectrum *mcrab.xcm* (same as the one created in *tutorial-general-intro.ipynb*) with ligth curve"
   ]
  },
  {
   "cell_type": "code",
   "execution_count": null,
   "id": "cb88eadc-e66a-4442-9a04-27c2cde6e6ed",
   "metadata": {},
   "outputs": [],
   "source": [
    "AllModels.clear()\n",
    "base = \"mcrab\"\n",
    "xcm = f\"{base}.xcm\"\n",
    "# define XSPEC parameters\n",
    "Xset.abund = \"wilm\"\n",
    "Xset.cosmo = \"70 0. 0.73\"\n",
    "Xset.xsect = \"bcmc\"\n",
    "mcmod = Model(\"phabs*pegpwrlw\")\n",
    "mcmod.phabs.nH = 0.2\n",
    "mcmod.pegpwrlw.PhoIndex = 2.05\n",
    "mcmod.pegpwrlw.eMin = 2.\n",
    "mcmod.pegpwrlw.eMax = 10.\n",
    "mcmod.pegpwrlw.norm = 21.6\n",
    "mcmod.show()\n",
    "AllModels.calcFlux(\"2. 10.\")\n",
    "simput_flux = AllModels(1).flux[0]"
   ]
  },
  {
   "cell_type": "code",
   "execution_count": null,
   "id": "47a4efe2-dd60-40bd-b8e7-cc899f62fe3e",
   "metadata": {},
   "outputs": [],
   "source": [
    "clobber = True\n",
    "# If clobber is true and the file exists, it will be removed before creating a new one.\n",
    "if os.path.exists(xcm):\n",
    "    if clobber:\n",
    "        os.remove(xcm)\n",
    "    else:\n",
    "        raise Exception(f\"Xspec file ({xcm}) already exists: it will not be overwritten\") \n",
    "Xset.save(xcm)"
   ]
  },
  {
   "cell_type": "code",
   "execution_count": null,
   "id": "df8aaa99-e968-46df-9689-37e166280077",
   "metadata": {},
   "outputs": [],
   "source": [
    "#download example light curve from:  \n",
    "#      https://www.sternwarte.uni-erlangen.de/research/sixte/downloads/example_lightcurve.dat \n",
    "\n",
    "simput_lightcurve = f'{base}_lightcurve.fits'\n",
    "# Simputfile with the lightcurve\n",
    "comm = (f\"simputfile Simput={simput_lightcurve} Src_Name=first RA=0.0  Dec=0.0 srcFlux={simput_flux} \" + \n",
    "        f\"Elow=0.1 Eup=15 NBins=1000 logEgrid=yes Emin=2 Emax=10 MJDREF=55000 \" +\n",
    "        f\"LCFile=example_lightcurve.dat XSPECFile={xcm} clobber=True\")\n",
    "#print(comm)\n",
    "run_comm(comm, \"Creating simputfile with light curve\")\n"
   ]
  },
  {
   "cell_type": "markdown",
   "id": "d816db4b-879d-4849-8299-3f7beccb8a48",
   "metadata": {},
   "source": [
    "### Inspect *mcrab_lightcurve.fits*"
   ]
  },
  {
   "cell_type": "code",
   "execution_count": null,
   "id": "92819727-dc93-4e4d-b557-df806fe23042",
   "metadata": {},
   "outputs": [],
   "source": [
    "f = fits.open(simput_lightcurve)\n",
    "f.info()\n",
    "f[\"TIMING\"].columns.info()\n",
    "f.close()"
   ]
  },
  {
   "cell_type": "markdown",
   "id": "d753c6dc-1a1c-4cbf-a3c8-4997b1030a55",
   "metadata": {},
   "source": [
    "### <span style=\"color:blue\">$\\textbf{Exercise}$</span>:\n",
    "#### Define a 1000 second light curve in a text file, linearly decreasing in flux to 0. Then create a SIMPUT file and simulate it again with `runsixt`."
   ]
  },
  {
   "cell_type": "code",
   "execution_count": null,
   "id": "064adbca-7d27-4a5a-9c16-d9e55ab41528",
   "metadata": {},
   "outputs": [],
   "source": [
    "# 1000s light curve in a text file\n",
    "lcurve = \"lc_tozero.txt\"\n",
    "t = np.linspace(0, 1000, 1000)\n",
    "flx = np.linspace(1, 0, 1000)\n",
    "a = np.array([t, flx])\n",
    "np.savetxt(lcurve, a.T)"
   ]
  },
  {
   "cell_type": "code",
   "execution_count": null,
   "id": "952e13b6-1129-4c94-a536-2fe4f41d8022",
   "metadata": {},
   "outputs": [],
   "source": [
    "#create simputfile\n",
    "simputfile = \"mcrab_lightcurve_tozero.fits\"\n",
    "comm = (f\"simputfile Simput={simputfile} Src_Name=first RA=0. Dec=0. srcFlux={simput_flux} Elow=0.01 Eup=20. \" +\n",
    "        f\"NBins=1000 logEgrid=yes Emin=2. Emax=10. XSPECFile={xcm} clobber=yes MJDREF=55000 LCFile={lcurve}\")\n",
    "#print(comm)\n",
    "run_comm(comm, 'Creating simput file')"
   ]
  },
  {
   "cell_type": "code",
   "execution_count": null,
   "id": "0d766c01-210f-49dd-a0fd-2c815fcb09e8",
   "metadata": {},
   "outputs": [],
   "source": [
    "# run simulation with simputfile from lightcurve\n",
    "evtfile = \"sim_mcrab_lightcurve_tozero.fits\"\n",
    "xml = \"{}/ld_wfi_ff_large.xml\".format(xmldir)\n",
    "comm = (f\"runsixt XMLFile={xml} RA=0. Dec=0. Prefix='' Simput={simputfile} EvtFile={evtfile} \" +\n",
    "        f\"MJDREF=55000 Exposure=1000 clobber=yes\")\n",
    "#print(comm)\n",
    "run_comm(comm, \"Running simulation of lightcurve data\")"
   ]
  },
  {
   "cell_type": "markdown",
   "id": "f3ce14a0-dad4-4e10-b40a-7ac82b1ebebb",
   "metadata": {},
   "source": [
    "### <span style=\"color:blue\">$\\textbf{Exercise}$</span>:\n",
    "#### Create a light curve from the event file and verify it decreases linearly to 0."
   ]
  },
  {
   "cell_type": "code",
   "execution_count": null,
   "id": "71351a3c-4612-458d-b055-fc3e49a57d12",
   "metadata": {},
   "outputs": [],
   "source": [
    "# create light curve & verify that it decreases to zero\n",
    "lcurve = \"mcrab.lc\"\n",
    "comm = (f\"makelc EvtFile={evtfile} Lightcurve={lcurve} length=1000.0 dt=1.0\")\n",
    "#print(comm)\n",
    "run_comm(comm, \"Creating lightcurve\")  "
   ]
  },
  {
   "cell_type": "code",
   "execution_count": null,
   "id": "fb7f5e43-e80f-4362-a1c8-23756f8ec999",
   "metadata": {},
   "outputs": [],
   "source": [
    "# convert light curve to [TIME, COUNTS] to plot\n",
    "f=fits.open(lcurve)\n",
    "TIMEDEL = f[\"COUNTS\"].header[\"TIMEDEL\"]\n",
    "TSTART = f[\"COUNTS\"].header[\"TSTART\"]\n",
    "data = f[\"COUNTS\"].data\n",
    "counts = data[\"COUNTS\"]\n",
    "times = np.arange(len(counts))*TIMEDEL + TSTART\n",
    "times_middle = times + 0.5 * TIMEDEL\n",
    "err_counts = np.sqrt(counts)\n",
    "f.close()\n",
    "# ALSO usinf 'fdump'\n",
    "#comm = (f\"fdump infile='{lcurve}[COUNTS][col TIME=#row*TIMEDEL, COUNTS]' clobber=yes outfile=check_lc.txt col='-' row='-' \" +\n",
    "#        f\"prhead=no showrow=no showunit=no\")\n",
    "#run_comm(comm, \"Converting lc to TIME, COUNTS\")\n",
    "#datalc = pandas.read_table(\"check_lc.txt\", skiprows=0, sep=\"\\s+\")\n",
    "#times = datalc.TIME\n",
    "#counts = datalc.COUNTS\n",
    "\n",
    "fig, ax = plt.subplots(nrows=1, ncols=1, figsize=(8,3))\n",
    "ax.errorbar(times_middle, counts, yerr=err_counts, fmt='.',alpha=0.5)\n",
    "ax.set_xlabel(\"Time [s]\")\n",
    "ax.set_ylabel(\"Counts\");"
   ]
  },
  {
   "cell_type": "markdown",
   "id": "033ca9fa-0093-4549-9fad-69f153a346fa",
   "metadata": {},
   "source": [
    "### <span style=\"color:blue\">$\\textbf{Exercise}$</span>:\n",
    "#### Extract the light curve again, but this time with a bin size of 2 s. Plot the light curve as a count rate"
   ]
  },
  {
   "cell_type": "code",
   "execution_count": null,
   "id": "897b77f1-0292-43fb-a764-3a25109f30a6",
   "metadata": {},
   "outputs": [],
   "source": [
    "# extract lc again but now with a bin size of 2s . Plot counts/binsize\n",
    "lcurve = \"mcrab_bs2.lc\"\n",
    "# Only changes dt ---> dt=2.0\n",
    "comm = (f\"makelc EvtFile={evtfile} Lightcurve={lcurve} length=1000.0 dt=2.0\")\n",
    "#print(comm)\n",
    "run_comm(comm, \"Creating lightcurve\")"
   ]
  },
  {
   "cell_type": "code",
   "execution_count": null,
   "id": "5f951457-8d6b-43cc-8957-4ab9f5ddd1c9",
   "metadata": {},
   "outputs": [],
   "source": [
    "# convert light curve to TIME COUNTS to plot\n",
    "# With FTOOL fdump:\n",
    "#comm = (f\"fdump infile='{lcurve}[COUNTS][col TIME=#row*TIMEDEL, RATE=COUNTS/TIMEDEL]' clobber=yes \" +\n",
    "#        f\"outfile=check_lc_bs2.txt col='-' row='-' prhead=no showrow=no showunit=no\")\n",
    "#run_comm(comm, \"Converting lc to TIME, RATE\")\n",
    "#datalc = pandas.read_table(\"check_lc_bs2.txt\", skiprows=0, sep=\"\\s+\")\n",
    "#times = datalc.TIME\n",
    "#rates = datalc.RATE\n",
    "\n",
    "# With Astropy:\n",
    "f=fits.open(lcurve)\n",
    "TIMEDEL = f[\"COUNTS\"].header[\"TIMEDEL\"]\n",
    "TSTART = f[\"COUNTS\"].header[\"TSTART\"]\n",
    "data = f[\"COUNTS\"].data\n",
    "counts = data[\"COUNTS\"]\n",
    "times = np.arange(len(counts))*TIMEDEL + TSTART\n",
    "rates = counts/TIMEDEL\n",
    "times_middle = times + 0.5 * TIMEDEL\n",
    "err_rates = np.sqrt(counts)/TIMEDEL\n",
    "f.close()\n",
    "\n",
    "fig, ax = plt.subplots(nrows=1, ncols=1, figsize=(8,3))\n",
    "ax.errorbar(times_middle, rates, yerr=err_rates, fmt='.', alpha=0.5)\n",
    "ax.set_xlabel(\"Time [s]\")\n",
    "ax.set_ylabel(\"Rate (ct/s)\");\n"
   ]
  },
  {
   "cell_type": "markdown",
   "id": "e69fcdaf-2131-4e89-af0e-90c833deb566",
   "metadata": {},
   "source": [
    "## 10.3.2 Periodic variability"
   ]
  },
  {
   "cell_type": "markdown",
   "id": "8c3450e3-6151-40f2-b826-4f798a173073",
   "metadata": {},
   "source": [
    "### <span style=\"color:blue\">$\\textbf{Exercise}$</span>:\n",
    "#### Download the above SIMPUT of the Crab (https://www.sternwarte.uni-erlangen.de/research/sixte/simput/crab.simput.tgz) and compare it with the time variable SIMPUT you created in Sect. 10.3.1. Note that the light curve extension in the above file you just downloaded has a different name (which?). Can you spot all differences in the light curve extension between these two SIMPUT files?\n"
   ]
  },
  {
   "cell_type": "code",
   "execution_count": null,
   "id": "0f1f7ae0-0a72-43a2-9f87-dd1fd6f19639",
   "metadata": {
    "tags": []
   },
   "outputs": [],
   "source": [
    "f_lc = fits.open(\"mcrab_lightcurve_tozero.fits\")\n",
    "f_pv = fits.open('crab.simput')\n",
    "print('Time variable SIMPUT from 10.3.1: ')\n",
    "f_lc.info()\n",
    "print('Downloaded SIMPUT of the Crab: ')\n",
    "f_pv.info()\n",
    "\n",
    "print('Differences between both in the \"TIMING\" extension')\n",
    "print(f_lc[3].columns.names)\n",
    "print(f_pv[3].columns.names)"
   ]
  },
  {
   "cell_type": "markdown",
   "id": "8f11cb97-62d1-467a-9edd-d5ac4b2a57f6",
   "metadata": {},
   "source": [
    "## 10.3.3 Power Spectrum"
   ]
  },
  {
   "cell_type": "markdown",
   "id": "cfcf91eb-4e71-4a9e-be55-2b6a368fd197",
   "metadata": {},
   "source": [
    "#### Add a QPO with a high Q-factor at a frequency of 0.01 Hz to the script that generated *mcrab.fits*. Then rerun the simulation and extract a light curve again."
   ]
  },
  {
   "cell_type": "code",
   "execution_count": null,
   "id": "1f79e6e9-9c4c-4778-85d7-61de3a7d2bc4",
   "metadata": {},
   "outputs": [],
   "source": [
    "# recreate simput file\n",
    "simput_lightcurve_pwr = f'{base}_lightcurve_pwr.fits'\n",
    "# QPO added with Q1f, Q1Q, Q1rms\n",
    "comm = (f\"simputfile Simput={simput_lightcurve_pwr} Src_Name=first RA=0.0  Dec=0.0 srcFlux={simput_flux} Elow=0.01 Eup=20. \" +\n",
    "        f\"NBins=1000 logEgrid=yes Emin=2 Emax=10 MJDREF=55000 XSPECFile=mcrab.xcm Q1f=0.01 Q1Q=180 Q1rms=0.01 clobber=True\")\n",
    "#print(comm)\n",
    "run_comm(comm, \"Creating simputfile with power spectrum\")"
   ]
  },
  {
   "cell_type": "code",
   "execution_count": null,
   "id": "c30e7d8c-cadb-4079-9658-f026d92651c2",
   "metadata": {
    "tags": []
   },
   "outputs": [],
   "source": [
    "#run simulation with simputfile from lightcurve\n",
    "evtfile = f\"sim_evt_{base}_lightcurve_pwr.fits\"\n",
    "xml = f\"{xmldir}/ld_wfi_ff_large.xml\"\n",
    "comm = (f\"runsixt XMLFile={xml} RA=0. Dec=0. Prefix='' Simput={simput_lightcurve_pwr} \" + \n",
    "        f\"MJDREF=55000 EvtFile={evtfile} Exposure=1000 clobber=yes\")\n",
    "#print(comm)\n",
    "run_comm(comm, \"Running simulation of lightcurve data\")"
   ]
  },
  {
   "cell_type": "code",
   "execution_count": null,
   "id": "68054dbf-b318-41c1-85fc-f7d9a452113b",
   "metadata": {},
   "outputs": [],
   "source": [
    "# Create lightcurve\n",
    "lcurve = f\"sim_{base}_pwr.lc\"\n",
    "comm = (f\"makelc EvtFile={evtfile} Lightcurve={lcurve} length=1000.0 dt=1.0\")\n",
    "#print(comm)\n",
    "run_comm(comm, \"Creating lightcurve\")"
   ]
  },
  {
   "cell_type": "code",
   "execution_count": null,
   "id": "7bde426b-c3d1-4568-95b6-e6f925bac6c0",
   "metadata": {},
   "outputs": [],
   "source": [
    "# Plot\n",
    "f=fits.open(lcurve)\n",
    "TIMEDEL = f[\"COUNTS\"].header[\"TIMEDEL\"]\n",
    "TSTART = f[\"COUNTS\"].header[\"TSTART\"]\n",
    "data = f[\"COUNTS\"].data\n",
    "counts = data[\"COUNTS\"]\n",
    "times = np.arange(len(counts))*TIMEDEL + TSTART\n",
    "times_middle = times + 0.5 * TIMEDEL\n",
    "err_counts = np.sqrt(counts)\n",
    "f.close()\n",
    "fig, ax = plt.subplots(nrows=1, ncols=1, figsize=(16,6))\n",
    "ax.errorbar(times_middle, counts, yerr=err_counts, fmt='.',alpha=0.5)\n",
    "fig.suptitle(\"QPO ligth curve\")\n",
    "ax.set_xlabel(\"Time [s]\")\n",
    "ax.set_ylabel(\"Counts\");"
   ]
  },
  {
   "cell_type": "markdown",
   "id": "8a0471bb-cd21-41a7-922a-a79dd366f2d9",
   "metadata": {},
   "source": [
    "### <span style=\"color:blue\">$\\textbf{Exercise}$</span>:\n",
    "#### Use the FITS row filter options (`fhelp` `rowfilter`) to select only events that belong to our source and that are in the energy range between 0.5 keV and 1.0 keV."
   ]
  },
  {
   "cell_type": "code",
   "execution_count": null,
   "id": "7ec7651c-9a99-459f-8107-63b6f9f56d94",
   "metadata": {},
   "outputs": [],
   "source": [
    "evtfile = f\"sim_evt_{base}_lightcurve_pwr.fits\"\n",
    "lcurve_filt = f\"sim_{base}_pwr_filt.lc\"\n",
    "comm = (f\"makelc EvtFile=\\\"{evtfile}[EVENTS][(SIGNAL>=0.5) && (SIGNAL<=1.) && (SRC_ID[1]==1)]\\\" Lightcurve={lcurve_filt} \" +\n",
    "        f\"length=1000. dt=1. clobber=yes\")\n",
    "#print(comm)\n",
    "run_comm(comm, \"Creating lightcurve\")"
   ]
  },
  {
   "cell_type": "code",
   "execution_count": null,
   "id": "e8991919-8027-4944-98c7-b920252e8769",
   "metadata": {},
   "outputs": [],
   "source": [
    "# Plot\n",
    "f=fits.open(lcurve_filt)\n",
    "TIMEDEL = f[\"COUNTS\"].header[\"TIMEDEL\"]\n",
    "TSTART = f[\"COUNTS\"].header[\"TSTART\"]\n",
    "data = f[\"COUNTS\"].data\n",
    "counts = data[\"COUNTS\"]\n",
    "err_counts = np.sqrt(counts)\n",
    "times = np.arange(len(counts))*TIMEDEL + TSTART\n",
    "times_middle = times + 0.5 * TIMEDEL\n",
    "f.close()\n",
    "fig, ax = plt.subplots(nrows=1, ncols=1, figsize=(16,6))\n",
    "fig.suptitle(\"Filtered ligth curve\")\n",
    "ax.errorbar(times_middle, counts, yerr=err_counts, fmt='.',alpha=0.5)\n",
    "ax.set_xlabel(\"Time [s]\")\n",
    "ax.set_ylabel(\"Counts\");"
   ]
  }
 ],
 "metadata": {
  "kernelspec": {
   "display_name": "Python 3",
   "language": "python",
   "name": "python3"
  },
  "language_info": {
   "codemirror_mode": {
    "name": "ipython",
    "version": 3
   },
   "file_extension": ".py",
   "mimetype": "text/x-python",
   "name": "python",
   "nbconvert_exporter": "python",
   "pygments_lexer": "ipython3",
   "version": "3.10.0"
  }
 },
 "nbformat": 4,
 "nbformat_minor": 5
}
