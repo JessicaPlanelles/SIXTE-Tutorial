{
 "cells": [
  {
   "cell_type": "markdown",
   "id": "9d219727-9424-4c5e-8216-0ce7f204c031",
   "metadata": {},
   "source": [
    "# 10.7 Simulations of Galaxy Clusters with the X-IFU\n",
    "\n",
    "This section contains a tutorial focused on the simulation of observations of Galaxy Clusters with the Athena\n",
    "X-IFU. Even though we chose a specific type of sources, the simulation approach can be generalized to\n",
    "any extended source featuring significant spectral variation across the field of view. All files necessary to\n",
    "run the following simulations are available for download at http://www.sternwarte.uni-erlangen.de/research/sixte/downloads/X-IFU_clusters_tutorial.tgz\n"
   ]
  },
  {
   "cell_type": "code",
   "execution_count": null,
   "id": "75f6f1a1-451b-47dd-b986-0e57862b156b",
   "metadata": {},
   "outputs": [],
   "source": [
    "import matplotlib.colors as colors\n",
    "import matplotlib.image as mpimg\n",
    "import matplotlib.pyplot as plt\n",
    "import matplotlib.patches as patches\n",
    "import numpy as np\n",
    "import os\n",
    "import time\n",
    "import tempfile\n",
    "\n",
    "from astropy.io import fits\n",
    "from astropy.wcs import WCS\n",
    "from astropy.visualization import astropy_mpl_style\n",
    "from datetime import datetime\n",
    "from funcs import run_comm\n",
    "from subprocess import check_call, STDOUT\n",
    "from xspec import Xset, Plot, AllData, ModelManager, Spectrum, Model, AllModels, Fit\n",
    "\n",
    "plt.style.use(astropy_mpl_style)\n"
   ]
  },
  {
   "cell_type": "code",
   "execution_count": null,
   "id": "acda8903-189f-4278-a134-da3df6e06e99",
   "metadata": {},
   "outputs": [],
   "source": [
    "tmpDir = tempfile.mkdtemp()\n",
    "os.environ[\"PFILES\"] = tmpDir + \":\" + os.environ[\"PFILES\"]\n",
    "os.environ[\"HEADASNOQUERY\"] = \"\"\n",
    "os.environ[\"HEADASPROMPT\"] = \"/dev/null/\"\n",
    "SIXTE = os.environ[\"SIXTE\"]\n",
    "xmldir = f\"{SIXTE}/share/sixte/instruments/athena-xifu\"\n",
    "xml = f\"{xmldir}/xifu_baseline.xml\"\n",
    "AdvXml = f\"{xmldir}/xifu_detector_lpa25_tdm_33_275um_20211103.xml\"\n",
    "os.chdir(\"X-IFU_clusters_tutorial\")"
   ]
  },
  {
   "cell_type": "markdown",
   "id": "ad5857b9-756e-46f6-b470-f44c81fbb6a1",
   "metadata": {},
   "source": [
    "## 10.7.1 SIMPUT file for 3D data\n",
    "\n",
    "The main difficulty of simulating a galaxy cluster observation lies in the building of a suitable SIMPUT file\n",
    "containing all the information probed by a high-resolution integrated field unit like the X-IFU. To illustrate\n",
    "this, let us first take a simple point source defined by an XSPEC spectrum with significant line emission\n",
    "(*xifu_point_source.xcm file*):"
   ]
  },
  {
   "cell_type": "code",
   "execution_count": null,
   "id": "8a7f3990-7521-4d9b-913e-a51afc0b3852",
   "metadata": {},
   "outputs": [],
   "source": [
    "# Simput file for xifu_point_source.xcm (download needed)\n",
    "\n",
    "xcm = 'xifu_point_source.xcm'\n",
    "sim_file = 'xifu_point_source.simput'\n",
    "\n",
    "RA=239.064583333\n",
    "Dec=66.3470277776\n",
    "srcFlux=2e-12\n",
    "Emin = 0.1\n",
    "Emax = 10.\n",
    "\n",
    "comm = (f'simputfile Simput={sim_file} RA={RA} Dec={Dec} srcFlux={srcFlux} Emin={Emin} Emax={Emax} ' + \n",
    "        f'XSPECFile={xcm} clobber=yes')\n",
    "#print(comm)\n",
    "run_comm(comm, 'Creating simput file for point source')"
   ]
  },
  {
   "cell_type": "code",
   "execution_count": null,
   "id": "38f218d9-0b12-4fb4-8084-95638772ec98",
   "metadata": {},
   "outputs": [],
   "source": [
    "# Running simulation\n",
    "\n",
    "evt_file = 'xifu_point_source_evt.fits'\n",
    "comm = (f'xifupipeline XMLFile={xml} AdvXml={AdvXml} RA={RA} Dec={Dec} ' + \n",
    "        f'EvtFile={evt_file} Simput={sim_file} Exposure=100000 clobber=yes')\n",
    "#print(comm)\n",
    "run_comm(comm,'Simulating simput file for point source')"
   ]
  },
  {
   "cell_type": "code",
   "execution_count": null,
   "id": "7f1a10fc-1285-44c5-b9b1-15c173bbe469",
   "metadata": {},
   "outputs": [],
   "source": [
    "# Create spectrum\n",
    "spec_file = 'xifu_point_source_spec.pha'\n",
    "comm = (f\"makespec EvtFile={evt_file} Spectrum={spec_file}  EventFilter='GRADING==1' clobber=yes RSPPath={xmldir}\") \n",
    "#print(comm)\n",
    "run_comm(comm,'Generating spectrum')"
   ]
  },
  {
   "cell_type": "code",
   "execution_count": null,
   "id": "17d24178-e2ad-4f06-8129-044040bb8e86",
   "metadata": {
    "tags": []
   },
   "outputs": [],
   "source": [
    "Plot.device = '/null'\n",
    "AllData.clear()\n",
    "AllModels.clear()\n",
    "s1 = Spectrum(spec_file)\n",
    "m0 = Model(\"phabs*apec\")\n",
    "Xset.abund = \"wilm\"\n",
    "Xset.cosmo = \"70 0. 0.73\"\n",
    "Xset.xsect = \"bcmc\"\n",
    "m0.phabs.nH = 0.2\n",
    "m0.apec.kT = 1.5\n",
    "m0.apec.Abundanc = 0.75\n",
    "s1.ignore('**-0.8')\n",
    "s1.ignore('3.0-**')\n",
    "Fit.perform()\n",
    "\n",
    "Plot.device = \"/xs\"\n",
    "Plot.xAxis=\"keV\"\n",
    "Plot(\"ufs\",\"delchi\")\n",
    "Plot.device = '/null'"
   ]
  },
  {
   "cell_type": "markdown",
   "id": "56475ce4-59bd-4716-bda1-3abdc73b5153",
   "metadata": {},
   "source": [
    "### Using existing 2D maps\n",
    "\n",
    "Use the results obtained by Russell et al. (2012) with Chandra on the galaxy cluster **Abell 2146** for which they could derive temperature and abundance maps (see Figure 21). The brute force approach would be to define a SIMPUT catalog containing one source per input image pixel. If this would be suitable for parameters randomly distributed across the images, astrophysical sources typically feature strong correlations between physical quantities. To take advantage of this property and reduce the amount of sources and spectra in the catalog, the `simputmultispec` tool was developed. It takes as input a series of parameter maps and will create a SIMPUT catalog containing extended sources corresponding to regions with similar parameters according to a given binning.\n"
   ]
  },
  {
   "cell_type": "code",
   "execution_count": null,
   "id": "3f4facc8-0c99-451f-bb50-daf3f2247fe3",
   "metadata": {},
   "outputs": [],
   "source": [
    "# 1st solution: Using existing 2D maps\n",
    "\n",
    "xcm = 'xifu_point_source.xcm'\n",
    "sim_file = 'clusterA2146.simput'\n",
    "img_file = \"A2146_SXB_russel_coord_cal.fits\"\n",
    "param_files = \"'A2146_kt_russel_coord_cal.fits;A2146_ab_russel_coord_cal.fits'\"\n",
    "\n",
    "RA=239.064583333\n",
    "Dec=66.3470277776\n",
    "srcFlux=7.995076796356145e-12\n",
    "Emin = 0.5\n",
    "Emax = 10.0\n",
    "Elow = 0.2\n",
    "Eup = 12.\n",
    "comm = (f'simputmultispec Simput={sim_file} XSPECFile={xcm} ImageFile={img_file} ParamFiles={param_files} ' + \n",
    "        f'ParamNames=\"2;3\" ParamsLogScale=\"yes;no\" ParamsNumValues=\"8;8\" Emin={Emin} Emax={Emax} RA={RA} Dec={Dec} ' +\n",
    "        f'srcFlux={srcFlux} Elow={Elow} Eup={Eup} Estep=0.00025 clobber=yes')\n",
    "#print(comm)\n",
    "run_comm(comm,'Creating simput file for point source')"
   ]
  },
  {
   "cell_type": "markdown",
   "id": "fb3688ed-225d-4237-b37a-f32d64450d3d",
   "metadata": {},
   "source": [
    "#### Running simulation with `xifupipeline`as indicated in **Section 10.7.2**"
   ]
  },
  {
   "cell_type": "code",
   "execution_count": null,
   "id": "416f60a7-d42e-4656-a97f-a1b48c73981e",
   "metadata": {},
   "outputs": [],
   "source": [
    "# Running simulation with xifupipeline\n",
    "evt_file = '2d_maps_evt.fits'\n",
    "comm = (f'xifupipeline XMLFile={xml} AdvXml={AdvXml} RA={RA} Dec={Dec} ' +\n",
    "        f'EvtFile={evt_file} Simput={sim_file} Exposure=100000 clobber=yes')\n",
    "#print(comm)\n",
    "run_comm(comm,'Simulating simput file')"
   ]
  },
  {
   "cell_type": "code",
   "execution_count": null,
   "id": "c3ffbc6f-5ddc-44e7-8f90-60b4c3fa9855",
   "metadata": {},
   "outputs": [],
   "source": [
    "# modify the EVT file to use later (DS9-type) regions to extract spectra\n",
    "comm = (f'radec2xy EvtFile={evt_file} refRA={RA} refDec={Dec} Projection=AIT')\n",
    "#print(comm)\n",
    "run_comm(comm,f'Adding X,Y coordinates to {evt_file} file')"
   ]
  },
  {
   "cell_type": "code",
   "execution_count": null,
   "id": "e31c45b2-4357-45d0-b83f-4cae15692356",
   "metadata": {},
   "outputs": [],
   "source": [
    "#create region files (central and outer)\n",
    "src_radius = 10. # arcsec radius\n",
    "core_reg = (239.0655,66.347052,src_radius) # deg\n",
    "outskirts_reg = (239.03272,66.364708,src_radius) #deg\n",
    "\n",
    "with open('core.reg', 'w') as f:\n",
    "    f.write(f'fk5\\n')\n",
    "    f.write(f'circle({core_reg[0]},{core_reg[1]}, {core_reg[2]}\") # text={{Core}}\\n')\n",
    "\n",
    "with open('outskirts.reg', 'w') as f:\n",
    "    f.write(f'fk5\\n')\n",
    "    f.write(f'circle({outskirts_reg[0]},{outskirts_reg[1]},{outskirts_reg[2]}\") # text={{outskirts}}\\n')\n",
    "    "
   ]
  },
  {
   "cell_type": "code",
   "execution_count": null,
   "id": "6f7f5594-70b2-4dde-abea-1214c36ab1aa",
   "metadata": {
    "tags": []
   },
   "outputs": [],
   "source": [
    "# creating image\n",
    "img_file = '2d_maps_img.fits'\n",
    "comm = (f'imgev EvtFile={evt_file} Image={img_file} CoordinateSystem=0 Projection=TAN CUNIT1=deg CUNIT2=deg ' + \n",
    "        f'NAXIS1=80 NAXIS2=80 CRVAL1={RA} CRVAL2={Dec} CDELT1=-0.0011888874248538006 CDELT2=0.0011888874248538006 ' +\n",
    "        f'CRPIX1=40.5 CRPIX2=40.5 clobber=yes')\n",
    "#print(comm)\n",
    "run_comm(comm, \"Creating image\")"
   ]
  },
  {
   "cell_type": "code",
   "execution_count": null,
   "id": "4cad949f-1369-48b5-9c00-10d92a0640d4",
   "metadata": {},
   "outputs": [],
   "source": [
    "image_data = fits.getdata(img_file, ext=0)\n",
    "hdu = fits.open(img_file)[0]\n",
    "wcs = WCS(hdu.header)\n",
    "\n",
    "fig = plt.figure(figsize=(20,8))\n",
    "\n",
    "#plot images (left: minimum cut in counts=800; better contrast)\n",
    "ax = fig.add_subplot(1, 2, 1, projection=wcs)\n",
    "ax.scatter(core_reg[0], core_reg[1], transform=ax.get_transform('fk5'), s=300,\n",
    "           edgecolor='C0', facecolor='none', linewidth=2,label='Spec 1')\n",
    "ax.scatter(outskirts_reg[0], outskirts_reg[1], transform=ax.get_transform('fk5'), s=300,\n",
    "           edgecolor='white', facecolor='none', linestyle='--',linewidth=2,label='Spec 2')\n",
    "ax.legend()\n",
    "cmap = plt.cm.gist_heat\n",
    "im = ax.imshow(image_data, cmap=cmap, norm=colors.LogNorm(vmin=800, vmax=5000, clip=True), origin='lower')\n",
    "ax.set_xlabel(\"RA\")\n",
    "ax.set_ylabel(\"Dec\")\n",
    "fig.colorbar(im,ax=ax, pad=0.1)\n",
    "\n",
    "#plot images (right: minimum cut in counts=1 to see the hexagon)\n",
    "ax = fig.add_subplot(1, 2, 2, projection=wcs)\n",
    "ax.scatter(core_reg[0], core_reg[1], transform=ax.get_transform('fk5'), s=300,\n",
    "           edgecolor='C0', facecolor='none', linewidth=2,label='Spec 1')\n",
    "ax.scatter(outskirts_reg[0], outskirts_reg[1], transform=ax.get_transform('fk5'), s=300,\n",
    "           edgecolor='white', facecolor='none', linestyle='--',linewidth=2,label='Spec 2')\n",
    "ax.legend()\n",
    "cmap = plt.cm.gist_heat\n",
    "im = ax.imshow(image_data, cmap=cmap, norm=colors.LogNorm(vmin=1, vmax=5000, clip=True), origin='lower')\n",
    "ax.set_xlabel(\"RA\")\n",
    "ax.set_ylabel(\"Dec\")\n",
    "fig.colorbar(im,ax=ax, pad=0.1)\n"
   ]
  },
  {
   "cell_type": "code",
   "execution_count": null,
   "id": "f4aa8d2c-a100-45c6-b6dc-25bd17453f1a",
   "metadata": {},
   "outputs": [],
   "source": [
    "### Create spectrum center\n",
    "spec_file = 'xifu_center_spec.pha'\n",
    "comm = (f\"makespec EvtFile={evt_file} Spectrum={spec_file} RSPPath={xmldir} EventFilter='regfilter(\\\"core.reg\\\")'\")\n",
    "print(comm)\n",
    "run_comm(comm, 'Generating central spectrum')"
   ]
  },
  {
   "cell_type": "code",
   "execution_count": null,
   "id": "077889c1-e162-41ed-9482-3a8dc7b2fb0b",
   "metadata": {},
   "outputs": [],
   "source": [
    "# rebin spectral data\n",
    "binspec = \"xifu_center_spec_rebin.pha\"\n",
    "comm = (f\"grppha infile={spec_file} outfile={binspec} clobber=yes comm='group min 20 & exit'\")\n",
    "run_comm(comm, \"Rebinning spectrum\")"
   ]
  },
  {
   "cell_type": "code",
   "execution_count": null,
   "id": "38b569e3-1491-4db8-a952-b83c845bad98",
   "metadata": {},
   "outputs": [],
   "source": [
    "# Plot central spectrum\n",
    "Plot.device = '/null'\n",
    "AllData.clear()\n",
    "AllModels.clear()\n",
    "\n",
    "Plot.device = \"/xs\"\n",
    "Plot.xAxis=\"keV\"\n",
    "\n",
    "AllData.clear()\n",
    "s1 = Spectrum(binspec)\n",
    "s1.ignore(\"**-0.5\")\n",
    "s1.ignore(\"7.0-**\")\n",
    "AllData.ignore(\"bad\")\n",
    "Plot(\"ldata\")\n",
    "Plot.device = '/null'"
   ]
  },
  {
   "cell_type": "code",
   "execution_count": null,
   "id": "72dc798b-5459-45d4-87a4-e1395e1d7cd2",
   "metadata": {},
   "outputs": [],
   "source": [
    "# Create spectrum outside\n",
    "spec_file = 'xifu_outside_spec.pha'\n",
    "comm = (f\"makespec EvtFile={evt_file} Spectrum={spec_file} RSPPath={xmldir} EventFilter='regfilter(\\\"outskirts.reg\\\")'\")\n",
    "#print(comm)\n",
    "run_comm(comm,'Generating spectrum')"
   ]
  },
  {
   "cell_type": "code",
   "execution_count": null,
   "id": "70dc73f8-56d1-4548-b116-a94d186e6b60",
   "metadata": {},
   "outputs": [],
   "source": [
    "# rebin spectral data\n",
    "binspec = \"xifu_outside_spec_rebin.pha\"\n",
    "comm = (f\"grppha infile={spec_file} outfile={binspec} clobber=yes comm='group min 20 & exit'\")\n",
    "run_comm(comm, \"Rebinning spectrum\")"
   ]
  },
  {
   "cell_type": "code",
   "execution_count": null,
   "id": "0446cda3-2179-486e-a104-2b4a3d09ae00",
   "metadata": {},
   "outputs": [],
   "source": [
    "# Plot outside spectrum\n",
    "Plot.device = '/null'\n",
    "AllData.clear()\n",
    "AllModels.clear()\n",
    "\n",
    "Plot.device = \"/xs\"\n",
    "Plot.xAxis=\"KeV\"\n",
    "\n",
    "AllData.clear()\n",
    "s1 = Spectrum(binspec)\n",
    "s1.ignore(\"**-0.5\")\n",
    "s1.ignore(\"8.0-**\")\n",
    "AllData.ignore(\"bad\")\n",
    "Plot(\"ldata\")\n",
    "Plot.device = '/null'"
   ]
  },
  {
   "cell_type": "markdown",
   "id": "7830748a-a4bf-4d07-b82a-c28bab1308d2",
   "metadata": {},
   "source": [
    "### Using galaxy cluster simulations\n",
    "The second approach will present a SIMPUT tool called `simputmulticell`, specifically designed to provide an interface between SIXTE and 3D data extracted from either toy models or cosmological simulations.\n",
    "\n",
    "We'll use a 3D dataset saved in a FITS table containing for each point of the grid its position on the sky, temperature, iron abundance and X-ray flux (*xifu_3D_grid.fits*)\n",
    "\n",
    "We the call `simputmulticell` to construct from this table an optimized SIMPUT catalog that will only contain a limited number of spectra taking advantage of the correlation between the different parameters in a similar way as the `simputmultispec` tool\n"
   ]
  },
  {
   "cell_type": "code",
   "execution_count": null,
   "id": "35a743b7-9737-44bf-a913-d35daab19bb4",
   "metadata": {
    "tags": []
   },
   "outputs": [],
   "source": [
    "# 2nd solution: Using galaxy cluster simulations\n",
    "\n",
    "xcm = 'wabs_vapec_cosmo.xcm'\n",
    "sim_file = 'xifu_3D.simput'\n",
    "param_files = \"xifu_3D_grid.fits\"\n",
    "\n",
    "comm = (f'simputmulticell ParamFile={param_files} ParamInputNames=\"T;FE_ABUND\" ParamNames=\"2;14\" InputType=TABLE ' + \n",
    "        f'XSPECFile={xcm} ParamsLogScale=\"no;no\" ParamsNumValues=\"100;100\" Estep=0.00025 Emin=0.2 Emax=12.0 ' +\n",
    "        f'Elow=0.2 Eup=12 clobber=yes Simput={sim_file}')\n",
    "#print(comm)\n",
    "run_comm(comm, 'Creating simput file for point source')"
   ]
  },
  {
   "cell_type": "markdown",
   "id": "c89190a9-de97-403f-81f5-7f875820411b",
   "metadata": {},
   "source": [
    "#### Running simulation with `xifupipeline`as indicated in **Section 10.7.2**"
   ]
  },
  {
   "cell_type": "code",
   "execution_count": null,
   "id": "d028b7f0-3222-4442-ac50-42e290dc9df8",
   "metadata": {
    "tags": []
   },
   "outputs": [],
   "source": [
    "# Running simulation\n",
    "RA = 0\n",
    "Dec = 0\n",
    "evt_file = 'gal_clusters_sim_evt.fits'\n",
    "comm = (f'xifupipeline XMLFile={xml} AdvXml={AdvXml} RA={RA} Dec={Dec} EvtFile={evt_file} ' +\n",
    "        f'Simput={sim_file} Exposure=1000 clobber=yes')\n",
    "#print(comm)\n",
    "run_comm(comm,'Simulating simput file')"
   ]
  },
  {
   "cell_type": "code",
   "execution_count": null,
   "id": "75d60a88-94d2-46e7-b024-3d52f9bd145a",
   "metadata": {
    "tags": []
   },
   "outputs": [],
   "source": [
    "# Creating image\n",
    "img_file = 'gal_clusters_sim_img.fits'\n",
    "\n",
    "comm = (f'imgev EvtFile={evt_file} Image={img_file} CoordinateSystem=0 Projection=TAN CUNIT1=deg CUNIT2=deg ' + \n",
    "        f'NAXIS1=80 NAXIS2=80 CRVAL1={RA} CRVAL2={Dec} CDELT1=-0.0011888874248538006 CDELT2=0.0011888874248538006 ' + \n",
    "        f'CRPIX1=40.5 CRPIX2=40.5 clobber=yes')\n",
    "#print(comm)\n",
    "run_comm(comm,'Creating clusters simulation image')"
   ]
  },
  {
   "cell_type": "code",
   "execution_count": null,
   "id": "e965123f-d2bc-4fa1-a148-7db2cd6dd27d",
   "metadata": {},
   "outputs": [],
   "source": [
    "image_data = fits.getdata(img_file, ext=0)\n",
    "hdu = fits.open(img_file)[0]\n",
    "wcs = WCS(hdu.header)\n",
    "\n",
    "fig = plt.figure(figsize=(12,8))\n",
    "\n",
    "#plot image\n",
    "ax = fig.add_subplot(1, 1, 1, projection=wcs)\n",
    "cmap = plt.cm.gist_heat\n",
    "im = ax.imshow(image_data, cmap=cmap, norm=colors.LogNorm(vmin=0.01, vmax=200, clip=True), origin='lower')\n",
    "ax.set_xlabel(\"RA\")\n",
    "ax.set_ylabel(\"Dec\")\n",
    "fig.colorbar(im,ax=ax, pad=0.1)\n"
   ]
  },
  {
   "cell_type": "markdown",
   "id": "682f2a3d-6017-473a-b605-765f84afb9eb",
   "metadata": {},
   "source": [
    "To reproduce the spectrum of Fig.23 a 1Ms simulation should be performed. After that, command sequence should be as always:"
   ]
  },
  {
   "cell_type": "code",
   "execution_count": null,
   "id": "12a2b911-0da6-449d-8ab0-3c560ba81f05",
   "metadata": {},
   "outputs": [],
   "source": [
    "# Extract spectrum of pixel 1955 using only High Resolution Events\n",
    "spec_file = 'gal_clusters_sim_spec.pha'\n",
    "comm = (f\"makespec EvtFile={evt_file} Spectrum={spec_file} EventFilter='GRADING==1 && PIXID==1955' \" +\n",
    "        f\"clobber=yes RSPPath={xmldir}\")\n",
    "#print(comm)\n",
    "run_comm(comm,'Generating spectrum')\n",
    "\n",
    "# rebin spectral data\n",
    "binspec = \"gal_clusters_sim_spec_rebin.pha\"\n",
    "comm = (f\"grppha infile={spec_file} outfile={binspec} clobber=yes comm='group min 20 & exit'\")\n",
    "run_comm(comm, \"Rebinning spectrum\")"
   ]
  },
  {
   "cell_type": "markdown",
   "id": "b4477964-7e55-4c60-8ea5-109972ea7abd",
   "metadata": {},
   "source": [
    "#### Visualize the geometry defined in the XML file with `xml2svg` (Fig. 24)"
   ]
  },
  {
   "cell_type": "code",
   "execution_count": null,
   "id": "405ee711-6a29-466c-abd9-c68386d9aace",
   "metadata": {},
   "outputs": [],
   "source": [
    "svg_file = \"xifu_baseline.svg\"\n",
    "pdf_file = \"xifu_baseline.pdf\"\n",
    "comm = (f\"xml2svg XMLFiles={AdvXml} SVGName={svg_file} SVGWidth=3000 Border=10 DrawN=3832 WriteID=yes\")\n",
    "#print(comm)\n",
    "run_comm(comm, 'Getting chip geometry')\n",
    "\n",
    "# conver svg file to pdf\n",
    "run_comm(f\"convert {svg_file} {pdf_file}\", 'Converting svg to pdf')\n",
    "run_comm(f\"xdg-open {pdf_file}\", 'Open the pdf image in the default app')"
   ]
  }
 ],
 "metadata": {
  "kernelspec": {
   "display_name": "Python 3",
   "language": "python",
   "name": "python3"
  },
  "language_info": {
   "codemirror_mode": {
    "name": "ipython",
    "version": 3
   },
   "file_extension": ".py",
   "mimetype": "text/x-python",
   "name": "python",
   "nbconvert_exporter": "python",
   "pygments_lexer": "ipython3",
   "version": "3.10.0"
  }
 },
 "nbformat": 4,
 "nbformat_minor": 5
}
