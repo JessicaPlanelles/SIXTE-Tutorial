{
 "cells": [
  {
   "cell_type": "code",
   "execution_count": null,
   "id": "6acabe68-0b39-4d4a-a405-d622fb075a2c",
   "metadata": {},
   "outputs": [],
   "source": [
    "import copy\n",
    "import glob\n",
    "import matplotlib.colors as colors\n",
    "import matplotlib.image as mpimg\n",
    "import matplotlib.pyplot as plt\n",
    "import numpy as np\n",
    "import os\n",
    "import pandas\n",
    "import time\n",
    "import tempfile\n",
    "import shutil, shlex\n",
    "\n",
    "\n",
    "from astropy.io import fits\n",
    "from astropy.visualization import astropy_mpl_style\n",
    "from datetime import datetime\n",
    "from funcs import *\n",
    "from simulation_imports import *\n",
    "from subprocess import check_call, STDOUT\n",
    "from xspec import Xset, Plot, AllData, ModelManager, Spectrum, Model, AllModels, Fit\n",
    "\n",
    "plt.style.use(astropy_mpl_style)\n"
   ]
  },
  {
   "cell_type": "code",
   "execution_count": null,
   "id": "5e11d24c-26ed-4391-8f73-b4d56fb7b881",
   "metadata": {},
   "outputs": [],
   "source": [
    "tmpDir = tempfile.mkdtemp()\n",
    "os.environ[\"PFILES\"] = tmpDir + \":\" + os.environ[\"PFILES\"]\n",
    "os.environ[\"HEADASNOQUERY\"] = \"\"\n",
    "os.environ[\"HEADASPROMPT\"] = \"/dev/null/\"\n",
    "SIXTE = os.environ[\"SIXTE\"]\n",
    "xmldir = \"{}/share/sixte/instruments/athena-wfi/wfi_wo_filter_15row\".format(SIXTE)\n",
    "\n",
    "xml0=\"{}/ld_wfi_ff_chip0.xml\".format(xmldir)\n",
    "xml1=\"{}/ld_wfi_ff_chip1.xml\".format(xmldir)\n",
    "xml2=\"{}/ld_wfi_ff_chip2.xml\".format(xmldir)\n",
    "xml3=\"{}/ld_wfi_ff_chip3.xml\".format(xmldir)\n",
    "#xmldir=\"./xmldir\""
   ]
  },
  {
   "cell_type": "markdown",
   "id": "f8008d8d-dd91-4e0d-8bd0-479e97ec31a1",
   "metadata": {},
   "source": [
    "### Observations with eRosita"
   ]
  },
  {
   "cell_type": "markdown",
   "id": "ab218cb6-44b1-4035-b70a-2cec4e07935c",
   "metadata": {},
   "source": [
    "#### Pointed observation"
   ]
  },
  {
   "cell_type": "code",
   "execution_count": null,
   "id": "c51b3f32-996b-47bc-b9df-4732f848f35e",
   "metadata": {},
   "outputs": [],
   "source": [
    "# Using the simput file downloaded from  http://www.sternwarte.uni-erlangen.de/research/sixte/simput/athenacrab_flux0001000muCrab.simput.tgz\n",
    "\n",
    "\n",
    "simput_eRosita = 'athenacrab_flux0001000muCrab.simput'\n",
    "evt_eRosita_merged = 'athenacrab_merged.fits'\n",
    "\n",
    "# Create the string used in the ftmerge\n",
    "ftmerge_comm = ['athenacrab_ccd{}_evt.fits'.format(i) for i in range(1, 8)]\n",
    "ftmerge_comm = ','.join(ftmerge_comm)\n",
    "\n",
    "rewrite = True\n",
    "if rewrite:\n",
    "    if os.path.exists(evt_eRosita_merged):\n",
    "        os.remove(evt_eRosita_merged)\n",
    "    run_comm('erosim Prefix=athenacrab_ Simput={} Exposure=1000 Ra=0 Dec=0 clobber=yes'.format(simput_eRosita), 'Simulating eRosita observation')\n",
    "    run_comm('ftmerge {} {}'.format(ftmerge_comm, evt_eRosita_merged))\n",
    "else:\n",
    "    print('Event file {} already exists, it wont be overwritten'.format(evt_eRosita_merged))"
   ]
  },
  {
   "cell_type": "code",
   "execution_count": null,
   "id": "084db103-a361-4800-b84a-f2dc24812647",
   "metadata": {},
   "outputs": [],
   "source": [
    "img_eRosita = 'athenacrab_img.fits'\n",
    "\n",
    "rewrite = False\n",
    "if rewrite:\n",
    "    run_comm('imgev EvtFile=athenacrab_ccd1_evt.fits Image={} CoordinateSystem=0 Projection=TAN CUNIT1=deg CUNIT2=deg NAXIS1=384 NAXIS2=384'.format(img_eRosita) +\n",
    "             ' CRVAL1=0.0 CRVAL2=0.0 CDELT1=-0.0027778 CDELT2=0.00277778 CRPIX1=192.5 CRPIX2=192.5 clobber=yes', 'Creating eRosita image')\n",
    "else:\n",
    "    print('Event file {} already exists, it wont be overwritten'.format(img_eRosita))\n",
    "\n",
    "\n",
    "\n",
    "image_data = fits.getdata(img_eRosita, ext=0)\n",
    "image_data2 = image_data[150:250, 150:250]\n",
    "\n",
    "fig, _axs = plt.subplots(nrows=1, ncols=2, figsize=(16*2,6*2))\n",
    "axs = _axs.flatten()\n",
    "axs[0].plot([532, 532], [0,len(image_data)], 'k-')\n",
    "axs[0].plot([0,len(image_data)], [532, 532],  'k-')\n",
    "\n",
    "sq_dwl = np.array((0.53, -0.53))\n",
    "sq_upr = np.array((359.47, 0.53))\n",
    "\n",
    "draw_second_axis(fig, axs, sq_downleft=sq_dwl, sq_upright=sq_upr, ln=384, mov_ra=10, mov_dec=0, lon_lines=12, num_lines=10,\n",
    "                mov_x_text=[0, 27], mov_y_text=[47, 0], xlabel=r'$\\alpha$/deg', ylabel=r'$\\delta$/deg', num_axis=0, dist_txt=13, zero_between=True, display_format='.2f')\n",
    "\n",
    "sq1, sq2 = get_zoom_coord(sq_dwl, sq_upr, 384, x=[150, 250], y=[150, 250], zero_between=True)\n",
    "\n",
    "draw_second_axis(fig, axs, sq_downleft=sq1, sq_upright=sq2, ln=len(image_data2[:, 0]), mov_ra=5, mov_dec=0, lon_lines=2, num_lines=10,\n",
    "                mov_x_text=[0, 10], mov_y_text=[17, 0], xlabel=r'$\\alpha$/deg', ylabel=r'$\\delta$/deg', num_axis=1, dist_txt=3, zero_between=True, display_format='.3f')\n",
    "\n",
    "axs[0].set_ylim(0, len(image_data))\n",
    "axs[0].plot([150, 250], [150, 150], 'k--')\n",
    "axs[0].plot([150, 250], [250, 250], 'k--')\n",
    "axs[0].plot([150, 150], [150, 250], 'k--')\n",
    "axs[0].plot([250, 250], [150, 250], 'k--')\n",
    "\n",
    "axs[1].set_ylim(0, len(image_data2))\n",
    "\n",
    "cmap = plt.cm.winter\n",
    "im = axs[0].imshow(image_data, cmap=cmap, norm=colors.LogNorm(vmin=0.01, vmax=100))\n",
    "fig.colorbar(im,ax=axs[0], pad=0.2)\n",
    "\n",
    "im = axs[1].imshow(image_data2, cmap=cmap, norm=colors.LogNorm(vmin=0.01, vmax=100))\n",
    "fig.colorbar(im,ax=axs[1], pad=0.2)"
   ]
  },
  {
   "cell_type": "code",
   "execution_count": null,
   "id": "4fda3b31-4c3d-41a0-8d5c-aecd7c6156a7",
   "metadata": {},
   "outputs": [],
   "source": [
    "# Create spectrum\n",
    "spec_file = 'eRosita_spec.pha'\n",
    "rewrite = True\n",
    "if rewrite:\n",
    "    if os.path.exists(spec_file):\n",
    "        os.remove(spec_file)\n",
    "    run_comm(\"makespec EvtFile={} Spectrum={} clobber=yes RSPPath={}\".format(evt_eRosita_merged, spec_file, xmldir), 'Generating spectrum')\n",
    "else:\n",
    "    print('Spec file {} already exists, it will not be overwritten'.format(spec_file))\n",
    "\n",
    "    \n",
    "Plot.device = '/null'\n",
    "AllData.clear()\n",
    "AllModels.clear()\n",
    "\n",
    "Plot.device = \"/xs\"\n",
    "Plot.xAxis=\"KeV\"\n",
    "\n",
    "# rebin spectral data\n",
    "\n",
    "binspec = \"eRosita_spec_rebin.pha\"\n",
    "\n",
    "rewrite = True\n",
    "if rewrite:\n",
    "    if os.path.exists(binspec):\n",
    "            os.remove(binspec)\n",
    "    comm = (\"grppha infile={} outfile={} clobber=yes comm='group min 20 & exit'\".format(spec_file, binspec))    \n",
    "    run_comm(comm, \"Rebinning spectrum\")\n",
    "else:\n",
    "    print(\"Rebin file ({}) already exists: it will not be overwritten\".format(binspec))\n",
    "\n",
    "AllData.clear()\n",
    "s1 = Spectrum(spec_file)\n",
    "s1.ignore(\"**-1.0\")\n",
    "s1.ignore(\"11.0-**\")\n",
    "s1.ignore(\"bad\")\n",
    "Plot(\"ldata\")"
   ]
  },
  {
   "cell_type": "markdown",
   "id": "a671b0b0-06de-46ec-a5c3-75f5e68289f9",
   "metadata": {},
   "source": [
    "#### All-Sky survey"
   ]
  },
  {
   "cell_type": "code",
   "execution_count": null,
   "id": "93cbcd26-866b-4875-9922-a65a29cd187c",
   "metadata": {},
   "outputs": [],
   "source": [
    "simput_eRosita = 'athenacrab_flux0001000muCrab.simput'\n",
    "evt_eRosita_allsky_merged = 'athenacrab_allsky_merged.fits'\n",
    "\n",
    "# Create the string used in the ftmerge\n",
    "ftmerge_comm = ['athenacrab_allsky_ccd{}_evt.fits'.format(i) for i in range(1, 8)]\n",
    "ftmerge_comm = ','.join(ftmerge_comm)\n",
    "\n",
    "rewrite = True\n",
    "if rewrite:\n",
    "    if os.path.exists(evt_eRosita_allsky_merged):\n",
    "        os.remove(evt_eRosita_allsky_merged)\n",
    "    run_comm('erosim Prefix=athenacrab_allsky_ Simput={} Exposure=10000 Ra=0 Dec=0 Attitude=attitude.fits TSTART=0.0 MJDREF=51543.875 clobber=yes'.format(simput_eRosita), 'Simulating eRosita observation')\n",
    "    run_comm('ftmerge {} {}'.format(ftmerge_comm, evt_eRosita_allsky_merged))\n",
    "else:\n",
    "    print('Event file {} already exists, it wont be overwritten'.format(evt_eRosita_allsky_merged))\n",
    "\n",
    "\n"
   ]
  },
  {
   "cell_type": "markdown",
   "id": "be94fe19-229c-45a7-b769-8efd45abd639",
   "metadata": {},
   "source": [
    "#### Simulating single sources in the All-Sky survey"
   ]
  },
  {
   "cell_type": "code",
   "execution_count": null,
   "id": "5d4ca34f-99b9-473a-8f1e-81058295c361",
   "metadata": {},
   "outputs": [],
   "source": [
    "simput_eRosita = 'athenacrab_flux0001000muCrab.simput'\n",
    "gti_file = 'athenacrab_single_allsky.fits'\n",
    "\n",
    "rewrite = True\n",
    "if rewrite:\n",
    "    if os.path.exists(gti_file):\n",
    "        os.remove(gti_file)\n",
    "    run_comm('ero_vis GTIFile={} Simput={} Exposure=10000 Ra=0 Dec=0 Attitude=attitude.fits TSTART=0.0 dt=1.0 visibility_range=1.0 clobber=yes'.format(gti_file, simput_eRosita), 'Simulating eRosita observation')\n",
    "else:\n",
    "    print('Event file {} already exists, it wont be overwritten'.format(evt_eRosita_allsky_merged))\n",
    "\n",
    "\n"
   ]
  }
 ],
 "metadata": {
  "kernelspec": {
   "display_name": "Python 3",
   "language": "python",
   "name": "python3"
  },
  "language_info": {
   "codemirror_mode": {
    "name": "ipython",
    "version": 3
   },
   "file_extension": ".py",
   "mimetype": "text/x-python",
   "name": "python",
   "nbconvert_exporter": "python",
   "pygments_lexer": "ipython3",
   "version": "3.6.10"
  }
 },
 "nbformat": 4,
 "nbformat_minor": 5
}
