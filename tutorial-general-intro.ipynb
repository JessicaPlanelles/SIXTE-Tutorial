{
 "cells": [
  {
   "cell_type": "markdown",
   "metadata": {},
   "source": [
    "# Follows SIXTE tutorial"
   ]
  },
  {
   "cell_type": "code",
   "execution_count": null,
   "metadata": {},
   "outputs": [],
   "source": [
    "import copy\n",
    "import glob\n",
    "import matplotlib.colors as colors\n",
    "import matplotlib.image as mpimg\n",
    "import matplotlib.pyplot as plt\n",
    "import numpy as np\n",
    "import os\n",
    "import pandas\n",
    "import time\n",
    "import tempfile\n",
    "import shutil, shlex\n",
    "\n",
    "\n",
    "from astropy.io import fits\n",
    "from astropy.visualization import astropy_mpl_style\n",
    "from datetime import datetime\n",
    "from funcs import *\n",
    "from simulation_imports import *\n",
    "from subprocess import check_call, STDOUT\n",
    "from xspec import Xset, Plot, AllData, ModelManager, Spectrum, Model, AllModels, Fit\n",
    "\n",
    "plt.style.use(astropy_mpl_style)\n"
   ]
  },
  {
   "cell_type": "code",
   "execution_count": null,
   "metadata": {},
   "outputs": [],
   "source": [
    "tmpDir = tempfile.mkdtemp()\n",
    "os.environ[\"PFILES\"] = tmpDir + \":\" + os.environ[\"PFILES\"]\n",
    "os.environ[\"HEADASNOQUERY\"] = \"\"\n",
    "os.environ[\"HEADASPROMPT\"] = \"/dev/null/\"\n",
    "SIXTE = os.environ[\"SIXTE\"]\n",
    "#xmldir=\"./xmldir\"\n",
    "xmldir = \"{}/share/sixte/instruments/athena-wfi/wfi_wo_filter_15row\".format(SIXTE)\n",
    "\n",
    "base = \"mcrab\""
   ]
  },
  {
   "cell_type": "markdown",
   "metadata": {},
   "source": [
    "# 10.2 General introduction to simulations with SIXTE\n",
    "\n"
   ]
  },
  {
   "cell_type": "markdown",
   "metadata": {},
   "source": [
    "### 1) Create an xspec model and save it as mcrab.xcm\n",
    "\n",
    "$\\Gamma$=2.05, $Flux_{2-10}=2.16 \\times 10^{-11}$, NH=$2\\times 10^{21}$"
   ]
  },
  {
   "cell_type": "code",
   "execution_count": null,
   "metadata": {},
   "outputs": [],
   "source": [
    "# Example of a xspec file with the model \"phabs*pegpwrlw\"\n",
    "base = \"mcrab\"\n",
    "xcm = \"{}.xcm\".format(base)\n",
    "\n",
    "mcmod = Model(\"phabs*pegpwrlw\")\n",
    "mcmod.phabs.nH = 0.2\n",
    "mcmod.pegpwrlw.PhoIndex = 2.05\n",
    "mcmod.pegpwrlw.eMin = 2.\n",
    "mcmod.pegpwrlw.eMax = 10.\n",
    "mcmod.pegpwrlw.norm = 21.6\n",
    "mcmod.show()\n",
    "\n",
    "rewrite = True\n",
    "# If rewrite is true and the file exists, is is removed before creating a new one. This is due to some problems with the ftool fmerge\n",
    "if rewrite:\n",
    "    if os.path.exists(xcm):\n",
    "            os.remove(xcm)\n",
    "    Xset.save(xcm)\n",
    "else:\n",
    "    print(\"Xspec file ({}) already exists: it will not be overwritten\".format(xcm)) "
   ]
  },
  {
   "cell_type": "markdown",
   "metadata": {},
   "source": [
    "### $\\textbf{Exercise}$: add a narrow Gaussian iron line at an energy of 6.4 keV with an equivalent width of 150 eV to the spectrum. (Pendiente del comando eqwidth)"
   ]
  },
  {
   "cell_type": "code",
   "execution_count": null,
   "metadata": {},
   "outputs": [],
   "source": [
    "\n",
    "AllModels.eqwidth(3)\n"
   ]
  },
  {
   "cell_type": "code",
   "execution_count": null,
   "metadata": {},
   "outputs": [],
   "source": [
    "\n",
    "\n",
    "\n",
    "print(mcmod.componentNames)\n",
    "\n",
    "\n",
    "print(AllModels.eqwidth(3))\n",
    "\n",
    "mcmod.show()\n",
    "if os.path.exists(xcm):\n",
    "    print(\"Xspec file (\", xcm, \") already exists: it will not be overwritten\")\n",
    "else:\n",
    "    xspec.Xset.save(xcm)\n",
    "    "
   ]
  },
  {
   "cell_type": "markdown",
   "metadata": {},
   "source": [
    "### 2) Create SIMPUT FILE for source (``simputfile``)"
   ]
  },
  {
   "cell_type": "code",
   "execution_count": null,
   "metadata": {},
   "outputs": [],
   "source": [
    "simputfile = \"{}.fits\".format(base)\n",
    "\n",
    "rewrite = True\n",
    "if rewrite:\n",
    "    if os.path.exists(simputfile):\n",
    "            os.remove(simputfile)\n",
    "    comm = (\"simputfile Simput={} Src_Name=first RA=0. Dec=0. srcFlux=2.137E-11 Elow=0.1 Eup=15. Emin=2 Emax=10. XSPECFile=mcrab.xcm clobber=yes\".format(simputfile))\n",
    "    run_comm(comm, \"Creating simputfile\")\n",
    "else:\n",
    "    print(\"Simput file ({}) already exists: it will not be overwritten\".format(simputfile))"
   ]
  },
  {
   "cell_type": "markdown",
   "metadata": {},
   "source": [
    "### $\\textbf{Exercise}$: generate a second SIMPUT file for our source, using the plPhoIndex, plFlux, and NH parameters rather than an xcm-file. Compare both SIMPUT-files using fv. Note this step only works if you have ISIS installed.\n"
   ]
  },
  {
   "cell_type": "code",
   "execution_count": null,
   "metadata": {},
   "outputs": [],
   "source": [
    "# --> Instalation of ISIS needed <--\n",
    "simputfile = \"{}_wo-xcm.fits\".format(base)\n",
    "\n",
    "rewrite = True\n",
    "if rewrite:\n",
    "    if os.path.exists(simputfile):\n",
    "            os.remove(simputfile)\n",
    "    comm = (\"simputfile Simput={} Src_Name=first RA=0. Dec=0. srcFlux=2.137E-11 Elow=0.1 Eup=15. Emin=2 Emax=10.  clobber=yes plPhoIndex=2.05 plFlux=21.6 NH=0.2 \".format(simputfile))\n",
    "    run_comm(comm, \"Creating simputfile\")\n",
    "else:\n",
    "    print(\"Simput file ({}) already exists: it will not be overwritten\".format(simputfile))\n",
    "    \n",
    "f = fits.open(simputfile)\n",
    "f.info()\n",
    "f[1].columns.names"
   ]
  },
  {
   "cell_type": "markdown",
   "metadata": {},
   "source": [
    "## 3) Simulate with WFI one large chip (``runsixt``)"
   ]
  },
  {
   "cell_type": "code",
   "execution_count": null,
   "metadata": {},
   "outputs": [],
   "source": [
    "evtfile = \"sim_evt_{}.fits\".format(base)\n",
    "xml = \"{}/ld_wfi_ff_large.xml\".format(xmldir)\n",
    "\n",
    "rewrite = True\n",
    "if rewrite:\n",
    "    if os.path.exists(evtfile):\n",
    "            os.remove(evtfile)\n",
    "    comm = (\"runsixt XMLFile={} RA=0. Dec=0. Prefix='' Simput={} EvtFile={} Exposure=1000 clobber=yes\".format(xml, simputfile, evtfile))\n",
    "    run_comm(comm, \"Simulating source with  WFI  instrument\")\n",
    "else:\n",
    "    print(\"Simulations file ({}) already exists: it will not be overwritten\".format(evtfile))"
   ]
  },
  {
   "cell_type": "markdown",
   "metadata": {},
   "source": [
    "### $\\textbf{Exercise}$: Modify your SIMPUT-file to cover the full energy range of the ARF. Note that you actually have to go slightly past the limits listed in the ARF because the energy grid of the spectrum is generated at the midpoints of the bins from Elow to Eup.\n"
   ]
  },
  {
   "cell_type": "code",
   "execution_count": null,
   "metadata": {
    "tags": []
   },
   "outputs": [],
   "source": [
    "# No sé dónde aparece elow y eup en el simput (al darle el fv)\n",
    "f = fits.open(simputfile)\n",
    "f.info()"
   ]
  },
  {
   "cell_type": "markdown",
   "metadata": {
    "tags": []
   },
   "source": [
    "## 4) Analyze the simulation (``imgev`` and ``makespec``)"
   ]
  },
  {
   "cell_type": "code",
   "execution_count": null,
   "metadata": {},
   "outputs": [],
   "source": [
    "# create image\n",
    "imgfile = \"img_{}.fits\".format(base)\n",
    "\n",
    "rewrite = True\n",
    "if rewrite:\n",
    "    if os.path.exists(imgfile):\n",
    "            os.remove(imgfile)\n",
    "    comm = (\"imgev EvtFile={} Image={} CoordinateSystem=0 Projection=TAN NAXIS1=512 NAXIS2=512 \".format(evtfile, imgfile) +\n",
    "            \"CUNIT1=deg CUNIT2=deg CRVAL1=0.0 CRVAL2=0.0 CRPIX1=256.5 CRPIX2=256.5 CDELT1=-6.207043e-04 CDELT2=6.207043e-04 \" +\n",
    "            \"history=true clobber=yes\")  \n",
    "    run_comm(comm, \"Creating WFI image\")\n",
    "else:\n",
    "    print(\"Image file ({}) already exists: it will not be overwritten\".format(imgfile))\n",
    "# Info of the image file structure\n",
    "f = fits.open(imgfile)\n",
    "f.info()\n"
   ]
  },
  {
   "cell_type": "code",
   "execution_count": null,
   "metadata": {},
   "outputs": [],
   "source": [
    "# Plot image\n",
    "plt.clf()\n",
    "\n",
    "image_data = fits.getdata(imgfile, ext=0)\n",
    "fig, _axs = plt.subplots(nrows=1, ncols=2, figsize=(16,6))\n",
    "axs = _axs.flatten()\n",
    "cmap = plt.cm.PRGn\n",
    "\n",
    "# Left plot\n",
    "im = axs[0].imshow(image_data, cmap=cmap)\n",
    "fig.colorbar(im,ax=axs[0])\n",
    "\n",
    "# Zoomed plot\n",
    "im = axs[1].imshow(image_data[210:300, 210:300], cmap=cmap)\n",
    "fig.colorbar(im,ax=axs[1])\n",
    "\n",
    "# Titles\n",
    "axs[0].set_title(\"WFI chip central mcrab source\")\n",
    "axs[1].set_title(\"Central source zoom\")\n",
    "\n",
    "rt = 'imgs/imgev_general_intro.png'\n",
    "img_subplot(fig, axs[1], a=1.6, b=1.2, route=rt)\n",
    "run_comm('xdg-open {}'.format(rt))\n"
   ]
  },
  {
   "cell_type": "code",
   "execution_count": null,
   "metadata": {},
   "outputs": [],
   "source": [
    "# Create spectrum filtering the events with the condition given by \"EventFilter\" in the command\n",
    "specfile = \"spec_{}.pha\".format(base)\n",
    "\n",
    "rewrite = True\n",
    "if rewrite:\n",
    "    if os.path.exists(specfile):\n",
    "            os.remove(specfile)\n",
    "    comm = (\"makespec EvtFile={} Spectrum={} clobber=yes RSPPath={}\".format(evtfile, specfile, xmldir) +\n",
    "            \" EventFilter='(RA>359.95 || RA<0.05) && Dec>-0.05 && Dec<+0.05' \")\n",
    "    run_comm(comm, \"Creating spectum with WFI\")\n",
    "else:\n",
    "    print(\"Spectral file ({}) already exists: it will not be overwritten\".format(specfile))\n",
    "    \n"
   ]
  },
  {
   "cell_type": "code",
   "execution_count": null,
   "metadata": {},
   "outputs": [],
   "source": [
    "f = fits.open(specfile)\n",
    "f.info()\n",
    "rmf = f[1].header['RESPFILE']\n",
    "amf = f[1].header['ANCRFILE']\n",
    "\n",
    "run_comm('ln -s {}'.format(rmf), 'Linking to working directory')\n",
    "run_comm('ln -s {}'.format(amf), 'Linking to working directory')"
   ]
  },
  {
   "cell_type": "code",
   "execution_count": null,
   "metadata": {},
   "outputs": [],
   "source": [
    "# fit spectrum in XSPEC\n",
    "Plot.device = '/null'\n",
    "AllData.clear()\n",
    "AllModels.clear()\n",
    "s0 = Spectrum(specfile)\n",
    "Plot.device = \"/xs\"\n",
    "Plot.xAxis=\"KeV\"\n",
    "Plot('ldata')"
   ]
  },
  {
   "cell_type": "code",
   "execution_count": null,
   "metadata": {},
   "outputs": [],
   "source": [
    "# As there are bins with zero variance: ignore energy bands where signal to noise ratio is small\n",
    "s0.ignore(\"**-0.3\")\n",
    "s0.ignore(\"4.0-**\")\n",
    "Plot('ldata')"
   ]
  },
  {
   "cell_type": "code",
   "execution_count": null,
   "metadata": {},
   "outputs": [],
   "source": [
    "# Define an absorbed power law model\n",
    "m0 = Model(\"phabs*pow\")"
   ]
  },
  {
   "cell_type": "code",
   "execution_count": null,
   "metadata": {},
   "outputs": [],
   "source": [
    "# rebin spectral data\n",
    "binspec = \"spec_{}_rebin.pha\".format(base)\n",
    "\n",
    "rewrite = True\n",
    "if rewrite:\n",
    "    if os.path.exists(binspec):\n",
    "            os.remove(binspec)\n",
    "    comm = (\"grppha infile={} outfile={} clobber=yes comm='group min 20 & exit'\".format(specfile, binspec))    \n",
    "    run_comm(comm, \"Rebinning spectrum\")\n",
    "else:\n",
    "    print(\"Rebin file ({}) already exists: it will not be overwritten\".format(binspec))"
   ]
  },
  {
   "cell_type": "markdown",
   "metadata": {},
   "source": [
    "### $\\textbf{Exercise}$: Load rebinned PHA-file into XSPEC and fit an absorbed power-law to the 0.3-4 keV band\n"
   ]
  },
  {
   "cell_type": "code",
   "execution_count": null,
   "metadata": {},
   "outputs": [],
   "source": [
    "AllData.clear()\n",
    "s1 = Spectrum(binspec)\n",
    "s1.ignore(\"**-0.3\")\n",
    "s1.ignore(\"4.0-**\")\n",
    "Fit.perform()\n",
    "\n",
    "Plot(\"ldata\")\n",
    "m0.show()\n",
    "print(\"nH fit={:.3f}\".format(m0.phabs.nH.values[0]))\n",
    "print(\"Gamma fit={:.3f}\".format(m0.powerlaw.PhoIndex.values[0]))\n"
   ]
  },
  {
   "cell_type": "code",
   "execution_count": null,
   "metadata": {},
   "outputs": [],
   "source": [
    "# check PILEUP as the cause for spectral distortion (G~1.8 instead of G~2)\n",
    "tmpFile = \"pp{}.fits\" .format(str(int(datetime.timestamp(datetime.now()))))\n",
    "comm = (\"fstatistic infile={} colname=PILEUP outfile={}\".format(evtfile, tmpFile))\n",
    "run_comm(comm,\"Checking PILEUP\")\n",
    "f = open(tmpFile, 'r')\n",
    "for line in f:\n",
    "    print(repr(line))\n",
    "os.remove(tmpFile)"
   ]
  },
  {
   "cell_type": "markdown",
   "metadata": {
    "toc-hr-collapsed": true,
    "toc-nb-collapsed": true
   },
   "source": [
    "### $\\textbf{Exercise}$:  change the pointing direction of the instrument away from the source in steps of 4' in right ascension and declination simultaneously. Take a look at the images of the source and the source count rate. What do you observe?"
   ]
  },
  {
   "cell_type": "code",
   "execution_count": null,
   "metadata": {},
   "outputs": [],
   "source": [
    "noffs = 3\n",
    "clobber = False\n",
    "flux = 2.16e-11\n",
    "Elow = 0.1\n",
    "Eup = 15\n",
    "Emin = 2\n",
    "Emax = 10\n",
    "xml = \"{}/ld_wfi_ff_large.xml\".format(xmldir)\n",
    "plt.clf()\n",
    "fig, _axs = plt.subplots(nrows=1, ncols=noffs, figsize=(20,6))\n",
    "axs = _axs.flatten()\n",
    "# Plotting 3 images of the source with the telescope moved away 4' and 8'\n",
    "for ioff in range(0,(noffs*3),4):\n",
    "    print(ioff)\n",
    "    print(\"********************************\")\n",
    "    print(\"Image for offset=\", ioff,\"arcm\")\n",
    "    print(\"********************************\")\n",
    "    i = int(ioff/3.) \n",
    "    base_dec = \"mcrab_dec\" + str(ioff)\n",
    "    ra = ioff/60\n",
    "    dec_off = ioff/60. #deg\n",
    "    expos = 1000\n",
    "    simputfile_dec = base_dec + \".simput\"\n",
    "    \n",
    "    # create simputfile\n",
    "    if clobber:\n",
    "        if os.path.exists(simputfile_dec):\n",
    "            os.remove(simputfile_dec)\n",
    "        create_simput_file(Simput=simputfile_dec, Src_Name=base_dec, RA=ra, Dec=dec_off, srcFlux=flux, Elow=Elow, Eup=Eup, \n",
    "                           Emin=Emin, Emax=Emax, XSPECFile=xcm, clobber=\"yes\")\n",
    "    else:\n",
    "        print(\"Simput file ({}) already exists: it will not be overwritten\".format(simputfile_dec))\n",
    "        \n",
    "    # run simulation\n",
    "    evtfile_dec = \"sim_evt_{}.fits\".format(base_dec)\n",
    "    if clobber:\n",
    "        if os.path.exists(evtfile_dec):\n",
    "            os.remove(evtfile_dec)\n",
    "        run_simulation(XMLFile=xml, RA=ra, Dec=dec_off, Prefix='', Simput=simputfile_dec, EvtFile=evtfile_dec, Exposure=expos, clobber=\"yes\")\n",
    "    else:\n",
    "        print(\"Simulation file ({}) already exists: it will not be overwritten\".format(evtfile_dec))\n",
    "    \n",
    "    # create image\n",
    "    imgfile_dec = \"img_{}.fits\".format(base_dec)\n",
    "    if clobber:\n",
    "        if os.path.exists(imgfile_dec):\n",
    "            os.remove(imgfile_dec)\n",
    "        create_image_WFI(EvtFile=evtfile_dec, Image=imgfile_dec, CoordinateSystem=0, Projection=\"TAN\", NAXIS1=512, NAXIS2=512,\n",
    "                         CUNIT1=\"deg\", CUNIT2=\"deg\", CRVAL1=0.0, CRVAL2=0.0, CRPIX1=256.5, CRPIX2=256.5,\n",
    "                         CDELT1=-6.207043e-04, CDELT2=6.207043e-04)\n",
    "    else:\n",
    "        print(\"Image file ({}) already exists: it will not be overwritten\".format(imgfile_dec))\n",
    "    image_data = fits.getdata(imgfile_dec, ext=0)\n",
    "    cmap = plt.cm.PRGn\n",
    "    im = axs[i].imshow(image_data, cmap=cmap)\n",
    "    fig.colorbar(im,ax=axs[i])\n",
    "    tit = \"offset=\" + str(ioff) + \"arcm - cts=\" + str(np.sum(image_data))\n",
    "    axs[i].set_title(tit)\n"
   ]
  },
  {
   "cell_type": "markdown",
   "metadata": {},
   "source": [
    "### $\\textbf{Exercise}$: in this exercise we continue studying the effects that bright sources have on the measurement process more. Using the Crab-like spectrum defined before, increase the source flux by a factor of 10, 100, and 1000 and redo the WFI simulation. Why can you prepare the simulation using mcrab.fits and fv, and without running simputfile?\n",
    "\n",
    "### Calculate the count rates of the simulations by looking at the number of events in the file. What do you notice? Take a look at the X-ray spectrum of the 2nd brightest simulation and compare the observed photon spectrum with your input photon index. To get a better feeling for what is going on, plot the value of the FITS keywords NVALID, NPVALID, NINVALID, and NPINVALI as a function of the input flux. Why is the pile up fraction NPVALID/NVALID a good measure for the scientific quality of the data?\n",
    "\n"
   ]
  },
  {
   "cell_type": "code",
   "execution_count": null,
   "metadata": {},
   "outputs": [],
   "source": [
    "# Running the cells \"Create an xspec model and save it as mcrab.xcm\" and \"Create SIMPUT FILE for source (simputfile)\" is needed.\n",
    "rewrite = False\n",
    "f = fits.open('mcrab.fits')\n",
    "extName = \"SRC_CAT\" \n",
    "# colnames = f[extName].columns.names --> Use it in order to obtain the columns name to change it below\n",
    "\n",
    "initial_flux = f[extName].data[\"FLUX\"]\n",
    "j = 10\n",
    "for i in range(1, 4):\n",
    "    aux = 'mcrab{}.fits'.format(str(i+1))\n",
    "    if not os.path.exists(aux):\n",
    "        f[extName].data[\"FLUX\"] = j ** i * initial_flux\n",
    "        f.writeto(aux)\n",
    "    elif rewrite:\n",
    "        f2 = fits.open(aux, mode='update')\n",
    "        f2[extName].data[\"FLUX\"] = j ** i * initial_flux\n",
    "        f2.flush()\n",
    "    else:\n",
    "        print(\"Simulation file ({}) already exists: it will not be overwritten\".format(aux))\n",
    "f.close()\n",
    "\n",
    "# If the file does not exist, a new one is created. If exists, the file is opened and updated with the new info."
   ]
  },
  {
   "cell_type": "code",
   "execution_count": null,
   "metadata": {},
   "outputs": [],
   "source": [
    "xml = \"{}/ld_wfi_ff_large.xml\".format(xmldir)\n",
    "evtfile = \"sim_evt_{}.fits\".format(base)\n",
    "# Parameters for the simulation\n",
    "RA = 0\n",
    "Dec = 0\n",
    "Prefix = ''\n",
    "Exposure = 1000\n",
    "cts = []\n",
    "rewrite = False\n",
    "clobber = True\n",
    "\n",
    "flux_ratio = [1, 10, 100, 1000]\n",
    "\n",
    "nvalid = []\n",
    "npvalid = []\n",
    "ninvalid = []\n",
    "npinvali = []\n",
    "\n",
    "Simput = 'mcrab.fits'\n",
    "Evtfile = \"sim_evt_{}_fv0.fits\".format(base)\n",
    "\n",
    "for i in range(0, 4):\n",
    "    \n",
    "    # Run simulation\n",
    "    if rewrite:\n",
    "        if os.path.exists(Evtfile):\n",
    "            os.remove(Evtfile)\n",
    "        run_simulation(xml, RA, Dec, Prefix, Simput, Evtfile, Exposure, clobber)\n",
    "    else:\n",
    "        print(\"Events file ({}) already exists: it will not be overwritten\".format(Evtfile))\n",
    "    \n",
    "    # Save the parameters wanted of the event file in an empty list\n",
    "    f = fits.open(Evtfile)\n",
    "    tme = f['EVENTS'].data['TIME']\n",
    "    cts.append(len(tme))\n",
    "    \n",
    "    nvalid.append(f['EVENTS'].header['NVALID'])\n",
    "    npvalid.append(f['EVENTS'].header['NPVALID'])\n",
    "    ninvalid.append(f['EVENTS'].header['NINVALID'])\n",
    "    npinvali.append(f['EVENTS'].header['NPINVALI'])\n",
    "    \n",
    "    Simput = 'mcrab{}.fits'.format(str(i+2))\n",
    "    Evtfile = \"sim_evt_{}_fv{}.fits\".format(base, str(i+2))\n",
    "    \n",
    "    data_quality = (1-npvalid[i]/nvalid[i])\n",
    "    print(\"####################################################\")\n",
    "    print(\"Counts for flux={} times mcrab source={}\".format(10**i, cts))\n",
    "    print(\"Valid events={} of which {} are piled-up\".format(nvalid[i], npvalid[i]))\n",
    "    print(\"InValid events= {} of which {} are piled-up\".format(ninvalid[i], npinvali[i]))\n",
    "    print(\"Data quality=\", data_quality)\n",
    "    print(\"####################################################\")\n",
    "    f.close\n",
    "\n",
    "nvalid = np.array(nvalid)\n",
    "npvalid = np.array(npvalid)\n",
    "ninvalid = np.array(ninvalid)\n",
    "npinvali = np.array(npinvali)   \n",
    "\n",
    "# Plot histogram of the data collected from the different simulations of the 4 fluxes.\n",
    "\n",
    "fig, _axs = plt.subplots(nrows=1, ncols=2, figsize=(20,6))\n",
    "axs = _axs.flatten()\n",
    "flux_labels = ['1', '10', '100', '1000']\n",
    "x = np.arange(len(flux_labels))\n",
    "width = 0.25\n",
    "axs[0].bar(x-width, nvalid, width/4, log=True, label=\"valid\")\n",
    "axs[0].bar(x-width/2, ninvalid, width/4, log=True, label=\"invalid\")\n",
    "axs[0].bar(x+width/2, npvalid, width/4, log=True,label=\"piled-up valid\")\n",
    "axs[0].bar(x+width, npinvali, width/4, log=True,label=\"piled-up invalid\")\n",
    "axs[0].set_xlabel(\"Flux ratio\")\n",
    "axs[0].set_ylabel('Events')\n",
    "axs[0].set_title('Event types for different fluxes')\n",
    "axs[0].set_xticks(x)\n",
    "axs[0].set_xticklabels(flux_labels)\n",
    "axs[0].legend()\n",
    "\n",
    "data_quality = (1-npvalid/nvalid)\n",
    "\n",
    "axs[1].plot(flux_ratio, data_quality, marker='o', linestyle='--')\n",
    "axs[1].set_xlabel(\"Flux ratio\")\n",
    "axs[1].set_ylabel(\"Data Quality\")"
   ]
  },
  {
   "cell_type": "markdown",
   "metadata": {},
   "source": [
    "### $\\textbf{Exercise}$: generate a SIMPUT file with a harder spectral shape (e.g., Γ = 1.5) than our example source and has the same flux. Place the source at a position that is 1000 away from our source. Merge both SIMPUT files with the simputmerge tool (use plist to learn about the parameters of this tool!). Then run a 5 ks simulation and study how well you can separate both sources.\n",
    "\n",
    "    "
   ]
  },
  {
   "cell_type": "code",
   "execution_count": null,
   "metadata": {},
   "outputs": [],
   "source": [
    "# xspec file\n",
    "base10 = \"mcrab_10arcs\"\n",
    "xcm10 = base10 + \".xcm\"\n",
    "mcmod = Model(\"phabs*pegpwrlw\")\n",
    "mcmod.phabs.nH = 0.2\n",
    "mcmod.pegpwrlw.PhoIndex = 1.5\n",
    "mcmod.pegpwrlw.eMin = 2.\n",
    "mcmod.pegpwrlw.eMax = 10.\n",
    "mcmod.pegpwrlw.norm = 21.6\n",
    "mcmod.show()\n",
    "\n",
    "rewrite = True\n",
    "if rewrite:\n",
    "    if os.path.exists(xcm10):\n",
    "        os.remove(xcm10)\n",
    "    Xset.save(xcm10)\n",
    "else:\n",
    "    print(\"Xspec file ({}) already exists: it will not be overwritten\".format(xcm10))\n",
    "    \n",
    "# simputfile\n",
    "simputfile10 = base10 + \".simput\"\n",
    "ra = 0.0\n",
    "dec = 10.0/3600 #deg\n",
    "flux = 2.16E-11\n",
    "Elow = 0.01 # to cover full range of ARF\n",
    "Eup = 20  # to cover full range of ARF\n",
    "Emin = 2\n",
    "Emax = 10\n",
    "\n",
    "if rewrite:\n",
    "    if os.path.exists(simputfile10):\n",
    "        os.remove(simputfile10)\n",
    "    create_simput_file(Simput=simputfile10, Src_Name=base10, RA=ra, Dec=dec, srcFlux=flux, Elow=Elow, Eup=Eup, \n",
    "                       Emin=Emin, Emax=Emax, XSPECFile=xcm10, clobber=\"yes\")\n",
    "else:\n",
    "    print(\"Simput file ({}) already exists: it will not be overwritten\".format(simputfile10))"
   ]
  },
  {
   "cell_type": "code",
   "execution_count": null,
   "metadata": {},
   "outputs": [],
   "source": [
    "# merge simput files\n",
    "simput_merged10 = base + \"_merged10.simput\"\n",
    "if rewrite:\n",
    "    if os.path.exists(simput_merged10):\n",
    "        os.remove(simput_merged10)\n",
    "    comm = (\"simputmerge Infile1={} Infile2={} Outfile={} clobber=yes\".format(simputfile, simputfile10, simput_merged10))\n",
    "    run_comm(comm, 'Merging files')\n",
    "else:\n",
    "    print(\"Simput file ({}) already exists: it will not be overwritten\".format(simput_merged10))"
   ]
  },
  {
   "cell_type": "code",
   "execution_count": null,
   "metadata": {},
   "outputs": [],
   "source": [
    "# run simulation\n",
    "expos=5000\n",
    "xml = \"{}/ld_wfi_ff_large.xml\".format(xmldir)\n",
    "evtfile_merged10 = \"sim_evt_{}_merged10.fits\".format(base)\n",
    "rewrite = True\n",
    "\n",
    "if rewrite:\n",
    "    if os.path.exists(evtfile_merged10):\n",
    "        os.remove(evtfile_merged10)\n",
    "        \n",
    "    run_simulation(XMLFile=xml, RA=0., Dec=0., Prefix=\"\", Simput=simput_merged10, EvtFile=evtfile_merged10, \n",
    "                   Exposure=expos, clobber=\"yes\")    \n",
    "else:\n",
    "    print(\"Simulations file ({}) already exists: it will not be overwritten\".format(evtfile_merged10))"
   ]
  },
  {
   "cell_type": "code",
   "execution_count": null,
   "metadata": {},
   "outputs": [],
   "source": [
    "# study source separation (histogram of Dec positions) \n",
    "f = fits.open(evtfile_merged10)\n",
    "data = f['EVENTS'].data\n",
    "decVals = data['DEC']\n",
    "fig = plt.figure(figsize=(8, 4))\n",
    "ax1 = fig.add_subplot(1, 1, 1)\n",
    "ax1.set_xlabel(\"DEC ('')\")\n",
    "ax1.set_ylabel(\"# Counts\")\n",
    "# create histogram\n",
    "bh, bc, _ = ax1.hist(decVals[(decVals>-0.01) & (decVals<0.01)]*3600, bins=100, density=False, label=\"Histogram\", alpha=0.5)\n",
    "fig.savefig('imgs/10_merged_hist.png', dpi=720)"
   ]
  },
  {
   "cell_type": "markdown",
   "metadata": {},
   "source": [
    "### $\\textbf{Exercise}$: repeat the previous exercise for a source separation of 5' and extract spectra for both sources. Generate corrected ARFs for the sources by adjusting the parameters of the sixte_arfgen call above and use your favorite X-ray spectral analysis program to see how the spectral shape is affected."
   ]
  },
  {
   "cell_type": "code",
   "execution_count": null,
   "metadata": {},
   "outputs": [],
   "source": [
    "# xspec file\n",
    "base5 = \"mcrab_5arcs\"\n",
    "xcm5 = base5 + \".xcm\"\n",
    "mcmod = Model(\"phabs*pegpwrlw\")\n",
    "mcmod.phabs.nH = 0.2\n",
    "mcmod.pegpwrlw.PhoIndex = 1.5\n",
    "mcmod.pegpwrlw.eMin = 2.\n",
    "mcmod.pegpwrlw.eMax = 10.\n",
    "mcmod.pegpwrlw.norm = 21.6\n",
    "mcmod.show()\n",
    "\n",
    "rewrite = False\n",
    "if rewrite:\n",
    "    if os.path.exists(xcm10):\n",
    "        os.remove(xcm10)\n",
    "    Xset.save(xcm10)\n",
    "else:\n",
    "    print(\"Xspec file ({}) already exists: it will not be overwritten\".format(xcm10))\n",
    "    \n",
    "# simputfile\n",
    "simputfile5 = base5 + \".simput\"\n",
    "ra = 0.0\n",
    "dec = 5.0/3600 #deg\n",
    "flux = 2.16E-11\n",
    "Elow = 0.01 # to cover full range of ARF\n",
    "Eup = 20  # to cover full range of ARF\n",
    "Emin = 2\n",
    "Emax = 10\n",
    "\n",
    "rewrite = True\n",
    "if rewrite:\n",
    "    if os.path.exists(simputfile5):\n",
    "        os.remove(simputfile5)\n",
    "    create_simput_file(Simput=simputfile5, Src_Name=base5, RA=ra, Dec=dec, srcFlux=flux, Elow=Elow, Eup=Eup, \n",
    "                       Emin=Emin, Emax=Emax, XSPECFile=xcm10, clobber=\"yes\")\n",
    "else:\n",
    "    print(\"Simput file ({}) already exists: it will not be overwritten\".format(simputfile5))"
   ]
  },
  {
   "cell_type": "code",
   "execution_count": null,
   "metadata": {},
   "outputs": [],
   "source": [
    "# merge simput files\n",
    "simput_merged5 = base + \"_merged5.simput\"\n",
    "if rewrite:\n",
    "    if os.path.exists(simput_merged5):\n",
    "        os.remove(simput_merged5)\n",
    "    comm = (\"simputmerge Infile1={} Infile2={} Outfile={} clobber=yes\".format(simputfile, simputfile5, simput_merged5))\n",
    "    run_comm(comm, 'Merging files')\n",
    "else:\n",
    "    print(\"Simput file ({}) already exists: it will not be overwritten\".format(simput_merged5))"
   ]
  },
  {
   "cell_type": "code",
   "execution_count": null,
   "metadata": {},
   "outputs": [],
   "source": [
    "# run simulation\n",
    "base = 'mcrab'\n",
    "expos=5000\n",
    "evtfile_merged5 = \"sim_evt_{}_merged5.fits\".format(base)\n",
    "rewrite = True\n",
    "\n",
    "if rewrite:\n",
    "    if os.path.exists(evtfile_merged5):\n",
    "        os.remove(evtfile_merged5)\n",
    "        \n",
    "    run_simulation(XMLFile=xml, RA=0., Dec=0., Prefix=\"\", Simput=simput_merged5, EvtFile=evtfile_merged5, \n",
    "                   Exposure=expos, clobber=\"yes\")    \n",
    "else:\n",
    "    print(\"Simulations file ({}) already exists: it will not be overwritten\".format(evtfile_merged5))"
   ]
  },
  {
   "cell_type": "code",
   "execution_count": null,
   "metadata": {},
   "outputs": [],
   "source": [
    "# study source separation (histogram of Dec positions)\n",
    "f = fits.open(evtfile_merged5)\n",
    "data = f['EVENTS'].data\n",
    "decVals = data['DEC']\n",
    "fig = plt.figure(figsize=(8, 4))\n",
    "ax1 = fig.add_subplot(1, 1, 1)\n",
    "ax1.set_xlabel(\"DEC ('')\")\n",
    "ax1.set_ylabel(\"# Counts\")\n",
    "# create histogram\n",
    "bh, bc, _ = ax1.hist(decVals[(decVals>-0.01) & (decVals<0.01)]*3600, bins=100, density=False, label=\"Histogram\", alpha=0.5)"
   ]
  },
  {
   "cell_type": "code",
   "execution_count": null,
   "metadata": {},
   "outputs": [],
   "source": [
    "#create spectrum\n",
    "base = 'mcrab'\n",
    "evtfile = \"sim_evt_{}_merged5.fits\".format(base)\n",
    "specs = list()\n",
    "evtfilts = list()\n",
    "rebins = list()\n",
    "\n",
    "# SRC @ centre\n",
    "radInDeg = 5./3600.\n",
    "RAmin = 360.-radInDeg\n",
    "RAmax = 0.+radInDeg\n",
    "DECmin = -radInDeg\n",
    "DECmax = radInDeg\n",
    "evtfilts.append(\"'(RA>{}|| RA<{}) && Dec>{}&& Dec<+{}'\".format(str(RAmin), str(RAmax), str(DECmin), str(DECmax)))\n",
    "specs.append(\"spec0_{}_merged5.fits\".format(base))\n",
    "rebins.append(\"spec0_{}_merged5.grp\".format(base))\n",
    "\n",
    "# SRC @ 5\" off DEC\n",
    "DECmin = 5./3600 - radInDeg\n",
    "DECmax = 5./3600 + radInDeg\n",
    "specs.append(\"spec5_{}_merged5.fits\".format(base))\n",
    "rebins.append(\"spec5_{}_merged5.grp\".format(base))\n",
    "evtfilts.append(\"'(RA>{}|| RA<{}) && Dec>{}&& Dec<+{}'\".format(str(RAmin), str(RAmax), str(DECmin), str(DECmax)))\n",
    "rewrite = True\n",
    "for i in range(len(specs)):\n",
    "    if rewrite:\n",
    "        if os.path.exists(specs[i]):\n",
    "            os.remove(specs[i])\n",
    "        create_spec(EvtFile=evtfile, Spectrum=specs[i], clobber=\"yes\", RSPPath=xmldir, EventFilter=evtfilts[i])\n",
    "        comm = (\"grppha infile={} outfile={} clobber=yes comm='group min 20 & exit'\" .format(specs[i], rebins[i]))  \n",
    "        run_comm(comm, 'Rebinning spectrum')\n",
    "        \n",
    "    else:\n",
    "        print(\"Spectral file ({}) already exists: it will not be overwritten\".format(specs[i]))\n",
    "print(tme)"
   ]
  },
  {
   "cell_type": "code",
   "execution_count": null,
   "metadata": {},
   "outputs": [],
   "source": [
    "# fit spectra to show variation of spectral shape wrt mcrab original isolated source. Remember to run the first simulation in order to ge s0 spectrum\n",
    "Plot.device = '/null'\n",
    "AllData.clear()\n",
    "AllModels.clear()\n",
    "Plot.device = \"/xs\"\n",
    "Plot.xAxis=\"KeV\"\n",
    "m = Model(\"phabs*pow\")\n",
    "s0 = Spectrum(rebins[0])\n",
    "s0.ignore(\"**-0.3\")\n",
    "s0.ignore(\"4.0-**\")\n",
    "\n",
    "Fit.perform()\n",
    "Plot(\"ldata\")\n",
    "print(\"nH fit={:.3f}\".format(m. phabs.nH.values[0]))\n",
    "print(\"Gamma fit={:.3f}\".format(m. powerlaw.PhoIndex.values[0]))\n",
    "\n",
    "time.sleep(5) # Add delay to distinguish the plots\n",
    "\n",
    "AllData.clear()\n",
    "s5 = Spectrum(rebins[1])\n",
    "s5.ignore(\"**-0.3\")\n",
    "s5.ignore(\"4.0-**\")\n",
    "\n",
    "Fit.perform()\n",
    "Plot(\"ldata\")\n",
    "print(\"nH fit={:.3f}\".format(m. phabs.nH.values[0]))\n",
    "print(\"Gamma fit={:.3f}\".format(m. powerlaw.PhoIndex.values[0]))"
   ]
  },
  {
   "cell_type": "markdown",
   "metadata": {},
   "source": [
    "### $\\textbf{Exercise}$: in order to quantify the mixing of photons from both sources further, we can take a look at the diagnostic information contained in the event file. Specifically, use the FTOOL fselect and, using the row selection syntax, generate a new event file for one of the two sources by selecting the events in the region around the source. Determine the fraction of photons from the other source that “contaminate” the selection region by using the information in the SRC_ID column of the event file. For each event, this column contains information about the source in which it originated, in form of the ID of that source in the SIMPUT file.\n"
   ]
  },
  {
   "cell_type": "code",
   "execution_count": null,
   "metadata": {},
   "outputs": [],
   "source": [
    "evtfile = \"sim_evt_{}_merged5.fits\".format(base)\n",
    "evts = (\"sim_evt_{}0_merged5.fits\", \"sim_evt_{}5_merged5.fits\".format(base))\n",
    "for i in range(len(evtfilts)):\n",
    "    comm = (\"fselect infile={}+1 outfile={} expr={} clobber=yes\".format(evtfile, evts[i], evtfilts[i]))\n",
    "    run_comm(comm, \"Selecting events for source {}\".format(i))\n",
    "    "
   ]
  },
  {
   "cell_type": "code",
   "execution_count": null,
   "metadata": {},
   "outputs": [],
   "source": [
    "f = fits.open(evtfile_merged5)\n",
    "data = f['EVENTS'].data\n",
    "print(\"Total number of photons in both sources (central & 5' offset)=\",data.shape[0])\n",
    "f.close\n",
    "f = fits.open(evts[0])\n",
    "data = f['EVENTS'].data\n",
    "idVals = data['SRC_ID']\n",
    "f.close\n",
    "nph2 =len(idVals[idVals[:,0]==2][:,0])\n",
    "print(\"SRC1: Number of photons of src2 (5'' offset) = \", nph2)\n",
    "f = fits.open(evts[1])\n",
    "data = f['EVENTS'].data\n",
    "idVals = data['SRC_ID']\n",
    "f.close\n",
    "nph1 =len(idVals[idVals[:,0]==1][:,0])\n",
    "print(\"SRC2: Number of photons of src1 (central) = \", nph1)\n"
   ]
  },
  {
   "cell_type": "code",
   "execution_count": null,
   "metadata": {},
   "outputs": [],
   "source": []
  },
  {
   "cell_type": "code",
   "execution_count": null,
   "metadata": {},
   "outputs": [],
   "source": []
  },
  {
   "cell_type": "code",
   "execution_count": null,
   "metadata": {},
   "outputs": [],
   "source": []
  },
  {
   "cell_type": "code",
   "execution_count": null,
   "metadata": {},
   "outputs": [],
   "source": []
  }
 ],
 "metadata": {
  "kernelspec": {
   "display_name": "Python 3",
   "language": "python",
   "name": "python3"
  },
  "language_info": {
   "codemirror_mode": {
    "name": "ipython",
    "version": 3
   },
   "file_extension": ".py",
   "mimetype": "text/x-python",
   "name": "python",
   "nbconvert_exporter": "python",
   "pygments_lexer": "ipython3",
   "version": "3.6.10"
  },
  "toc": {
   "base_numbering": 1,
   "nav_menu": {},
   "number_sections": true,
   "sideBar": true,
   "skip_h1_title": false,
   "title_cell": "Table of Contents",
   "title_sidebar": "Contents",
   "toc_cell": false,
   "toc_position": {},
   "toc_section_display": true,
   "toc_window_display": false
  },
  "varInspector": {
   "cols": {
    "lenName": 16,
    "lenType": 16,
    "lenVar": 40
   },
   "kernels_config": {
    "python": {
     "delete_cmd_postfix": "",
     "delete_cmd_prefix": "del ",
     "library": "var_list.py",
     "varRefreshCmd": "print(var_dic_list())"
    },
    "r": {
     "delete_cmd_postfix": ") ",
     "delete_cmd_prefix": "rm(",
     "library": "var_list.r",
     "varRefreshCmd": "cat(var_dic_list()) "
    }
   },
   "types_to_exclude": [
    "module",
    "function",
    "builtin_function_or_method",
    "instance",
    "_Feature"
   ],
   "window_display": false
  }
 },
 "nbformat": 4,
 "nbformat_minor": 4
}
