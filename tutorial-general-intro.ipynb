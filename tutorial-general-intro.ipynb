{
 "cells": [
  {
   "cell_type": "markdown",
   "metadata": {},
   "source": [
    "# Definition of a conda environment to work with SIXTE + python + xspec:\n",
    "# ==================================================================\n",
    "\n",
    "        >conda create --name tutorial python  \n",
    "        >conda activate tutorial    \n",
    "        >conda install matplotlib jupyterlab pandas astropy\n",
    "        >conda install -c conda-forge gxx_linux-64==11.1.0  # compatibility issues with xspec/heasoft  \n",
    "        >conda install krb5 curl  \n"
   ]
  },
  {
   "cell_type": "markdown",
   "metadata": {},
   "source": [
    "# 10.2 General Introduction to Simulations with SIXTE\n",
    "\n",
    "As discussed in more detail in Sect. 1, SIXTE is a Monte Carlo based tool that can simulate observations of\n",
    "astrophysical sources for a wide variety of different current and future X-ray astronomical satellites. A SIXTE\n",
    "simulation consists of three steps:  \n",
    "   1. Preparation of the input of the simulation, using so-called SIMPUT files (Sect. 2): In this step we define what is to be observed. Typically this will be a pointed observation of a field on the sky. In the most simple case, this field will only contain one point source, but the simulations also allow to take into account extended sources, time variability, or the simulation of large catalogues of astronomical sources that can contain millions of X-ray sources on the whole sky. Later examples in this and the following sections will present some of the more advanced features.  \n",
    "   2. Running the simulation: In this step photons from all sources that are visible to the instrument are generated using a Monte Carlo algorithm (Sect. 3). These photons are then projected onto the focal plane of the instrument using a model of the instrumental optics (Sect. 4) where they are detected using one of the available instrumental models (Sect. 6).  \n",
    "   3. Analyzing the simulation: The output of the previous step are one or multiple standard FITS event files whose structure follows X-ray astronomical standards as specified by NASA’s HEASARC. The output can therefore be analyzed using standard astronomical data analysis packages. SIXTE provides some tools that prepare standard data products such as spectra and images from event files, alternatively other tools that can read FITS event files can be used.  \n",
    "   \n",
    "Before we start in the next sections with more complicated examples, in the following we will illustrate how a\n",
    "SIXTE simulation works using a simple observation of a point source.\n"
   ]
  },
  {
   "cell_type": "code",
   "execution_count": null,
   "metadata": {},
   "outputs": [],
   "source": [
    "# import some general packages\n",
    "import copy\n",
    "import glob\n",
    "import matplotlib.colors as colors\n",
    "from matplotlib.colors import LogNorm\n",
    "import matplotlib.image as mpimg\n",
    "import matplotlib.pyplot as plt\n",
    "import numpy as np\n",
    "import os\n",
    "import pandas\n",
    "import time\n",
    "import tempfile\n",
    "import shutil, shlex\n",
    "from datetime import datetime\n",
    "from subprocess import check_call, STDOUT\n",
    "from funcs import *\n",
    "\n",
    "# Astropy\n",
    "from astropy.io import fits\n",
    "from astropy.visualization import astropy_mpl_style\n",
    "plt.style.use(astropy_mpl_style)\n",
    "\n",
    "#XSPEC\n",
    "from xspec import Xset, Plot, AllData, ModelManager, Spectrum, Model, AllModels, Fit"
   ]
  },
  {
   "cell_type": "code",
   "execution_count": null,
   "metadata": {},
   "outputs": [],
   "source": [
    "tmpDir = tempfile.mkdtemp()\n",
    "os.environ[\"PFILES\"] = tmpDir + \":\" + os.environ[\"PFILES\"]\n",
    "os.environ[\"HEADASNOQUERY\"] = \"\"\n",
    "os.environ[\"HEADASPROMPT\"] = \"/dev/null/\"\n",
    "SIXTE = os.environ[\"SIXTE\"]\n",
    "base = \"mcrab\"\n",
    "xmldir = f\"{SIXTE}/share/sixte/instruments/athena-wfi/wfi_wo_filter_B4C\""
   ]
  },
  {
   "cell_type": "markdown",
   "metadata": {},
   "source": [
    "## 10.2.1 Step 0: SIXTE installation setup\n",
    "## 10.2.2 Step 1: Preparing the SIMPUT file\n"
   ]
  },
  {
   "cell_type": "markdown",
   "metadata": {},
   "source": [
    "### Create an xspec model and save it as mcrab.xcm\n",
    "\n",
    "Power law spectrum: $\\Gamma=2.05$ \n",
    "\n",
    "Unabsorbed Flux(2-10keV): $2.16 \\times 10^{-11} \\rm{erg\\,cm^{-2}\\,s^{-1}}$  \n",
    "\n",
    "Foregroung absorption: $N_H=2\\times 10^{21} \\rm{cm^{-2}}$  \n",
    "\n",
    "XSPEC model: phabs*pegpwrlw"
   ]
  },
  {
   "cell_type": "code",
   "execution_count": null,
   "metadata": {},
   "outputs": [],
   "source": [
    "# Example of a xspec file with the model \"phabs*pegpwrlw\"\n",
    "AllModels.clear()\n",
    "base = \"mcrab\"\n",
    "xcm = f\"{base}.xcm\"\n",
    "# define XSPEC parameters\n",
    "Xset.abund = \"wilm\"\n",
    "Xset.cosmo = \"70 0. 0.73\"\n",
    "Xset.xsect = \"bcmc\"\n",
    "mcmod = Model(\"phabs*pegpwrlw\")\n",
    "mcmod.phabs.nH = 0.2\n",
    "mcmod.pegpwrlw.PhoIndex = 2.05\n",
    "mcmod.pegpwrlw.eMin = 2.\n",
    "mcmod.pegpwrlw.eMax = 10.\n",
    "mcmod.pegpwrlw.norm = 21.6\n",
    "mcmod.show()"
   ]
  },
  {
   "cell_type": "code",
   "execution_count": null,
   "metadata": {},
   "outputs": [],
   "source": [
    "# Get FLUX value to use in SIMPUTFILE run\n",
    "AllModels.calcFlux(\"2. 10.\")"
   ]
  },
  {
   "cell_type": "code",
   "execution_count": null,
   "metadata": {},
   "outputs": [],
   "source": [
    "simput_flux = AllModels(1).flux[0]\n",
    "print(\"Simput Flux=\", simput_flux)"
   ]
  },
  {
   "cell_type": "code",
   "execution_count": null,
   "metadata": {},
   "outputs": [],
   "source": [
    "clobber = True\n",
    "# If clobber is true and the file exists, it will be removed before creating a new one.\n",
    "if os.path.exists(xcm):\n",
    "    if clobber:\n",
    "        os.remove(xcm)\n",
    "    else:\n",
    "        raise Exception(f\"Xspec file ({xcm}) already exists: it will not be overwritten\") \n",
    "Xset.save(xcm)"
   ]
  },
  {
   "cell_type": "markdown",
   "metadata": {},
   "source": [
    "### <span style=\"color:blue\">$\\textbf{Exercise}$</span>:\n",
    "#### Add a narrow Gaussian iron line at an energy of 6.4 keV with an equivalent width of 150 eV to the spectrum."
   ]
  },
  {
   "cell_type": "code",
   "execution_count": null,
   "metadata": {},
   "outputs": [],
   "source": [
    "AllModels.clear()\n",
    "AllData.clear()\n",
    "mcmodG = Model(\"phabs*pegpwrlw + ga\")\n",
    "mcmodG.phabs.nH = 0.2\n",
    "mcmodG.pegpwrlw.PhoIndex = 2.05\n",
    "mcmodG.pegpwrlw.eMin = 2.\n",
    "mcmodG.pegpwrlw.eMax = 10.\n",
    "mcmodG.pegpwrlw.norm = 21.6\n",
    "mcmodG.gaussian.LineE = 6.4\n",
    "mcmodG.gaussian.Sigma = 0.001\n",
    "mcmodG.gaussian.norm = 3.01e-5 ## modify this value as needed to get the 150eV equivalent width\n",
    "mcmodG.show()\n",
    "AllModels.eqwidth(3) # value is only stored if spectrum is loaded (which is not)\n"
   ]
  },
  {
   "cell_type": "markdown",
   "metadata": {},
   "source": [
    "### Create SIMPUT FILE for source (``simputfile``)"
   ]
  },
  {
   "cell_type": "code",
   "execution_count": null,
   "metadata": {},
   "outputs": [],
   "source": [
    "simputfile = f\"{base}.fits\"\n",
    "xcmfile = f\"{base}.xcm\"\n",
    "\n",
    "comm = (f\"simputfile Simput={simputfile} Src_Name=first RA=0. Dec=0. srcFlux={simput_flux} Elow=0.1 Eup=15. \" +\n",
    "        f\"NBins=1000 Emin=2 Emax=10. XSPECFile={xcmfile} clobber=yes\")\n",
    "#print(comm)\n",
    "run_comm(comm, \"Creating simputfile\")"
   ]
  },
  {
   "cell_type": "markdown",
   "metadata": {},
   "source": [
    "### <span style=\"color:blue\"> $\\textbf{Exercise}$</span>: \n",
    "#### Generate a second SIMPUT file for our source, using the plPhoIndex, plFlux, and NH parameters rather than an xcm-file. Compare both SIMPUT-files using fv. **Note this step only works if you have ISIS installed**\n"
   ]
  },
  {
   "cell_type": "code",
   "execution_count": null,
   "metadata": {
    "tags": []
   },
   "outputs": [],
   "source": [
    "simputfile = f\"{base}_wo-xcm.fits\"\n",
    "\n",
    "comm = (f\"simputfile Simput={simputfile} Src_Name=first RA=0. Dec=0. srcFlux={simput_flux} Elow=0.1 Eup=15. \" +\n",
    "        f\"Emin=2 Emax=10. clobber=yes plPhoIndex=2.05 plFlux=21.6 NH=0.2 \")\n",
    "#print(comm)\n",
    "run_comm(comm, \"Creating simputfile\")"
   ]
  },
  {
   "cell_type": "markdown",
   "metadata": {},
   "source": [
    "## 10.2.3 An aside: Inspecting FITS-files with (HEASOFT)/Astropy tools\n"
   ]
  },
  {
   "cell_type": "code",
   "execution_count": null,
   "metadata": {},
   "outputs": [],
   "source": [
    "simputfile = f\"{base}.fits\"\n",
    "f = fits.open(simputfile)\n",
    "f.info()\n",
    "f[1].columns.names\n",
    "f.close()"
   ]
  },
  {
   "cell_type": "markdown",
   "metadata": {},
   "source": [
    "## 10.2.4 Step2: Running the simulation\n",
    "\n",
    "### Simulate with WFI one large chip (``runsixt``)"
   ]
  },
  {
   "cell_type": "code",
   "execution_count": null,
   "metadata": {},
   "outputs": [],
   "source": [
    "xmldir = f\"{SIXTE}/share/sixte/instruments/athena-wfi/wfi_wo_filter_B4C\"\n",
    "xml = f\"{xmldir}/ld_wfi_ff_large.xml\"\n",
    "evtfile = f\"sim_evt_{base}.fits\"\n",
    "\n",
    "comm = (f\"runsixt XMLFile={xml} RA=0. Dec=0. Prefix='' Simput={simputfile} EvtFile={evtfile} Exposure=1000 clobber=yes\")\n",
    "#print(comm)\n",
    "run_comm(comm, \"Simulating source with  WFI  instrument\")"
   ]
  },
  {
   "cell_type": "markdown",
   "metadata": {},
   "source": [
    "### <span style=\"color:blue\">$\\textbf{Exercise}$</span>: \n",
    "#### Modify your SIMPUT-file to cover the full energy range of the ARF. \n",
    "##### Note that you actually have to go slightly past the limits listed in the ARF because the energy grid of the spectrum is generated at the midpoints of the bins from Elow to Eup.\n"
   ]
  },
  {
   "cell_type": "code",
   "execution_count": null,
   "metadata": {
    "tags": []
   },
   "outputs": [],
   "source": [
    "# New simputfile\n",
    "simputfile = f\"{base}.fits\"\n",
    "xcmfile = f\"{base}.xcm\"\n",
    "        \n",
    "comm = (f\"simputfile Simput={simputfile} Src_Name=first RA=0. Dec=0. srcFlux={simput_flux} Elow=0.01 Eup=20. \"\n",
    "        f\"NBins=1000 Emin=2 Emax=10. XSPECFile={xcmfile} clobber=yes\")\n",
    "#print(comm)\n",
    "run_comm(comm, \"Creating simputfile\")"
   ]
  },
  {
   "cell_type": "code",
   "execution_count": null,
   "metadata": {},
   "outputs": [],
   "source": [
    "# new simulation\n",
    "evtfile = f\"sim_evt_{base}.fits\"\n",
    "\n",
    "comm = (f\"runsixt XMLFile={xml} RA=0. Dec=0. Prefix='' Simput={simputfile} EvtFile={evtfile} Exposure=1000 clobber=yes\")\n",
    "#print(comm)\n",
    "run_comm(comm, \"Simulating source with  WFI  instrument\")"
   ]
  },
  {
   "cell_type": "markdown",
   "metadata": {
    "tags": []
   },
   "source": [
    "## 10.2.5 Step 3: Analyzing the simulation (``imgev`` and ``makespec``)"
   ]
  },
  {
   "cell_type": "markdown",
   "metadata": {},
   "source": [
    "### <span style=\"color:blue\">$\\textbf{Exercise}$</span>: \n",
    "#### Take a lookat the structure of the event file. How many events were simulated? Speculate on the meaning of the individual columns in the event file "
   ]
  },
  {
   "cell_type": "code",
   "execution_count": null,
   "metadata": {},
   "outputs": [],
   "source": [
    "evtfile = f\"sim_evt_{base}.fits\"\n",
    "f = fits.open(evtfile)\n",
    "f.info()\n",
    "\n",
    "# events\n",
    "data = f[\"EVENTS\"].data\n",
    "nevents = data.shape[0]\n",
    "print(\"\\nNumber of simulated events:{}\\n\".format(nevents))\n",
    "\n",
    "# columns \n",
    "print(\"Columns in event file:\")\n",
    "f[1].columns.names"
   ]
  },
  {
   "cell_type": "code",
   "execution_count": null,
   "metadata": {},
   "outputs": [],
   "source": [
    "# close event file\n",
    "f.close()"
   ]
  },
  {
   "cell_type": "markdown",
   "metadata": {},
   "source": [
    "### Create an image (`imgev`)"
   ]
  },
  {
   "cell_type": "code",
   "execution_count": null,
   "metadata": {},
   "outputs": [],
   "source": [
    "# create image\n",
    "imgfile = f\"img_{base}.fits\"\n",
    "        \n",
    "comm = (f\"imgev EvtFile={evtfile} Image={imgfile} CoordinateSystem=0 Projection=TAN NAXIS1=512 NAXIS2=512 \" +\n",
    "        f\"CUNIT1=deg CUNIT2=deg CRVAL1=0.0 CRVAL2=0.0 CRPIX1=256.5 CRPIX2=256.5 CDELT1=-6.207043e-04 \" +\n",
    "        f\"CDELT2=6.207043e-04 history=true clobber=yes\")  \n",
    "#print(comm)\n",
    "run_comm(comm, \"Creating WFI image\")"
   ]
  },
  {
   "cell_type": "code",
   "execution_count": null,
   "metadata": {},
   "outputs": [],
   "source": [
    "# Plot image\n",
    "plt.clf()\n",
    "#plt.rcParams['axes.grid'] = False # to avoid a warning about axes grids in latest versions of matplotlib\n",
    "plt.rcParams['axes.grid'] = True\n",
    "image_data = fits.getdata(imgfile, ext=0)\n",
    "fig, _axs = plt.subplots(nrows=1, ncols=2, figsize=(16,6))\n",
    "axs = _axs.flatten()\n",
    "cmap = plt.cm.PRGn\n",
    "\n",
    "# Left plot\n",
    "im = axs[0].imshow(image_data, cmap=cmap, origin=\"lower\")\n",
    "fig.colorbar(im,ax=axs[0])\n",
    "\n",
    "# Zoomed plot\n",
    "im = axs[1].imshow(image_data[210:300, 210:300], cmap=cmap, origin=\"lower\")\n",
    "fig.colorbar(im,ax=axs[1])\n",
    "\n",
    "# Titles\n",
    "axs[0].set_title(\"WFI chip central mcrab source\")\n",
    "axs[1].set_title(\"Central source zoom\")\n"
   ]
  },
  {
   "cell_type": "markdown",
   "metadata": {},
   "source": [
    "### Create an spectrum (`makespec`)"
   ]
  },
  {
   "cell_type": "code",
   "execution_count": null,
   "metadata": {},
   "outputs": [],
   "source": [
    "# Create spectrum filtering the events with the condition given by \"EventFilter\" \n",
    "specfile = f\"spec_{base}.pha\"\n",
    "\n",
    "comm = (f\"makespec EvtFile={evtfile} Spectrum={specfile} clobber=yes RSPPath={xmldir} \" + \n",
    "        f\"EventFilter='(RA>359.95 || RA<0.05) && Dec>-0.05 && Dec<+0.05' \")\n",
    "#print(comm)\n",
    "run_comm(comm, \"Creating spectum with WFI\")"
   ]
  },
  {
   "cell_type": "markdown",
   "metadata": {},
   "source": [
    "### <span style=\"color:blue\">$\\textbf{Exercise}$</span>: \n",
    "#### Obtain the names of the the response matrix and the ancilliary response matrix (the “RMF” and the “ARF”). These names can be obtained by looking at the values of the RESPFILE and ANCRFILE keywords\n"
   ]
  },
  {
   "cell_type": "code",
   "execution_count": null,
   "metadata": {},
   "outputs": [],
   "source": [
    "f = fits.open(specfile)\n",
    "f.info()\n",
    "rmf = f[1].header['RESPFILE']\n",
    "arf = f[1].header['ANCRFILE']\n",
    "f.close()\n",
    "print(f\"Response Matrix (RMF):{rmf}\")\n",
    "print(f\"Ancilliary Response Matrix (ARF):{arf}\")"
   ]
  },
  {
   "cell_type": "code",
   "execution_count": null,
   "metadata": {},
   "outputs": [],
   "source": [
    "#run_comm('ln -s {}'.format(rmf), 'Linking to working directory')\n",
    "#run_comm('ln -s {}'.format(arf), 'Linking to working directory')\n",
    "\n",
    "# strip path in keywords to avoid very long values and update header\n",
    "rmf = os.path.basename(rmf)\n",
    "arf = os.path.basename(arf)\n",
    "f = fits.open(specfile, 'update')\n",
    "f[1].header['RESPFILE'] = rmf\n",
    "f[1].header['ANCRFILE'] = arf\n",
    "f.close()"
   ]
  },
  {
   "cell_type": "markdown",
   "metadata": {},
   "source": [
    "### Analyze the spectrum (XSPEC python interface)"
   ]
  },
  {
   "cell_type": "markdown",
   "metadata": {},
   "source": [
    "#### 1) fit spectrum in XSPEC"
   ]
  },
  {
   "cell_type": "code",
   "execution_count": null,
   "metadata": {},
   "outputs": [],
   "source": [
    "Plot.device = '/null'\n",
    "AllData.clear()\n",
    "AllModels.clear()\n",
    "s0 = Spectrum(specfile)\n",
    "Plot.device = \"/xs\"\n",
    "Plot.xAxis=\"keV\"\n",
    "Plot('ldata')"
   ]
  },
  {
   "cell_type": "markdown",
   "metadata": {},
   "source": [
    "#### 2) ignore energy bands where signal to noise ratio is small"
   ]
  },
  {
   "cell_type": "code",
   "execution_count": null,
   "metadata": {},
   "outputs": [],
   "source": [
    "# As there are bins with zero variance: ignore energy bands where signal to noise ratio is small\n",
    "s0.ignore(\"**-0.3\")\n",
    "s0.ignore(\"4.0-**\")\n",
    "Plot('ldata')"
   ]
  },
  {
   "cell_type": "markdown",
   "metadata": {},
   "source": [
    "#### 3) Define an absorbed power law model"
   ]
  },
  {
   "cell_type": "code",
   "execution_count": null,
   "metadata": {},
   "outputs": [],
   "source": [
    "m0 = Model(\"phabs*pow\")"
   ]
  },
  {
   "cell_type": "markdown",
   "metadata": {},
   "source": [
    "#### 4) rebin spectral data"
   ]
  },
  {
   "cell_type": "code",
   "execution_count": null,
   "metadata": {},
   "outputs": [],
   "source": [
    "binspec = f\"spec_{base}_rebin.pha\"\n",
    "\n",
    "comm = (f\"grppha infile={specfile} outfile={binspec} clobber=yes comm='group min 20 & exit'\")\n",
    "run_comm(comm, \"Rebinning spectrum\")"
   ]
  },
  {
   "cell_type": "markdown",
   "metadata": {},
   "source": [
    "### <span style=\"color:blue\">$\\textbf{Exercise}$</span>: \n",
    "#### Load rebinned PHA-file into XSPEC and fit an absorbed power-law to the 0.3-4 keV band\n"
   ]
  },
  {
   "cell_type": "code",
   "execution_count": null,
   "metadata": {},
   "outputs": [],
   "source": [
    "binspec = f\"spec_{base}_rebin.pha\"\n",
    "AllData.clear()\n",
    "AllModels.clear()\n",
    "s1 = Spectrum(binspec)\n",
    "m0 = Model(\"phabs*pegpwrlw\")\n",
    "s1.ignore(\"**-0.3\")\n",
    "s1.ignore(\"4.0-**\")\n",
    "Fit.perform()\n",
    "\n",
    "Plot(\"ldata\")\n",
    "m0.show()\n",
    "Plot.device = '/null'"
   ]
  },
  {
   "cell_type": "code",
   "execution_count": null,
   "metadata": {},
   "outputs": [],
   "source": [
    "print(f\"nH fit={m0.phabs.nH.values[0]:.3f}\")\n",
    "print(f\"Gamma fit={m0.pegpwrlw.PhoIndex.values[0]:.3f}\")"
   ]
  },
  {
   "cell_type": "markdown",
   "metadata": {},
   "source": [
    "#### 5) check PILEUP"
   ]
  },
  {
   "cell_type": "code",
   "execution_count": null,
   "metadata": {},
   "outputs": [],
   "source": [
    "# check PILEUP as the cause for spectral distortion (G~1.8 instead of G~2)\n",
    "evtfile = f\"sim_evt_{base}.fits\"\n",
    "f = fits.open(evtfile)\n",
    "PILEUP = f[1].data[\"PILEUP\"]\n",
    "print(\"The sum of PILEUP column is                  {}\".format(np.sum(PILEUP)))\n",
    "print(\"The mean of PILEUP column is                 {}\".format(PILEUP.mean()))\n",
    "print(\"The standard deviation of PILEUP column is   {}\".format(PILEUP.std()))\n",
    "print(\"The minimum of PILEUP column is              {}\".format(PILEUP.min()))\n",
    "print(\"The maximum of PILEUP column is              {}\".format(PILEUP.max()))\n",
    "print(\"The number of points used in calculation is  {}\".format(len(PILEUP)))"
   ]
  },
  {
   "cell_type": "markdown",
   "metadata": {
    "toc-nb-collapsed": true
   },
   "source": [
    "### <span style=\"color:blue\">$\\textbf{Exercise}$</span>:  \n",
    "#### change the pointing direction of the instrument away from the source in steps of 4' in right ascension and declination simultaneously. Take a look at the images of the source and the source count rate. What do you observe?"
   ]
  },
  {
   "cell_type": "code",
   "execution_count": null,
   "metadata": {},
   "outputs": [],
   "source": [
    "plt.rcParams['axes.grid'] = True # (Set to 'False' to avoid a warning about axes grids in latest versions of matplotlib\n",
    "# define values for the simulations\n",
    "noffs = 3 # number of offsets (in steps of 4 arcmin)\n",
    "xml = f\"{xmldir}/ld_wfi_ff_large.xml\"\n",
    "\n",
    "# source is always the same\n",
    "simputfile = f\"{base}.fits\"\n",
    "\n",
    "# change pointing direction\n",
    "plt.clf()\n",
    "fig, _axs = plt.subplots(nrows=1, ncols=noffs, figsize=(20,6))\n",
    "axs = _axs.flatten()\n",
    "# Plotting 3 images of the source with the telescope moved away 4' and 8'\n",
    "for ioff in range(0,(noffs*3),4):\n",
    "    print(\"********************************\")\n",
    "    print(f\"Image for offset={ioff} arcm\")\n",
    "    print(\"********************************\")\n",
    "    i = int(ioff/3.) \n",
    "    base_dec = f\"mcrab_dec{ioff}\"\n",
    "    ra_off = ioff/60\n",
    "    dec_off = ioff/60. #deg\n",
    "    expos = 1000\n",
    "    simputfile_dec = f\"{base_dec}.simput\"\n",
    "            \n",
    "    # run simulation\n",
    "    evtfile_dec = f\"sim_evt_{base_dec}.fits\"\n",
    "    comm = (f\"runsixt XMLFile={xml} RA={ra_off} Dec={dec_off} Prefix='' \" + \n",
    "            f\"Simput={simputfile} EvtFile={evtfile_dec} Exposure={expos} clobber=yes\")\n",
    "    print(comm)\n",
    "    #run_comm(comm, \"Running simulation\")\n",
    "    \n",
    "    # create image\n",
    "    imgfile_dec = f\"img_{base_dec}.fits\"\n",
    "    comm = (f\"imgev EvtFile={evtfile_dec} Image={imgfile_dec} CoordinateSystem=0 \" +\n",
    "            f\"Projection=TAN NAXIS1=512 NAXIS2=512 CUNIT1=deg CUNIT2=deg CRVAL1={ra_off} CRVAL2={dec_off} \" + \n",
    "            f\"CRPIX1=256.5 CRPIX2=256.5 CDELT1=-6.207043e-04 CDELT2=6.207043e-04\")\n",
    "    print(comm)\n",
    "    #run_comm(comm, \"Creating image\")\n",
    "    \n",
    "    image_data = fits.getdata(imgfile_dec, ext=0)\n",
    "    cmap = plt.cm.PRGn\n",
    "    \n",
    "    from astropy.visualization import simple_norm\n",
    "    #norm = simple_norm(image_data, stretch='log', log_a=10000)\n",
    "    #im = axs[i].imshow(image_data, origin=\"lower\", cmap=cmap, norm=norm)\n",
    "    #im = axs[i].imshow(image_data, cmap=cmap, origin=\"lower\", norm=LogNorm(vmax=50))\n",
    "    im = axs[i].imshow(image_data, cmap=cmap, origin=\"lower\")\n",
    "    fig.colorbar(im,ax=axs[i])\n",
    "    tit = f\"offset={ioff}'  // Total_cts={np.sum(image_data)}\"\n",
    "    axs[i].set_title(tit)\n"
   ]
  },
  {
   "cell_type": "markdown",
   "metadata": {},
   "source": [
    "### <span style=\"color:blue\">$\\textbf{Exercise}$</span>:  \n",
    "#### a) In this exercise we continue studying the effects that bright sources have on the measurement process more. Using the Crab-like spectrum defined before, increase the source flux by a factor of 10, 100, and 1000 and redo the WFI simulation. Why can you prepare the simulation using *mcrab.fits* and `fv`, and without running simputfile?\n",
    "\n"
   ]
  },
  {
   "cell_type": "code",
   "execution_count": null,
   "metadata": {},
   "outputs": [],
   "source": [
    "# Re-using the XSPEC spectra file and thus, the SIMPUT file\n",
    "simputfile = f\"{base}.fits\"\n",
    "flux_ratio = [1, 10, 100, 1000]\n",
    "nfactors = len(flux_ratio)\n",
    "# colnames = f[extName].columns.names --> Use it in order to obtain the columns name to change it below\n",
    "\n",
    "# Create new simputfiles modifying the flux from the original simputfile\n",
    "for factor in flux_ratio:\n",
    "    new_simputfile = f\"{base}_factor{factor}.fits\"\n",
    "    f = fits.open(simputfile)\n",
    "    initial_flux = f[\"SRC_CAT\"].data[\"FLUX\"]\n",
    "    f[\"SRC_CAT\"].data[\"FLUX\"] = factor * initial_flux\n",
    "    f.writeto(new_simputfile, overwrite=True)\n",
    "    f.close()"
   ]
  },
  {
   "cell_type": "code",
   "execution_count": null,
   "metadata": {
    "tags": []
   },
   "outputs": [],
   "source": [
    "# do the simulation: CAREFUL!!! Simulations for FLUX=100*flux and 1000*flux take a long time to run!\n",
    "xml = f\"{xmldir}/ld_wfi_ff_large.xml\"\n",
    "expos = 1000\n",
    "for i in range(nfactors):\n",
    "    factor = flux_ratio[i]\n",
    "    new_simputfile = f\"{base}_factor{factor}.fits\"\n",
    "    new_evtfile = f\"sim_evt_{base}_factor{factor}.fits\"\n",
    "    # Run simulation\n",
    "    comm = (f\"runsixt XMLFile={xml} RA=0. Dec=0. Prefix='' Simput={new_simputfile} \" + \n",
    "            f\"EvtFile={new_evtfile} Exposure={expos} clobber=yes\")\n",
    "    #print(comm)\n",
    "    run_comm(comm, \"Simulating new fluxes\")"
   ]
  },
  {
   "cell_type": "markdown",
   "metadata": {},
   "source": [
    "#### b) Calculate the count rates of the simulations by looking at the number of events in the file. What do you notice? Take a look at the X-ray spectrum of the 2nd brightest simulation and compare the observed photon spectrum with your input photon index. "
   ]
  },
  {
   "cell_type": "code",
   "execution_count": null,
   "metadata": {},
   "outputs": [],
   "source": [
    "nevents = np.zeros(nfactors)\n",
    "for i in range(len(flux_ratio)):\n",
    "    factor = flux_ratio[i]\n",
    "    new_evtfile = f\"sim_evt_{base}_factor{factor}.fits\"\n",
    "    # number of events in the file\n",
    "    f = fits.open(new_evtfile)\n",
    "    nevents[i] = f[1].header[\"NAXIS2\"]\n",
    "    print(f\"Count rate for flux factor{factor}: {nevents[i]/expos} cts/s\")"
   ]
  },
  {
   "cell_type": "code",
   "execution_count": null,
   "metadata": {},
   "outputs": [],
   "source": [
    "# Create spectrum for 2nd brightest simulation (factor=100)\n",
    "factor = flux_ratio[2]\n",
    "new_specfile = f\"spec_{base}_factor{factor}.pha\"\n",
    "new_evtfile = f\"sim_evt_{base}_factor{factor}.fits\"\n",
    "\n",
    "comm = (f\"makespec EvtFile={new_evtfile} Spectrum={new_specfile} clobber=yes RSPPath={xmldir} \" + \n",
    "        f\"EventFilter='(RA>359.95 || RA<0.05) && Dec>-0.05 && Dec<+0.05' \")\n",
    "#print(comm)\n",
    "run_comm(comm, \"Creating spectum with WFI\")"
   ]
  },
  {
   "cell_type": "code",
   "execution_count": null,
   "metadata": {},
   "outputs": [],
   "source": [
    "# strip path in keywords to avoid very long values\n",
    "f = fits.open(new_specfile, 'update')\n",
    "f[1].header['RESPFILE'] = rmf\n",
    "f[1].header['ANCRFILE'] = arf\n",
    "f.close()"
   ]
  },
  {
   "cell_type": "code",
   "execution_count": null,
   "metadata": {},
   "outputs": [],
   "source": [
    "# rebin spectrum\n",
    "new_binspec = f\"spec_{base}_factor{factor}_rebin.pha\"\n",
    "comm = (f\"grppha infile={new_specfile} outfile={new_binspec} clobber=yes comm='group min 20 & exit'\")    \n",
    "run_comm(comm, \"Rebinning spectrum\")"
   ]
  },
  {
   "cell_type": "code",
   "execution_count": null,
   "metadata": {},
   "outputs": [],
   "source": [
    "# fit power law \n",
    "Plot.device = '/null'\n",
    "AllData.clear()\n",
    "AllModels.clear()\n",
    "s1 = Spectrum(new_binspec)\n",
    "m0 = Model(\"phabs*pegpwrlw\")\n",
    "s1.ignore(\"**-0.3\")\n",
    "s1.ignore(\"4.0-**\")\n",
    "Fit.perform()\n",
    "\n",
    "Plot(\"ldata\")\n",
    "m0.show()\n",
    "Plot.device = '/null'"
   ]
  },
  {
   "cell_type": "code",
   "execution_count": null,
   "metadata": {},
   "outputs": [],
   "source": [
    "# Get spectral index\n",
    "print(f\"Gamma fit={m0.pegpwrlw.PhoIndex.values[0]:.3f}\")"
   ]
  },
  {
   "cell_type": "markdown",
   "metadata": {},
   "source": [
    "### <span style=\"color:blue\">$\\textbf{Exercise}$</span>:  \n",
    "#### To get a better feeling for what is going on, plot the value of the FITS keywords NVALID, NPVALID, NINVALID, and NPINVALI as a function of the input flux. Why is the pile up fraction NPVALID/NVALID a good measure for the scientific quality of the data?"
   ]
  },
  {
   "cell_type": "code",
   "execution_count": null,
   "metadata": {},
   "outputs": [],
   "source": [
    "nvalid = np.zeros(nfactors)     # gives the total number of events that were classified as valid in the simulation\n",
    "npvalid = np.zeros(nfactors)    # fraction of valid events caused by two or more photons (pileup)\n",
    "ninvalid = np.zeros(nfactors)   # gives the total number of rejected events that were correctly classified as invalid during the simulation\n",
    "npinvali = np.zeros(nfactors)   #  the fraction of these invalid events affected by pile up\n",
    "\n",
    "for i in range(nfactors):\n",
    "    factor = flux_ratio[i]\n",
    "    new_evtfile = f\"sim_evt_{base}_factor{factor}.fits\"\n",
    "    \n",
    "    # Save the parameters wanted of the event file in an empty list\n",
    "    f = fits.open(new_evtfile)\n",
    "    nvalid[i] = (f['EVENTS'].header['NVALID'])\n",
    "    npvalid[i] = (f['EVENTS'].header['NPVALID'])\n",
    "    ninvalid[i] = (f['EVENTS'].header['NINVALID'])\n",
    "    npinvali[i] = (f['EVENTS'].header['NPINVALI'])\n",
    "\n",
    "    data_quality = npvalid[i]/nvalid[i]\n",
    "    print(\"###############################################################\")\n",
    "    print(f\"Valid events: {nvalid[i]} of which {npvalid[i]} are piled-up\")\n",
    "    print(f\"InValid events: {ninvalid[i]} of which {npinvali[i]} are piled-up\")\n",
    "    print(f\"Data quality={data_quality:.3f}\")\n",
    "    print(\"###############################################################\")\n",
    "    f.close\n",
    "\n",
    "print(f\"NVALID:   {nvalid}\")\n",
    "print(f\"NPVALID:  {npvalid}\")\n",
    "print(f\"NINVALID: {ninvalid}\")\n",
    "print(f\"NPINVALI: {npinvali}\")"
   ]
  },
  {
   "cell_type": "code",
   "execution_count": null,
   "metadata": {},
   "outputs": [],
   "source": [
    "# Plot histogram of the data collected from the different simulations of the 4 fluxes.\n",
    "\n",
    "fig, _axs = plt.subplots(nrows=1, ncols=2, figsize=(20,6))\n",
    "axs = _axs.flatten()\n",
    "#flux_labels = ['1', '10', '100', '1000']\n",
    "flux_labels = [str(a) for a in flux_ratio]\n",
    "x = np.arange(len(flux_labels))\n",
    "width = 0.25\n",
    "axs[0].bar(x-0.75*width, nvalid, width/2, log=True, label=\"valid\")\n",
    "axs[0].bar(x-width/4, ninvalid, width/2, log=True, label=\"invalid\")\n",
    "axs[0].bar(x+width/4, npvalid, width/2, log=True,label=\"piled-up valid\")\n",
    "axs[0].bar(x+0.75*width, npinvali, width/2, log=True,label=\"piled-up invalid\")\n",
    "axs[0].set_xlabel(\"Flux ratio\")\n",
    "axs[0].set_ylabel('Events')\n",
    "axs[0].set_title('Event types for different fluxes')\n",
    "axs[0].set_xticks(x)\n",
    "axs[0].set_xticklabels(flux_labels)\n",
    "axs[0].legend()\n",
    "\n",
    "data_quality = (1-npvalid/nvalid)\n",
    "\n",
    "axs[1].plot(flux_ratio, data_quality, marker='o', linestyle='--')\n",
    "axs[1].set_xlabel(\"Flux ratio\")\n",
    "axs[1].set_ylabel(\"Data Quality\")"
   ]
  },
  {
   "cell_type": "markdown",
   "metadata": {},
   "source": [
    "### <span style=\"color:blue\">$\\textbf{Exercise}$</span>:  \n",
    "\n",
    "#### Generate a SIMPUT file with a harder spectral shape (e.g., Γ = 1.5) than our example source and has the same flux. Place the source at a position that is 10\" away from our source. Merge both SIMPUT files with the simputmerge tool (use `plist` to learn about the parameters of this tool!). Then run a 5 ks simulation and study how well you can separate both sources.\n",
    "\n",
    "    "
   ]
  },
  {
   "cell_type": "code",
   "execution_count": null,
   "metadata": {
    "tags": []
   },
   "outputs": [],
   "source": [
    "# xspec file\n",
    "AllModels.clear()\n",
    "AllData.clear()\n",
    "base_harder = \"hardersrc\"\n",
    "xcm_harder = f\"{base_harder}.xcm\"\n",
    "mod_harder = Model(\"phabs*pegpwrlw\")\n",
    "mod_harder.phabs.nH = 0.2\n",
    "mod_harder.pegpwrlw.PhoIndex = 1.5\n",
    "mod_harder.pegpwrlw.eMin = 2.\n",
    "mod_harder.pegpwrlw.eMax = 10.\n",
    "mod_harder.pegpwrlw.norm = 21.6 # same unabsorbed 2-10 keV flux as initial mcrab source (see Section 10.2.2)\n",
    "mod_harder.show()\n",
    "AllModels.calcFlux(\"2. 10.\")\n",
    "simput_flux_harder = AllModels(1).flux[0]\n",
    "\n",
    "clobber = True\n",
    "# If clobber is true and the file exists, it will be removed before creating a new one.\n",
    "if os.path.exists(xcm_harder):\n",
    "    if clobber:\n",
    "        os.remove(xcm_harder)\n",
    "    else:\n",
    "        raise Exception(\"Xspec file ({}) already exists: it will not be overwritten\".format(xcm_harder)) \n",
    "Xset.save(xcm_harder)"
   ]
  },
  {
   "cell_type": "code",
   "execution_count": null,
   "metadata": {},
   "outputs": [],
   "source": [
    "# simputfile\n",
    "simputfile10 = f\"{base_harder}_10.fits\"\n",
    "ra = 0.0\n",
    "dec10 = 10.0/3600 #deg\n",
    "Elow = 0.01 # to cover full range of ARF\n",
    "Eup = 20  # to cover full range of ARF\n",
    "Emin = 2\n",
    "Emax = 10\n",
    "\n",
    "comm = (f\"simputfile Simput={simputfile10} Src_Name=first RA={ra} Dec={dec10} srcFlux={simput_flux_harder} \" + \n",
    "        f\"Elow={Elow} Eup={Eup} NBins=1000 Emin={Emin} Emax={Emax} XSPECFile={xcm_harder} clobber=yes\")\n",
    "print(comm)\n",
    "#run_comm(comm, \"Creating simputfile\")"
   ]
  },
  {
   "cell_type": "code",
   "execution_count": null,
   "metadata": {},
   "outputs": [],
   "source": [
    "# merge simput files\n",
    "simput_merged10 = f\"{base}_{base_harder}_10_merged.fits\"\n",
    "comm = (f\"simputmerge Infile1={simputfile} Infile2={simputfile10} Outfile={simput_merged10} clobber=yes FetchExtensions=yes\")\n",
    "#print(comm)\n",
    "run_comm(comm, 'Merging original mcrab and newsrc_offset simput files')"
   ]
  },
  {
   "cell_type": "code",
   "execution_count": null,
   "metadata": {},
   "outputs": [],
   "source": [
    "# run 5 ks simulation\n",
    "expos=5000\n",
    "xml = f\"{xmldir}/ld_wfi_ff_large.xml\"\n",
    "evtfile_merged10 = f\"sim_evt_{base}_{base_harder}_10_merged.fits\"\n",
    "\n",
    "comm = (f\"runsixt XMLFile={xml} RA=0. Dec=0. Prefix='' Simput={simput_merged10} \" + \n",
    "        f\"EvtFile={evtfile_merged10} Exposure={expos} clobber=yes\")\n",
    "#print(comm)\n",
    "run_comm(comm, \"Simulating new fluxes\")"
   ]
  },
  {
   "cell_type": "code",
   "execution_count": null,
   "metadata": {},
   "outputs": [],
   "source": [
    "# study source separation (histogram of Dec positions) \n",
    "f = fits.open(evtfile_merged10)\n",
    "data = f['EVENTS'].data\n",
    "decVals = data['DEC']\n",
    "fig = plt.figure(figsize=(8, 4))\n",
    "ax1 = fig.add_subplot(1, 1, 1)\n",
    "ax1.set_xlabel(\"DEC ('')\")\n",
    "ax1.set_ylabel(\"# Counts\")\n",
    "# create histogram\n",
    "bh, bc, _ = ax1.hist(decVals[(decVals>-0.01) & (decVals<0.01)]*3600, bins=100, density=False, label=\"Histogram\", alpha=0.5)"
   ]
  },
  {
   "cell_type": "markdown",
   "metadata": {},
   "source": [
    "### <span style=\"color:blue\">$\\textbf{Exercise}$</span>:  \n",
    "#### Repeat the previous exercise for a source separation of 5'' and extract spectra for both sources. Generate corrected ARFs for the sources by adjusting the parameters of the `sixte_arfgen` call above and use your favorite X-ray spectral analysis program to see how the spectral shape is affected."
   ]
  },
  {
   "cell_type": "code",
   "execution_count": null,
   "metadata": {},
   "outputs": [],
   "source": [
    "# simputfile for src at 5\"\n",
    "simputfile5 = f\"{base_harder}_5.fits\"\n",
    "ra = 0.0\n",
    "dec5 = 5.0/3600 #deg\n",
    "Elow = 0.01 # to cover full range of ARF\n",
    "Eup = 20  # to cover full range of ARF\n",
    "Emin = 2\n",
    "Emax = 10\n",
    "\n",
    "comm = (f\"simputfile Simput={simputfile5} Src_Name=first RA={ra} Dec={dec5} srcFlux={simput_flux_harder} \" + \n",
    "        f\"Elow={Elow} Eup={Eup} NBins=1000 Emin={Emin} Emax={Emax} XSPECFile={xcm_harder} clobber=yes\")\n",
    "#print(comm)\n",
    "run_comm(comm, \"Creating simputfile\")"
   ]
  },
  {
   "cell_type": "code",
   "execution_count": null,
   "metadata": {},
   "outputs": [],
   "source": [
    "# merge simput files\n",
    "simput_merged5 = f\"{base}_{base_harder}_5_merged.fits\"\n",
    "comm = (f\"simputmerge Infile1={simputfile} Infile2={simputfile5} Outfile={simput_merged5} clobber=yes FetchExtensions=yes\")\n",
    "#print(comm)\n",
    "run_comm(comm, 'Merging original mcrab and newsrc_offset simput files')"
   ]
  },
  {
   "cell_type": "code",
   "execution_count": null,
   "metadata": {},
   "outputs": [],
   "source": [
    "# run 5 ks simulation\n",
    "expos=5000\n",
    "xml = f\"{xmldir}/ld_wfi_ff_large.xml\"\n",
    "evtfile_merged5 = f\"sim_evt_{base}_{base_harder}_5_merged.fits\"\n",
    "\n",
    "comm = (f\"runsixt XMLFile={xml} RA=0. Dec=0. Prefix='' Simput={simput_merged5} \" + \n",
    "        f\"EvtFile={evtfile_merged5} Exposure={expos} clobber=yes\")\n",
    "#print(comm)\n",
    "run_comm(comm, \"Simulating new fluxes\")"
   ]
  },
  {
   "cell_type": "code",
   "execution_count": null,
   "metadata": {},
   "outputs": [],
   "source": [
    "# study source separation (histogram of Dec positions) \n",
    "f = fits.open(evtfile_merged5)\n",
    "data = f['EVENTS'].data\n",
    "decVals = data['DEC']\n",
    "fig = plt.figure(figsize=(8, 4))\n",
    "ax1 = fig.add_subplot(1, 1, 1)\n",
    "ax1.set_xlabel(\"DEC ('')\")\n",
    "ax1.set_ylabel(\"# Counts\")\n",
    "# create histogram\n",
    "bh, bc, _ = ax1.hist(decVals[(decVals>-0.005) & (decVals<0.005)]*3600, bins=100, density=False, label=\"Histogram\", alpha=0.5)"
   ]
  },
  {
   "cell_type": "code",
   "execution_count": null,
   "metadata": {},
   "outputs": [],
   "source": [
    "# extract images + define regions + correct ARF\n",
    "radius = 5. # arcs\n",
    "\n",
    "for off in (5, 10):\n",
    "    arfcorr = f\"arf_corrected_{off}.fits\"\n",
    "    regcircle = f\"circle_{off}.reg\"\n",
    "    offgrad = off/3600.\n",
    "    image_merged = f\"img_{base}_{base_harder}_{off}_merged.fits\"\n",
    "    evtfile_merged = f\"sim_evt_{base}_{base_harder}_{off}_merged.fits\"\n",
    "\n",
    "    # extract image\n",
    "    comm = (f\"imgev EvtFile={evtfile_merged} Image={image_merged} CoordinateSystem=0 \" +\n",
    "            f\"Projection=TAN NAXIS1=512 NAXIS2=512 CUNIT1=deg CUNIT2=deg CRVAL1=0 CRVAL2=0 \" + \n",
    "            f\"CRPIX1=256.5 CRPIX2=256.5 CDELT1=-6.207043e-04 CDELT2=6.207043e-04\")\n",
    "    print(comm)\n",
    "    #run_comm(comm, f\"Extracting image with src at {off}\")\n",
    "    \n",
    "    # define region\n",
    "    with open(regcircle, 'w') as fw:\n",
    "        fw.write(\"fk5\\n\")\n",
    "        fw.write(f'circle(0.,{offgrad},{radius}\")')\n",
    "        \n",
    "    # correct ARF\n",
    "    comm = (f\"sixte_arfgen ARFCorr={arfcorr} XMLFile={xml} PointingRA=0.0 PointingDec=0.0 \" + \n",
    "            f\"SourceRA=0.0 SourceDec={offgrad} ImageFile={image_merged} regfile={regcircle}\")\n",
    "    print(comm)\n",
    "    #run_comm(comm,\"Correcting ARF for src at {off}\")\n"
   ]
  },
  {
   "cell_type": "code",
   "execution_count": null,
   "metadata": {},
   "outputs": [],
   "source": [
    "# spectrum of src at 5\" and 10\"\n",
    "radInDeg = radius/3600.  # 5\" radius\n",
    "for off in (5, 10):\n",
    "    RAmin = 360.-radInDeg\n",
    "    RAmax = 0.+radInDeg\n",
    "    DECmin = off/3600 - radInDeg\n",
    "    DECmax = off/3600 + radInDeg\n",
    "    filt = f\"'(RA>{RAmin}|| RA<{RAmax}) && Dec>{DECmin}&& Dec<+{DECmax}'\"\n",
    "    specfile = f\"{base_harder}_{off}_spec.fits\"\n",
    "    evtfile_merged = f\"sim_evt_{base}_{base_harder}_{off}_merged.fits\"\n",
    "    comm = (f\"makespec EvtFile={evtfile_merged} Spectrum={specfile} clobber=yes RSPPath={xmldir} EventFilter={filt}\")\n",
    "    #print(comm)\n",
    "    run_comm(comm, \"Extracting spectrum of source at 5\")"
   ]
  },
  {
   "cell_type": "code",
   "execution_count": null,
   "metadata": {},
   "outputs": [],
   "source": [
    "# assign new ARFs in headers\n",
    "for off in (5,10):\n",
    "    arfcorr = f\"arf_corrected_{off}.fits\"\n",
    "    specfile = f\"{base_harder}_{off}_spec.fits\"\n",
    "    f = fits.open(specfile, 'update')\n",
    "    rmflong = f[1].header['RESPFILE'] \n",
    "    rmf = os.path.basename(rmflong)\n",
    "    f[1].header['RESPFILE'] = rmf # strip path to avoid large names (local symlink)\n",
    "    f[1].header['ANCRFILE'] = arfcorr\n",
    "    f.close()"
   ]
  },
  {
   "cell_type": "code",
   "execution_count": null,
   "metadata": {},
   "outputs": [],
   "source": [
    "# rebin spectra\n",
    "for off in (5, 10):\n",
    "    specfile = f\"{base_harder}_{off}_spec.fits\"\n",
    "    rebin = f\"{base_harder}_{off}_spec.grp\"\n",
    "    comm = (f\"grppha infile={specfile} outfile={rebin} clobber=yes comm='group min 20 & exit'\")\n",
    "    run_comm(comm, f'Rebinning spectrum of src at {off}\"')"
   ]
  },
  {
   "cell_type": "code",
   "execution_count": null,
   "metadata": {},
   "outputs": [],
   "source": [
    "# fit spectra to show variation of spectral shape \n",
    "# Remember to run the first simulation in order to ge s0 spectrum\n",
    "Gammas = dict()\n",
    "for off in (5, 10):\n",
    "    rebin = f\"{base_harder}_{off}_spec.grp\"\n",
    "    Plot.device = '/null'\n",
    "    AllData.clear()\n",
    "    AllModels.clear()\n",
    "    Plot.device = \"/xs\"\n",
    "    Plot.xAxis=\"KeV\"\n",
    "    m = Model(\"phabs*pow\")\n",
    "    s0 = Spectrum(rebin)\n",
    "    s0.ignore(\"**-0.3\")\n",
    "    s0.ignore(\"4.0-**\")\n",
    "\n",
    "    Fit.perform()\n",
    "    Plot(\"ldata\")\n",
    "    Gammas[off] = m. powerlaw.PhoIndex.values[0]\n",
    "    time.sleep(5) # Add delay to separate the plots"
   ]
  },
  {
   "cell_type": "code",
   "execution_count": null,
   "metadata": {},
   "outputs": [],
   "source": [
    "for off in (5, 10):\n",
    "    print(f'Spectral Index for {off}\" source: {Gammas[off]:.3f}')"
   ]
  },
  {
   "cell_type": "markdown",
   "metadata": {},
   "source": [
    "### <span style=\"color:blue\">$\\textbf{Exercise}$</span>:  \n",
    "#### In order to quantify the mixing of photons from both sources further, we can take a look at the diagnostic information contained in the event file. Specifically, use the FTOOL `fselect` and, using the row selection syntax, generate a new event file for one of the two sources by selecting the events in the region around the source. Determine the fraction of photons from the other source that “contaminate” the selection region by using the information in the `SRC_ID` column of the event file. For each event, this column contains information about the source in which it originated, in form of the ID of that source in the SIMPUT file.\n"
   ]
  },
  {
   "cell_type": "code",
   "execution_count": null,
   "metadata": {},
   "outputs": [],
   "source": [
    "# get selected events in central source region\n",
    "evt0 = \"sim_evt_0.fits\"\n",
    "radInDeg = 5./3600.\n",
    "RAmin = 360.-radInDeg\n",
    "RAmax = 0.+radInDeg\n",
    "\n",
    "DECmin = 0. - radInDeg\n",
    "DECmax = 0. + radInDeg\n",
    "filt = f\"'(RA>{RAmin}|| RA<{RAmax}) && Dec>{DECmin}&& Dec<+{DECmax}'\"\n",
    "comm = (f\"fselect infile={evtfile_merged5}+1 outfile={evt0} expr={filt} clobber=yes\")\n",
    "run_comm(comm, \"Selecting events for source at centre\")\n",
    "\n",
    "# get selected events in 5\" offset source region\n",
    "evt5 = \"sim_evt_5.fits\"\n",
    "DECmin = 5./3600 - radInDeg\n",
    "DECmax = 5./3600 + radInDeg\n",
    "filt = f\"'(RA>{RAmin}|| RA<{RAmax}) && Dec>{DECmin}&& Dec<+{DECmax}'\"\n",
    "comm = (f\"fselect infile={evtfile_merged5}+1 outfile={evt5} expr={filt} clobber=yes\")\n",
    "run_comm(comm, \"Selecting events for source at 5\")\n",
    "    "
   ]
  },
  {
   "cell_type": "code",
   "execution_count": null,
   "metadata": {},
   "outputs": [],
   "source": [
    "# Total counts (both sources)\n",
    "f = fits.open(evtfile_merged5)\n",
    "data = f['EVENTS'].data\n",
    "print(\"Total number of photons in both sources (central & 5' offset)=\",data.shape[0])\n",
    "f.close\n",
    "\n",
    "# Counts from central source\n",
    "f = fits.open(evt0)\n",
    "data = f['EVENTS'].data\n",
    "idVals = data['SRC_ID']\n",
    "f.close\n",
    "nph = len(idVals)\n",
    "nph2 =len(idVals[idVals[:,0]==2][:,0])\n",
    "print(f'SRC1 (central): Number of photons from src2 (5\" offset) = {nph2} ({nph2/nph*100:.2f} %)')\n",
    "\n",
    "# Counts from 5\" offset source\n",
    "f = fits.open(evt5)\n",
    "data = f['EVENTS'].data\n",
    "idVals = data['SRC_ID']\n",
    "f.close\n",
    "nph = len(idVals)\n",
    "nph1 =len(idVals[idVals[:,0]==1][:,0])\n",
    "print(f'SRC2 (5\" offset): Number of photons from src1 (central) = {nph1} ({nph1/nph*100:.2f} %)')\n"
   ]
  }
 ],
 "metadata": {
  "kernelspec": {
   "display_name": "Python 3",
   "language": "python",
   "name": "python3"
  },
  "language_info": {
   "codemirror_mode": {
    "name": "ipython",
    "version": 3
   },
   "file_extension": ".py",
   "mimetype": "text/x-python",
   "name": "python",
   "nbconvert_exporter": "python",
   "pygments_lexer": "ipython3",
   "version": "3.10.0"
  },
  "toc": {
   "base_numbering": 1,
   "nav_menu": {},
   "number_sections": true,
   "sideBar": true,
   "skip_h1_title": false,
   "title_cell": "Table of Contents",
   "title_sidebar": "Contents",
   "toc_cell": false,
   "toc_position": {},
   "toc_section_display": true,
   "toc_window_display": false
  },
  "varInspector": {
   "cols": {
    "lenName": 16,
    "lenType": 16,
    "lenVar": 40
   },
   "kernels_config": {
    "python": {
     "delete_cmd_postfix": "",
     "delete_cmd_prefix": "del ",
     "library": "var_list.py",
     "varRefreshCmd": "print(var_dic_list())"
    },
    "r": {
     "delete_cmd_postfix": ") ",
     "delete_cmd_prefix": "rm(",
     "library": "var_list.r",
     "varRefreshCmd": "cat(var_dic_list()) "
    }
   },
   "types_to_exclude": [
    "module",
    "function",
    "builtin_function_or_method",
    "instance",
    "_Feature"
   ],
   "window_display": false
  }
 },
 "nbformat": 4,
 "nbformat_minor": 4
}
