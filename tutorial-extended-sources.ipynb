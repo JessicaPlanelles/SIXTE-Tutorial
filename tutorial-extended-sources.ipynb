{
 "cells": [
  {
   "cell_type": "markdown",
   "id": "bc3ccb9f-09d1-4829-a952-c0655209d34b",
   "metadata": {},
   "source": [
    "# 10.5 Extended source simulations\n",
    "\n",
    "So far, we have only dealt with simulations for single or multiple point sources. In the next step of the tutorial\n",
    "we give an example for simulating data from extended sources.\n"
   ]
  },
  {
   "cell_type": "code",
   "execution_count": null,
   "id": "54b1f237-3461-4099-9c70-7c7997a579fb",
   "metadata": {},
   "outputs": [],
   "source": [
    "import matplotlib.colors as colors\n",
    "import matplotlib.image as mpimg\n",
    "import matplotlib.pyplot as plt\n",
    "import numpy as np\n",
    "import os\n",
    "import time\n",
    "import tempfile\n",
    "\n",
    "from astropy.io import fits\n",
    "from astropy.wcs import WCS\n",
    "from astropy.visualization import astropy_mpl_style\n",
    "from datetime import datetime\n",
    "from funcs import run_comm\n",
    "from subprocess import check_call, STDOUT\n",
    "from xspec import Xset, Plot, AllData, ModelManager, Spectrum, Model, AllModels, Fit\n",
    "\n",
    "plt.style.use(astropy_mpl_style)"
   ]
  },
  {
   "cell_type": "code",
   "execution_count": null,
   "id": "f9220f82-308f-447e-b522-dc76e83612d8",
   "metadata": {},
   "outputs": [],
   "source": [
    "tmpDir = tempfile.mkdtemp()\n",
    "os.environ[\"PFILES\"] = tmpDir + \":\" + os.environ[\"PFILES\"]\n",
    "os.environ[\"HEADASNOQUERY\"] = \"\"\n",
    "os.environ[\"HEADASPROMPT\"] = \"/dev/null/\"\n",
    "SIXTE = os.environ[\"SIXTE\"]\n",
    "xmldir = f\"{SIXTE}/share/sixte/instruments/athena-wfi/wfi_wo_filter_B4C\"\n",
    "\n",
    "xml0=\"{}/ld_wfi_ff_chip0.xml\".format(xmldir)\n",
    "xml1=\"{}/ld_wfi_ff_chip1.xml\".format(xmldir)\n",
    "xml2=\"{}/ld_wfi_ff_chip2.xml\".format(xmldir)\n",
    "xml3=\"{}/ld_wfi_ff_chip3.xml\".format(xmldir)"
   ]
  },
  {
   "cell_type": "markdown",
   "id": "e27b8976-9698-4da2-9e05-07f92739f978",
   "metadata": {},
   "source": [
    "## 10.5.1 Generating the SIMPUT file"
   ]
  },
  {
   "cell_type": "markdown",
   "id": "068a539c-0a8b-40cc-b1dd-5c0717b33b96",
   "metadata": {},
   "source": [
    "Download Chandra images:\n",
    "\n",
    "https://chandra.harvard.edu/photo/2014/etacar/fits/etaCar_xray_low.fits  (0.5-1.2 keV)  \n",
    "https://chandra.harvard.edu/photo/2014/etacar/fits/etaCar_xray_med.fits  (1.2-2.0 keV)  \n",
    "https://chandra.harvard.edu/photo/2014/etacar/fits/etaCar_xray_hi.fits   (2.0-7.0 keV)  "
   ]
  },
  {
   "cell_type": "code",
   "execution_count": null,
   "id": "4011fe93-da60-4331-a25a-cf2a170ad54a",
   "metadata": {},
   "outputs": [],
   "source": [
    "# get source position form the image  etaCar_xray_low.fits\n",
    "f = fits.open('etaCar_xray_hi.fits')\n",
    "RAsrc = f[0].header['CRVAL1']\n",
    "Decsrc = f[0].header['CRVAL2']\n",
    "f.close()\n",
    "\n",
    "# Use flux data from bibliography\n",
    "flux_centralsrc_3_8 = 1E-11 # erg/cm2/s from Hamaguchi et al. 2014  -> assign it to the whole image\n",
    "flux_diffemission_02_10 = 2.2E-12 # erg/cm2/s Seward et al. 2001\n",
    "\n",
    "# Define bands and energt limits\n",
    "E_minmax = {\"high\" : [2.,7.],\n",
    "            \"med\"  : [1.2,2.],\n",
    "            \"low\"  : [0.5,1.2]\n",
    "           }\n",
    "E_lowup = {\"high\" : [2.,10.],\n",
    "           \"med\"  : [1.0,2.5],\n",
    "           \"low\"  : [0.1,1.5]\n",
    "          }"
   ]
  },
  {
   "cell_type": "code",
   "execution_count": null,
   "id": "e3da5321-2893-442f-b606-bac0a0bfb9fb",
   "metadata": {},
   "outputs": [],
   "source": [
    "# xspec file (simple powerlaw emission model with constant flux (Hamaguchi et al. 2014 does not give spectral parameters)\n",
    "\n",
    "xcm = \"constflux.xcm\"\n",
    "\n",
    "AllModels.clear()\n",
    "AllData.clear()\n",
    "mcmod = Model(\"power\")\n",
    "mcmod.powerlaw.PhoIndex = 1\n",
    "mcmod.powerlaw.norm = 1\n",
    "\n",
    "clobber = True\n",
    "# If clobber is true and the file exists, it will be removed before creating a new one.\n",
    "if os.path.exists(xcm):\n",
    "    if clobber:\n",
    "        os.remove(xcm)\n",
    "    else:\n",
    "        raise Exception(f\"Xspec file ({xcm}) already exists: it will not be overwritten\") \n",
    "Xset.save(xcm)"
   ]
  },
  {
   "cell_type": "code",
   "execution_count": null,
   "id": "b0cf38ea-7f88-4d30-941e-48f6a3702fed",
   "metadata": {},
   "outputs": [],
   "source": [
    "# create simput file simput file \n",
    "f = fits.open('etaCar_xray_hi.fits')\n",
    "RA = f[0].header['CRVAL1']\n",
    "Dec = f[0].header['CRVAL2']\n",
    "f.close()\n",
    "\n",
    "sim_file_high = 'etaCar_high.fits'\n",
    "comm = (f'simputfile Simput={sim_file_high} RA={RA} Dec={Dec} srcFlux={flux_centralsrc_3_8} ' + \n",
    "        f'Emin=3. Emax=8. Elow=2. Eup=10. XSPECFile={xcm} ImageFile=etaCar_xray_hi.fits clobber=yes')\n",
    "#print(comm)\n",
    "run_comm(comm, 'Creating simput file for eta car')"
   ]
  },
  {
   "cell_type": "markdown",
   "id": "dd709f45-4076-4de7-b657-0a6d481a964c",
   "metadata": {},
   "source": [
    "## 10.5.1 Simulating the observation"
   ]
  },
  {
   "cell_type": "code",
   "execution_count": null,
   "id": "1d0a91dd-da9f-41f1-8bbe-de347b10e1fb",
   "metadata": {},
   "outputs": [],
   "source": [
    "# Running simulation\n",
    "prefix = \"high_\"\n",
    "RApoint = 161.56\n",
    "DECpoint = -59.52\n",
    "comm = (f'athenawfisim XMLFile0={xml0} XMLFile1={xml1} XMLFile2={xml2} XMLFile3={xml3} RA={RApoint} Dec={DECpoint} ' +\n",
    "        f'Prefix={prefix} Simput={sim_file_high} Exposure=1000 clobber=yes')\n",
    "#print(comm)\n",
    "run_comm(comm,'Creating simput file for eta car')"
   ]
  },
  {
   "cell_type": "code",
   "execution_count": null,
   "id": "6cb07e2f-a4b9-48c5-bda3-d0ca53e4af66",
   "metadata": {},
   "outputs": [],
   "source": [
    "# Merging chips\n",
    "evt_final_high = 'etaCar_high_chip_merged.fits'\n",
    "\n",
    "comm = (f'ftmerge {prefix}chip0_evt.fits,{prefix}chip1_evt.fits,{prefix}chip2_evt.fits,{prefix}chip3_evt.fits ' + \n",
    "        f'{evt_final_high} clobber=yes')\n",
    "run_comm(comm, 'Merging 4 event files')"
   ]
  },
  {
   "cell_type": "code",
   "execution_count": null,
   "id": "c355f8fb-b286-43fe-a470-70cffd205d01",
   "metadata": {},
   "outputs": [],
   "source": [
    "# Create the image of the merged evt file \n",
    "img_final_high = 'etaCar_high_merged_img.fits'\n",
    "comm = (f'imgev EvtFile={evt_final_high} Image={img_final_high} CoordinateSystem=0 Projection=TAN NAXIS1=1063 ' +\n",
    "        f'NAXIS2=1063 CUNIT1=deg CUNIT2=deg CRVAL1={RApoint} CRVAL2={DECpoint} CRPIX1=532 CRPIX2=532 ' + \n",
    "        f'CDELT1=-6.207043e-04 CDELT2=6.207043e-04 history=true clobber=yes')\n",
    "#print(comm)\n",
    "run_comm(comm, \"Creating image from merged evt file\")"
   ]
  },
  {
   "cell_type": "code",
   "execution_count": null,
   "id": "a116582f-c511-4fda-a3d4-0814255ca01c",
   "metadata": {},
   "outputs": [],
   "source": [
    "image_data = fits.getdata(img_final_high, ext=0)\n",
    "hdu = fits.open(img_final_high)[0]\n",
    "wcs = WCS(hdu.header)\n",
    "\n",
    "fig = plt.figure(figsize=(14,8))\n",
    "fig.suptitle(\"SImulation of the CDFS (5 ks)\")\n",
    "#cmap = plt.cm.winter\n",
    "cmap = plt.cm.Blues_r\n",
    "\n",
    "#plot image\n",
    "ax = fig.add_subplot(1, 1, 1, projection=wcs)\n",
    "im = ax.imshow(image_data, cmap=cmap, norm=colors.LogNorm(vmin=1e-5, vmax=np.max(image_data), clip=True), origin=\"lower\")\n",
    "ax.set_xlabel(\"RA\")\n",
    "ax.set_ylabel(\"Dec\")\n",
    "fig.colorbar(im,ax=ax, pad=0.1)\n",
    "plt.tight_layout();"
   ]
  },
  {
   "cell_type": "markdown",
   "id": "8cdcb5a4-0e04-4e7d-bfa9-99e1424b79b8",
   "metadata": {},
   "source": [
    "### <span style=\"color:blue\">$\\textbf{Exercise}$</span>:\n",
    "#### Generate a spectrum of chip0 and verify that indeed only photons between 2 and 10 keV are generated. Where do the photons detected below 2 keV come from?"
   ]
  },
  {
   "cell_type": "code",
   "execution_count": null,
   "id": "acb14b1e-3014-4224-af82-66091c05324e",
   "metadata": {},
   "outputs": [],
   "source": [
    "# Create spectrum\n",
    "spec_file = f'{prefix}chip0_spec.pha'\n",
    "comm = (f\"makespec EvtFile={prefix}chip0_evt.fits Spectrum={spec_file} clobber=yes RSPPath={xmldir}\")\n",
    "#print(comm)\n",
    "run_comm(comm,'Generating spectrum for chip0')"
   ]
  },
  {
   "cell_type": "code",
   "execution_count": null,
   "id": "4d7c15d9-bdff-45c3-8579-770d0a68e20d",
   "metadata": {},
   "outputs": [],
   "source": [
    "# shorten ARF and RMF paths\n",
    "f = fits.open(spec_file)\n",
    "rmf = f[1].header['RESPFILE']\n",
    "arf = f[1].header['ANCRFILE']\n",
    "f.close()\n",
    "\n",
    "## create symlinks if not already done (uncomment)\n",
    "#run_comm('ln -s {}'.format(rmf), 'Linking to working directory')\n",
    "#run_comm('ln -s {}'.format(arf), 'Linking to working directory')\n",
    "\n",
    "# strip path in keywords to avoid very long values and update header\n",
    "rmf = os.path.basename(rmf)\n",
    "arf = os.path.basename(arf)\n",
    "f = fits.open(spec_file, 'update')\n",
    "f[1].header['RESPFILE'] = rmf\n",
    "f[1].header['ANCRFILE'] = arf\n",
    "f.close()"
   ]
  },
  {
   "cell_type": "code",
   "execution_count": null,
   "id": "4964406e-1599-45a1-8889-4dc647798f16",
   "metadata": {},
   "outputs": [],
   "source": [
    "# Plot spectrum\n",
    "Plot.device = '/null'\n",
    "AllData.clear()\n",
    "AllModels.clear()\n",
    "\n",
    "Plot.device = \"/xs\"\n",
    "Plot.xAxis=\"keV\"\n",
    "s1 = Spectrum(spec_file)\n",
    "Plot(\"ldata\")\n",
    "Plot.device = '/null'"
   ]
  },
  {
   "cell_type": "markdown",
   "id": "c061b4b7-deda-4b40-9469-25cadd7a5dbb",
   "metadata": {},
   "source": [
    "### <span style=\"color:blue\">$\\textbf{Exercise}$</span>:\n",
    "#### Generate two more SIMPUT files using the *medium* and *low* band, merge them with `simputmerge`, and perform a new WFI simulation.\n"
   ]
  },
  {
   "cell_type": "code",
   "execution_count": null,
   "id": "527909ee-f09f-44e3-8a4d-638b238988a6",
   "metadata": {},
   "outputs": [],
   "source": [
    "# simput file\n",
    "\n",
    "for band in ['med','low']: \n",
    "    sim_file = f'etaCar_{band}.fits'\n",
    "    img_file = f'etaCar_xray_{band}.fits'\n",
    "    DeltaE = E_minmax[band][1] - E_minmax[band][0]\n",
    "    flux = flux_centralsrc_3_8/5.*DeltaE \n",
    "    comm = (f'simputfile Simput={sim_file} RA={RA} Dec={Dec} srcFlux={flux} Emin={E_minmax[band][0]} Emax={E_minmax[band][1]} ' + \n",
    "            f'Elow={E_lowup[band][0]} Eup={E_lowup[band][1]} XSPECFile={xcm} ImageFile={img_file} clobber=yes')\n",
    "    #print(comm)\n",
    "    run_comm(comm, 'Creating simput file for eta car in band {band}')"
   ]
  },
  {
   "cell_type": "code",
   "execution_count": null,
   "id": "f87afa38-6903-4d01-9001-67a6357a1187",
   "metadata": {},
   "outputs": [],
   "source": [
    "# Merge high, med and low  evt files (high obtained in the cells above)\n",
    "opt = \"clobber=yes FetchExtensions=yes\"\n",
    "simput_file_allbands = 'etaCar_allbands.fits'\n",
    "\n",
    "comm = (f\"simputmerge {opt} Infile1=etaCar_low.fits Infile2=etaCar_med.fits Outfile=tmp.fits\")\n",
    "#print(comm)\n",
    "run_comm(comm, \"Merging simputfiles _low_ and _med_\")\n",
    "\n",
    "comm = (f\"simputmerge {opt} Infile1=etaCar_high.fits Infile2=tmp.fits Outfile={simput_file_allbands}\")\n",
    "#print(comm)\n",
    "run_comm(comm, \"Merging simputfiles _low_, _med_ and _high\")"
   ]
  },
  {
   "cell_type": "code",
   "execution_count": null,
   "id": "e88845e1-0859-42f1-ba26-66207e24f44b",
   "metadata": {},
   "outputs": [],
   "source": [
    "# Run the new simulation and merge the 4 chips\n",
    "base = \"etaCar_\"\n",
    "comm = (f'athenawfisim XMLFile0={xml0} XMLFile1={xml1} XMLFile2={xml2} XMLFile3={xml3} RA={RApoint} Dec={DECpoint} ' + \n",
    "        f'Prefix={base} Simput={simput_file_allbands} Exposure=1000 clobber=yes')\n",
    "#print(comm)\n",
    "run_comm(comm, 'Running simulation for eta car all bands')\n",
    "\n",
    "# mergin all chips\n",
    "evt_final_merged = f'{base}allbands_merged_evt.fits'\n",
    "comm = (f'ftmerge {base}chip0_evt.fits,{base}chip1_evt.fits,{base}chip2_evt.fits,{base}chip3_evt.fits ' + \n",
    "        f'{evt_final_merged} clobber=yes')\n",
    "#print(comm)\n",
    "run_comm(comm,'Merging 4 event files')\n"
   ]
  },
  {
   "cell_type": "markdown",
   "id": "e980da9e-efa2-4e31-81d8-03f70c9a1e5c",
   "metadata": {},
   "source": [
    "### <span style=\"color:blue\">$\\textbf{Exercise (harder)}$</span>:\n",
    "#### Rather than describing the spectral shapes with constants, describe the overall spectral shape of $\\eta$ Car and the Humunculus nebula using an apec model with a temperature of kT = 4 keV, absorbed by NH = 2 $\\cdot$ 10$^{22}$ cm$^{−2}$. Use XSPEC to determine the relative fluxes for the three energy bands for which Chandra images are available. Then generate three SIMPUT files, fixing the hard band flux to $10^{−11}$ cgs and the two lower fluxes to values appropriate for the absorbed apec model. Do not forget to set Eup and Elow appropriately. Perform the simulation again"
   ]
  },
  {
   "cell_type": "code",
   "execution_count": null,
   "id": "3d135700-6bf6-4064-86d9-0f00c7030a79",
   "metadata": {},
   "outputs": [],
   "source": [
    "# xspec file with apec model (https://heasarc.gsfc.nasa.gov/xanadu/xspec/manual/XSmodelApec.html) and phabs \n",
    "# (https://heasarc.gsfc.nasa.gov/xanadu/xspec/manual/node255.html)\n",
    "\n",
    "xcm = \"etaCar_apec.xcm\"\n",
    "\n",
    "AllData.clear()\n",
    "AllModels.clear()\n",
    "mcmod = Model(\"apec * phabs\")\n",
    "mcmod.apec.kT = 4\n",
    "mcmod.phabs.nH = 2\n",
    "\n",
    "# Fluxes for the 3 bands\n",
    "AllModels.calcFlux('2. 7.')\n",
    "flux_high_nonorm = mcmod.flux[0]\n",
    "\n",
    "AllModels.calcFlux('0.5 1.2')\n",
    "flux_low_nonorm = mcmod.flux[0]\n",
    "\n",
    "AllModels.calcFlux('1.2 2')\n",
    "flux_med_nonorm = mcmod.flux[0]\n",
    "\n",
    "flux = dict()\n",
    "flux[\"high\"] = 1E-11\n",
    "flux[\"low\"] = (flux_low_nonorm/flux_high_nonorm)*flux[\"high\"]\n",
    "flux[\"med\"] = (flux_med_nonorm/flux_high_nonorm)*flux[\"high\"]\n",
    "\n",
    "clobber = True\n",
    "# If clobber is true and the file exists, it will be removed before creating a new one.\n",
    "if os.path.exists(xcm):\n",
    "    if clobber:\n",
    "        os.remove(xcm)\n",
    "    else:\n",
    "        raise Exception(f\"Xspec file ({xcm}) already exists: it will not be overwritten\") \n",
    "Xset.save(xcm)"
   ]
  },
  {
   "cell_type": "code",
   "execution_count": null,
   "id": "e828aed0-2723-469a-a7ca-d09009b33552",
   "metadata": {},
   "outputs": [],
   "source": [
    "base = 'etaCar_apec_'\n",
    "for band in [\"low\", \"med\", \"high\"]:\n",
    "    sim_file = f\"{base}{band}.fits\"\n",
    "    img_band = band\n",
    "    if band == \"high\":\n",
    "        img_band = \"hi\"\n",
    "    comm = (f\"simputfile Simput={sim_file} RA={RA} Dec={Dec} srcFlux={flux[band]} \" + \n",
    "            f\"Emin={E_minmax[band][0]} Emax={E_minmax[band][1]} Elow={E_lowup[band][0]} Eup={E_lowup[band][1]} \" + \n",
    "            f\"XSPECFile={xcm} ImageFile=etaCar_xray_{img_band}.fits clobber=yes\")\n",
    "    #print(comm)\n",
    "    run_comm(comm, f\"Creating simput file for apec model and band {band}\")"
   ]
  },
  {
   "cell_type": "code",
   "execution_count": null,
   "id": "1b213f7e-a651-4864-864e-01757e95b920",
   "metadata": {},
   "outputs": [],
   "source": [
    "opt = \"clobber=yes FetchExtensions=yes\"\n",
    "simput_file_apec_allbands = 'etaCar_apec_allbands.fits'\n",
    "comm = (f\"simputmerge {opt} Infile1=etaCar_apec_low.fits Infile2=etaCar_apec_med.fits Outfile=tmp.fits\")\n",
    "#print(comm)\n",
    "run_comm(comm, \"Merging simputfiles _low_ and _med_\")\n",
    "comm = (f\"simputmerge {opt} Infile1=etaCar_apec_high.fits Infile2=tmp.fits Outfile={simput_file_apec_allbands}\")\n",
    "#print(comm)\n",
    "run_comm(comm, \"Merging simputfiles _low_ and _med_\")"
   ]
  },
  {
   "cell_type": "code",
   "execution_count": null,
   "id": "999d33a1-221d-4846-89c0-37a556282dd0",
   "metadata": {},
   "outputs": [],
   "source": [
    "# Run the new simulation and merge the 4 chips\n",
    "evt_final_merged = f'{base}allbands_merged_evt.fits'\n",
    "\n",
    "comm = (f'athenawfisim XMLFile0={xml0} XMLFile1={xml1} XMLFile2={xml2} XMLFile3={xml3} RA={RApoint} Dec={DECpoint} ' + \n",
    "        f'Prefix={base} Simput={simput_file_apec_allbands} Exposure=10000 clobber=yes')\n",
    "#print(comm)\n",
    "run_comm(comm,'Running simulation for eta car')\n",
    "comm = (f'ftmerge {base}chip0_evt.fits,{base}chip1_evt.fits,{base}chip2_evt.fits,{base}chip3_evt.fits {evt_final_merged} clobber=yes')\n",
    "#print(comm)\n",
    "run_comm(comm,'Merging 4 event files')"
   ]
  },
  {
   "cell_type": "markdown",
   "id": "6bf4a81e-c637-4693-9161-163e550e93df",
   "metadata": {},
   "source": [
    "### <span style=\"color:blue\">$\\textbf{Exercise (even harder)}$</span>:\n",
    "#### For each of the three images, use the Chandra dmcopy tool and an appropriately defined region filter to produce an image file of the humunculus nebula that does not include the central point source and an image file that only includes the point source. Prepare SIMPUT files that model the nebula with a different spectral shape than the point source, merge them with simputmerge, and run the simulation again, now having a very realistic model for the whole source."
   ]
  },
  {
   "cell_type": "markdown",
   "id": "2b3afeb5-2e40-4bb7-8066-dc74636ca44a",
   "metadata": {},
   "source": [
    "(in preparation)"
   ]
  }
 ],
 "metadata": {
  "kernelspec": {
   "display_name": "Python 3",
   "language": "python",
   "name": "python3"
  },
  "language_info": {
   "codemirror_mode": {
    "name": "ipython",
    "version": 3
   },
   "file_extension": ".py",
   "mimetype": "text/x-python",
   "name": "python",
   "nbconvert_exporter": "python",
   "pygments_lexer": "ipython3",
   "version": "3.10.0"
  }
 },
 "nbformat": 4,
 "nbformat_minor": 5
}
